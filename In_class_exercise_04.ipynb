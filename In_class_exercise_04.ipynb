{
 "cells": [
  {
   "cell_type": "markdown",
   "metadata": {},
   "source": [
    "# **The seventh in-class-exercise (40 points in total, 10/20/2021)**"
   ]
  },
  {
   "cell_type": "markdown",
   "metadata": {},
   "source": [
    "Question description: Please use the text corpus you collected in your last in-class-exercise for this exercise. Perform the following tasks:"
   ]
  },
  {
   "cell_type": "markdown",
   "metadata": {},
   "source": [
    "## (1) (15 points) Generate K topics by using LDA, the number of topics K should be decided by the coherence score, then summarize what are the topics. You may refer the code here: \n",
    "\n",
    "https://www.machinelearningplus.com/nlp/topic-modeling-gensim-python/"
   ]
  },
  {
   "cell_type": "code",
   "execution_count": 17,
   "metadata": {},
   "outputs": [],
   "source": [
    "# Load libraries\n",
    "import numpy as np\n",
    "import pandas as pd\n",
    "import nltk\n",
    "import random\n",
    "import re\n",
    "import seaborn as sns\n",
    "import matplotlib.pyplot as plt\n",
    "%matplotlib inline\n",
    "%config InlineBackend.figure_format = 'retina'"
   ]
  },
  {
   "cell_type": "code",
   "execution_count": 18,
   "metadata": {},
   "outputs": [],
   "source": [
    "from nltk.stem.snowball import SnowballStemmer\n",
    "from nltk.tokenize import word_tokenize\n",
    "from nltk.corpus import stopwords\n",
    "from sklearn.feature_extraction.text import TfidfVectorizer, CountVectorizer\n",
    "from sklearn.cluster import KMeans\n",
    "from yellowbrick.cluster import SilhouetteVisualizer\n",
    "from sklearn.decomposition import PCA, KernelPCA\n",
    "from sklearn.decomposition import LatentDirichletAllocation"
   ]
  },
  {
   "cell_type": "code",
   "execution_count": 19,
   "metadata": {},
   "outputs": [],
   "source": [
    "df = pd.read_csv(\"processed.csv\", header=0)\n"
   ]
  },
  {
   "cell_type": "code",
   "execution_count": 20,
   "metadata": {},
   "outputs": [
    {
     "data": {
      "text/html": [
       "<div>\n",
       "<style scoped>\n",
       "    .dataframe tbody tr th:only-of-type {\n",
       "        vertical-align: middle;\n",
       "    }\n",
       "\n",
       "    .dataframe tbody tr th {\n",
       "        vertical-align: top;\n",
       "    }\n",
       "\n",
       "    .dataframe thead th {\n",
       "        text-align: right;\n",
       "    }\n",
       "</style>\n",
       "<table border=\"1\" class=\"dataframe\">\n",
       "  <thead>\n",
       "    <tr style=\"text-align: right;\">\n",
       "      <th></th>\n",
       "      <th>text</th>\n",
       "      <th>sentiment</th>\n",
       "      <th>character_cnt</th>\n",
       "      <th>word_counts</th>\n",
       "      <th>characters_per_word</th>\n",
       "      <th>special_characters</th>\n",
       "      <th>num</th>\n",
       "      <th>result</th>\n",
       "    </tr>\n",
       "  </thead>\n",
       "  <tbody>\n",
       "    <tr>\n",
       "      <th>0</th>\n",
       "      <td>Wow. Yall needa step it up @Apple RT @heynyla:...</td>\n",
       "      <td>-1</td>\n",
       "      <td>105</td>\n",
       "      <td>20</td>\n",
       "      <td>5.250000</td>\n",
       "      <td>2</td>\n",
       "      <td>0</td>\n",
       "      <td>Negative</td>\n",
       "    </tr>\n",
       "    <tr>\n",
       "      <th>1</th>\n",
       "      <td>What Happened To Apple Inc?   http://t.co/FJEX...</td>\n",
       "      <td>0</td>\n",
       "      <td>101</td>\n",
       "      <td>10</td>\n",
       "      <td>10.100000</td>\n",
       "      <td>1</td>\n",
       "      <td>0</td>\n",
       "      <td>Neutral</td>\n",
       "    </tr>\n",
       "    <tr>\n",
       "      <th>2</th>\n",
       "      <td>Thank u @apple I can now compile all of the pi...</td>\n",
       "      <td>1</td>\n",
       "      <td>108</td>\n",
       "      <td>19</td>\n",
       "      <td>5.684211</td>\n",
       "      <td>1</td>\n",
       "      <td>0</td>\n",
       "      <td>Positive</td>\n",
       "    </tr>\n",
       "    <tr>\n",
       "      <th>3</th>\n",
       "      <td>The oddly uplifting story of the Apple co-foun...</td>\n",
       "      <td>0</td>\n",
       "      <td>115</td>\n",
       "      <td>17</td>\n",
       "      <td>6.764706</td>\n",
       "      <td>0</td>\n",
       "      <td>0</td>\n",
       "      <td>Neutral</td>\n",
       "    </tr>\n",
       "    <tr>\n",
       "      <th>4</th>\n",
       "      <td>@apple can i exchange my iphone for a differen...</td>\n",
       "      <td>0</td>\n",
       "      <td>77</td>\n",
       "      <td>15</td>\n",
       "      <td>5.133333</td>\n",
       "      <td>1</td>\n",
       "      <td>0</td>\n",
       "      <td>Neutral</td>\n",
       "    </tr>\n",
       "  </tbody>\n",
       "</table>\n",
       "</div>"
      ],
      "text/plain": [
       "                                                text  sentiment  \\\n",
       "0  Wow. Yall needa step it up @Apple RT @heynyla:...         -1   \n",
       "1  What Happened To Apple Inc?   http://t.co/FJEX...          0   \n",
       "2  Thank u @apple I can now compile all of the pi...          1   \n",
       "3  The oddly uplifting story of the Apple co-foun...          0   \n",
       "4  @apple can i exchange my iphone for a differen...          0   \n",
       "\n",
       "   character_cnt  word_counts  characters_per_word  special_characters  num  \\\n",
       "0            105           20             5.250000                   2    0   \n",
       "1            101           10            10.100000                   1    0   \n",
       "2            108           19             5.684211                   1    0   \n",
       "3            115           17             6.764706                   0    0   \n",
       "4             77           15             5.133333                   1    0   \n",
       "\n",
       "     result  \n",
       "0  Negative  \n",
       "1   Neutral  \n",
       "2  Positive  \n",
       "3   Neutral  \n",
       "4   Neutral  "
      ]
     },
     "execution_count": 20,
     "metadata": {},
     "output_type": "execute_result"
    }
   ],
   "source": [
    "df.head()"
   ]
  },
  {
   "cell_type": "code",
   "execution_count": 21,
   "metadata": {},
   "outputs": [
    {
     "data": {
      "text/plain": [
       "text                   0\n",
       "sentiment              0\n",
       "character_cnt          0\n",
       "word_counts            0\n",
       "characters_per_word    0\n",
       "special_characters     0\n",
       "num                    0\n",
       "result                 0\n",
       "dtype: int64"
      ]
     },
     "execution_count": 21,
     "metadata": {},
     "output_type": "execute_result"
    }
   ],
   "source": [
    "df.isnull().sum()"
   ]
  },
  {
   "cell_type": "code",
   "execution_count": 22,
   "metadata": {},
   "outputs": [
    {
     "data": {
      "text/plain": [
       "Neutral     801\n",
       "Negative    686\n",
       "Positive    143\n",
       "Name: result, dtype: int64"
      ]
     },
     "execution_count": 22,
     "metadata": {},
     "output_type": "execute_result"
    }
   ],
   "source": [
    "df.result.value_counts()"
   ]
  },
  {
   "cell_type": "code",
   "execution_count": 23,
   "metadata": {},
   "outputs": [
    {
     "name": "stdout",
     "output_type": "stream",
     "text": [
      "<class 'list'>\n",
      "1630\n"
     ]
    }
   ],
   "source": [
    "data = df.loc[:,'text'].tolist()\n",
    "print(type(data))\n",
    "print(len(data))"
   ]
  },
  {
   "cell_type": "code",
   "execution_count": 24,
   "metadata": {},
   "outputs": [
    {
     "data": {
      "text/plain": [
       "['Wow. Yall needa step it up @Apple RT @heynyla: Music and snapchat at the same damn time. Thank you #Note4',\n",
       " 'What Happened To Apple Inc?   http://t.co/FJEXI3oP0U  #aapl #apple @MoneyPress http://t.co/wXKmmTMArW',\n",
       " 'Thank u @apple I can now compile all of the pics that i communicate with in one place http://t.co/tq1lo09oyA']"
      ]
     },
     "execution_count": 24,
     "metadata": {},
     "output_type": "execute_result"
    }
   ],
   "source": [
    "data[:3]"
   ]
  },
  {
   "cell_type": "code",
   "execution_count": 25,
   "metadata": {},
   "outputs": [],
   "source": [
    "for _ in range(len(data)):\n",
    "    data[_] = re.sub(r'http\\S+', '', data[_])"
   ]
  },
  {
   "cell_type": "code",
   "execution_count": 26,
   "metadata": {},
   "outputs": [
    {
     "data": {
      "text/plain": [
       "['Wow. Yall needa step it up @Apple RT @heynyla: Music and snapchat at the same damn time. Thank you #Note4',\n",
       " 'What Happened To Apple Inc?     #aapl #apple @MoneyPress ',\n",
       " 'Thank u @apple I can now compile all of the pics that i communicate with in one place ']"
      ]
     },
     "execution_count": 26,
     "metadata": {},
     "output_type": "execute_result"
    }
   ],
   "source": [
    "data[:3]"
   ]
  },
  {
   "cell_type": "code",
   "execution_count": 27,
   "metadata": {},
   "outputs": [
    {
     "name": "stderr",
     "output_type": "stream",
     "text": [
      "[nltk_data] Downloading package stopwords to\n",
      "[nltk_data]     C:\\Users\\stech\\AppData\\Roaming\\nltk_data...\n",
      "[nltk_data]   Package stopwords is already up-to-date!\n",
      "[nltk_data] Downloading package punkt to\n",
      "[nltk_data]     C:\\Users\\stech\\AppData\\Roaming\\nltk_data...\n",
      "[nltk_data]   Package punkt is already up-to-date!\n"
     ]
    },
    {
     "data": {
      "text/plain": [
       "True"
      ]
     },
     "execution_count": 27,
     "metadata": {},
     "output_type": "execute_result"
    }
   ],
   "source": [
    "import nltk\n",
    "\n",
    "nltk.download('stopwords')\n",
    "nltk.download('punkt')"
   ]
  },
  {
   "cell_type": "code",
   "execution_count": 115,
   "metadata": {},
   "outputs": [],
   "source": [
    "stopwords = stopwords.words('english')"
   ]
  },
  {
   "cell_type": "code",
   "execution_count": 29,
   "metadata": {},
   "outputs": [],
   "source": [
    "def tokenization_and_stemming(text):\n",
    "    # Remove punctuation characters and numbers\n",
    "    text = re.sub(r\"[^a-zA-Z]\", \" \", text)\n",
    "    \n",
    "    # Tokenize text\n",
    "    tokens = word_tokenize(text)\n",
    "    \n",
    "    # Create a instance of stem class\n",
    "    stemmer = SnowballStemmer(\"english\")\n",
    "    \n",
    "    clean_tokens = []\n",
    "    for word in tokens:\n",
    "        clean_tok = stemmer.stem(word).lower().strip()\n",
    "        if clean_tok not in stopwords:\n",
    "            clean_tokens.append(clean_tok)\n",
    "\n",
    "    return clean_tokens"
   ]
  },
  {
   "cell_type": "code",
   "execution_count": 30,
   "metadata": {},
   "outputs": [
    {
     "data": {
      "text/plain": [
       "'What Happened To Apple Inc?     #aapl #apple @MoneyPress '"
      ]
     },
     "execution_count": 30,
     "metadata": {},
     "output_type": "execute_result"
    }
   ],
   "source": [
    "data[1]"
   ]
  },
  {
   "cell_type": "code",
   "execution_count": 31,
   "metadata": {},
   "outputs": [
    {
     "data": {
      "text/plain": [
       "['happen', 'appl', 'inc', 'aapl', 'appl', 'moneypress']"
      ]
     },
     "execution_count": 31,
     "metadata": {},
     "output_type": "execute_result"
    }
   ],
   "source": [
    "tokenization_and_stemming(data[1])"
   ]
  },
  {
   "cell_type": "code",
   "execution_count": 32,
   "metadata": {},
   "outputs": [],
   "source": [
    "LDA = LatentDirichletAllocation(n_components=5)"
   ]
  },
  {
   "cell_type": "code",
   "execution_count": 33,
   "metadata": {},
   "outputs": [
    {
     "name": "stdout",
     "output_type": "stream",
     "text": [
      "In total, there are 1630 reviews and 134 terms.\n"
     ]
    }
   ],
   "source": [
    "tf_lda = CountVectorizer(\n",
    "    max_df=0.99,\n",
    "    max_features=500,\n",
    "    min_df=0.01,\n",
    "    tokenizer=tokenization_and_stemming,\n",
    "    ngram_range=(1,1))\n",
    "\n",
    "\n",
    "tf_matrix_lda = tf_lda.fit_transform(data) \n",
    "\n",
    "\n",
    "print (\"In total, there are {} reviews and {} terms.\".format(\n",
    "    str(tf_matrix_lda.shape[0]), str(tf_matrix_lda.shape[1])\n",
    "))"
   ]
  },
  {
   "cell_type": "code",
   "execution_count": 34,
   "metadata": {},
   "outputs": [
    {
     "name": "stdout",
     "output_type": "stream",
     "text": [
      "(1630, 134)\n"
     ]
    }
   ],
   "source": [
    "print(tf_matrix_lda.shape)\n"
   ]
  },
  {
   "cell_type": "code",
   "execution_count": 35,
   "metadata": {},
   "outputs": [],
   "source": [
    "lda_feature_name = tf_lda.get_feature_names()\n"
   ]
  },
  {
   "cell_type": "code",
   "execution_count": 36,
   "metadata": {},
   "outputs": [
    {
     "name": "stdout",
     "output_type": "stream",
     "text": [
      "(1630, 5)\n"
     ]
    }
   ],
   "source": [
    "lda_output = LDA.fit_transform(tf_matrix_lda)\n",
    "print(lda_output.shape)"
   ]
  },
  {
   "cell_type": "code",
   "execution_count": 37,
   "metadata": {},
   "outputs": [
    {
     "name": "stdout",
     "output_type": "stream",
     "text": [
      "(5, 134)\n"
     ]
    }
   ],
   "source": [
    "topic_word = LDA.components_\n",
    "print(topic_word.shape)"
   ]
  },
  {
   "cell_type": "code",
   "execution_count": 38,
   "metadata": {},
   "outputs": [
    {
     "data": {
      "text/html": [
       "<div>\n",
       "<style scoped>\n",
       "    .dataframe tbody tr th:only-of-type {\n",
       "        vertical-align: middle;\n",
       "    }\n",
       "\n",
       "    .dataframe tbody tr th {\n",
       "        vertical-align: top;\n",
       "    }\n",
       "\n",
       "    .dataframe thead th {\n",
       "        text-align: right;\n",
       "    }\n",
       "</style>\n",
       "<table border=\"1\" class=\"dataframe\">\n",
       "  <thead>\n",
       "    <tr style=\"text-align: right;\">\n",
       "      <th></th>\n",
       "      <th>Topic0</th>\n",
       "      <th>Topic1</th>\n",
       "      <th>Topic2</th>\n",
       "      <th>Topic3</th>\n",
       "      <th>Topic4</th>\n",
       "      <th>topic</th>\n",
       "    </tr>\n",
       "  </thead>\n",
       "  <tbody>\n",
       "    <tr>\n",
       "      <th>Doc0</th>\n",
       "      <td>0.32</td>\n",
       "      <td>0.03</td>\n",
       "      <td>0.32</td>\n",
       "      <td>0.03</td>\n",
       "      <td>0.30</td>\n",
       "      <td>0</td>\n",
       "    </tr>\n",
       "    <tr>\n",
       "      <th>Doc1</th>\n",
       "      <td>0.04</td>\n",
       "      <td>0.84</td>\n",
       "      <td>0.04</td>\n",
       "      <td>0.04</td>\n",
       "      <td>0.04</td>\n",
       "      <td>1</td>\n",
       "    </tr>\n",
       "    <tr>\n",
       "      <th>Doc2</th>\n",
       "      <td>0.30</td>\n",
       "      <td>0.04</td>\n",
       "      <td>0.04</td>\n",
       "      <td>0.58</td>\n",
       "      <td>0.04</td>\n",
       "      <td>3</td>\n",
       "    </tr>\n",
       "    <tr>\n",
       "      <th>Doc3</th>\n",
       "      <td>0.05</td>\n",
       "      <td>0.80</td>\n",
       "      <td>0.05</td>\n",
       "      <td>0.05</td>\n",
       "      <td>0.05</td>\n",
       "      <td>1</td>\n",
       "    </tr>\n",
       "    <tr>\n",
       "      <th>Doc4</th>\n",
       "      <td>0.05</td>\n",
       "      <td>0.05</td>\n",
       "      <td>0.05</td>\n",
       "      <td>0.80</td>\n",
       "      <td>0.05</td>\n",
       "      <td>3</td>\n",
       "    </tr>\n",
       "    <tr>\n",
       "      <th>Doc5</th>\n",
       "      <td>0.03</td>\n",
       "      <td>0.60</td>\n",
       "      <td>0.32</td>\n",
       "      <td>0.03</td>\n",
       "      <td>0.03</td>\n",
       "      <td>1</td>\n",
       "    </tr>\n",
       "    <tr>\n",
       "      <th>Doc6</th>\n",
       "      <td>0.04</td>\n",
       "      <td>0.29</td>\n",
       "      <td>0.59</td>\n",
       "      <td>0.04</td>\n",
       "      <td>0.04</td>\n",
       "      <td>2</td>\n",
       "    </tr>\n",
       "    <tr>\n",
       "      <th>Doc7</th>\n",
       "      <td>0.03</td>\n",
       "      <td>0.36</td>\n",
       "      <td>0.55</td>\n",
       "      <td>0.03</td>\n",
       "      <td>0.03</td>\n",
       "      <td>2</td>\n",
       "    </tr>\n",
       "    <tr>\n",
       "      <th>Doc8</th>\n",
       "      <td>0.03</td>\n",
       "      <td>0.03</td>\n",
       "      <td>0.03</td>\n",
       "      <td>0.34</td>\n",
       "      <td>0.55</td>\n",
       "      <td>4</td>\n",
       "    </tr>\n",
       "    <tr>\n",
       "      <th>Doc9</th>\n",
       "      <td>0.03</td>\n",
       "      <td>0.03</td>\n",
       "      <td>0.03</td>\n",
       "      <td>0.88</td>\n",
       "      <td>0.03</td>\n",
       "      <td>3</td>\n",
       "    </tr>\n",
       "  </tbody>\n",
       "</table>\n",
       "</div>"
      ],
      "text/plain": [
       "      Topic0  Topic1  Topic2  Topic3  Topic4  topic\n",
       "Doc0    0.32    0.03    0.32    0.03    0.30      0\n",
       "Doc1    0.04    0.84    0.04    0.04    0.04      1\n",
       "Doc2    0.30    0.04    0.04    0.58    0.04      3\n",
       "Doc3    0.05    0.80    0.05    0.05    0.05      1\n",
       "Doc4    0.05    0.05    0.05    0.80    0.05      3\n",
       "Doc5    0.03    0.60    0.32    0.03    0.03      1\n",
       "Doc6    0.04    0.29    0.59    0.04    0.04      2\n",
       "Doc7    0.03    0.36    0.55    0.03    0.03      2\n",
       "Doc8    0.03    0.03    0.03    0.34    0.55      4\n",
       "Doc9    0.03    0.03    0.03    0.88    0.03      3"
      ]
     },
     "execution_count": 38,
     "metadata": {},
     "output_type": "execute_result"
    }
   ],
   "source": [
    "topic_names = [\"Topic\" + str(i) for i in range(LDA.n_components)]\n",
    "\n",
    "# Index names\n",
    "doc_names = [\"Doc\" + str(i) for i in range(len(data))]\n",
    "\n",
    "df_document_topic = pd.DataFrame(np.round(lda_output, 2), columns=topic_names, index=doc_names)\n",
    "\n",
    "# Get dominant topic for each document\n",
    "topic = np.argmax(df_document_topic.values, axis=1)\n",
    "df_document_topic['topic'] = topic\n",
    "\n",
    "df_document_topic.head(10)"
   ]
  },
  {
   "cell_type": "code",
   "execution_count": 39,
   "metadata": {},
   "outputs": [
    {
     "data": {
      "text/html": [
       "<div>\n",
       "<style scoped>\n",
       "    .dataframe tbody tr th:only-of-type {\n",
       "        vertical-align: middle;\n",
       "    }\n",
       "\n",
       "    .dataframe tbody tr th {\n",
       "        vertical-align: top;\n",
       "    }\n",
       "\n",
       "    .dataframe thead th {\n",
       "        text-align: right;\n",
       "    }\n",
       "</style>\n",
       "<table border=\"1\" class=\"dataframe\">\n",
       "  <thead>\n",
       "    <tr style=\"text-align: right;\">\n",
       "      <th></th>\n",
       "      <th>topic</th>\n",
       "    </tr>\n",
       "  </thead>\n",
       "  <tbody>\n",
       "    <tr>\n",
       "      <th>3</th>\n",
       "      <td>481</td>\n",
       "    </tr>\n",
       "    <tr>\n",
       "      <th>1</th>\n",
       "      <td>398</td>\n",
       "    </tr>\n",
       "    <tr>\n",
       "      <th>4</th>\n",
       "      <td>261</td>\n",
       "    </tr>\n",
       "    <tr>\n",
       "      <th>0</th>\n",
       "      <td>248</td>\n",
       "    </tr>\n",
       "    <tr>\n",
       "      <th>2</th>\n",
       "      <td>242</td>\n",
       "    </tr>\n",
       "  </tbody>\n",
       "</table>\n",
       "</div>"
      ],
      "text/plain": [
       "   topic\n",
       "3    481\n",
       "1    398\n",
       "4    261\n",
       "0    248\n",
       "2    242"
      ]
     },
     "execution_count": 39,
     "metadata": {},
     "output_type": "execute_result"
    }
   ],
   "source": [
    "df_document_topic['topic'].value_counts().to_frame()\n"
   ]
  },
  {
   "cell_type": "code",
   "execution_count": 40,
   "metadata": {},
   "outputs": [
    {
     "data": {
      "text/html": [
       "<div>\n",
       "<style scoped>\n",
       "    .dataframe tbody tr th:only-of-type {\n",
       "        vertical-align: middle;\n",
       "    }\n",
       "\n",
       "    .dataframe tbody tr th {\n",
       "        vertical-align: top;\n",
       "    }\n",
       "\n",
       "    .dataframe thead th {\n",
       "        text-align: right;\n",
       "    }\n",
       "</style>\n",
       "<table border=\"1\" class=\"dataframe\">\n",
       "  <thead>\n",
       "    <tr style=\"text-align: right;\">\n",
       "      <th></th>\n",
       "      <th>aapl</th>\n",
       "      <th>amp</th>\n",
       "      <th>android</th>\n",
       "      <th>app</th>\n",
       "      <th>appl</th>\n",
       "      <th>back</th>\n",
       "      <th>batteri</th>\n",
       "      <th>becaus</th>\n",
       "      <th>best</th>\n",
       "      <th>buy</th>\n",
       "      <th>...</th>\n",
       "      <th>want</th>\n",
       "      <th>watch</th>\n",
       "      <th>week</th>\n",
       "      <th>whi</th>\n",
       "      <th>work</th>\n",
       "      <th>would</th>\n",
       "      <th>wtf</th>\n",
       "      <th>yall</th>\n",
       "      <th>year</th>\n",
       "      <th>yosemit</th>\n",
       "    </tr>\n",
       "  </thead>\n",
       "  <tbody>\n",
       "    <tr>\n",
       "      <th>Topic0</th>\n",
       "      <td>0.200642</td>\n",
       "      <td>10.681654</td>\n",
       "      <td>0.202429</td>\n",
       "      <td>0.202053</td>\n",
       "      <td>268.487602</td>\n",
       "      <td>8.058156</td>\n",
       "      <td>6.705559</td>\n",
       "      <td>7.381787</td>\n",
       "      <td>0.231706</td>\n",
       "      <td>4.666011</td>\n",
       "      <td>...</td>\n",
       "      <td>24.032328</td>\n",
       "      <td>0.201233</td>\n",
       "      <td>15.760104</td>\n",
       "      <td>0.408829</td>\n",
       "      <td>24.494856</td>\n",
       "      <td>0.202138</td>\n",
       "      <td>0.201501</td>\n",
       "      <td>0.201842</td>\n",
       "      <td>0.201303</td>\n",
       "      <td>0.203463</td>\n",
       "    </tr>\n",
       "    <tr>\n",
       "      <th>Topic1</th>\n",
       "      <td>528.196225</td>\n",
       "      <td>14.790015</td>\n",
       "      <td>10.849771</td>\n",
       "      <td>0.200754</td>\n",
       "      <td>366.221264</td>\n",
       "      <td>0.222848</td>\n",
       "      <td>0.200081</td>\n",
       "      <td>0.201262</td>\n",
       "      <td>8.188094</td>\n",
       "      <td>28.726510</td>\n",
       "      <td>...</td>\n",
       "      <td>0.202685</td>\n",
       "      <td>24.339465</td>\n",
       "      <td>6.627031</td>\n",
       "      <td>0.201502</td>\n",
       "      <td>0.200486</td>\n",
       "      <td>0.200686</td>\n",
       "      <td>0.200018</td>\n",
       "      <td>0.200007</td>\n",
       "      <td>4.679768</td>\n",
       "      <td>0.200564</td>\n",
       "    </tr>\n",
       "    <tr>\n",
       "      <th>Topic2</th>\n",
       "      <td>0.201078</td>\n",
       "      <td>0.201453</td>\n",
       "      <td>3.193081</td>\n",
       "      <td>0.200601</td>\n",
       "      <td>276.387797</td>\n",
       "      <td>0.203788</td>\n",
       "      <td>0.201050</td>\n",
       "      <td>11.014854</td>\n",
       "      <td>0.200204</td>\n",
       "      <td>0.201935</td>\n",
       "      <td>...</td>\n",
       "      <td>5.363245</td>\n",
       "      <td>16.057439</td>\n",
       "      <td>0.200995</td>\n",
       "      <td>81.327199</td>\n",
       "      <td>0.202104</td>\n",
       "      <td>14.555163</td>\n",
       "      <td>4.281960</td>\n",
       "      <td>0.202300</td>\n",
       "      <td>0.201446</td>\n",
       "      <td>12.838586</td>\n",
       "    </tr>\n",
       "    <tr>\n",
       "      <th>Topic3</th>\n",
       "      <td>0.201445</td>\n",
       "      <td>12.331091</td>\n",
       "      <td>2.270304</td>\n",
       "      <td>71.194860</td>\n",
       "      <td>528.486204</td>\n",
       "      <td>15.066352</td>\n",
       "      <td>26.688175</td>\n",
       "      <td>0.201079</td>\n",
       "      <td>11.160487</td>\n",
       "      <td>0.201843</td>\n",
       "      <td>...</td>\n",
       "      <td>0.200995</td>\n",
       "      <td>0.200919</td>\n",
       "      <td>0.203323</td>\n",
       "      <td>0.201768</td>\n",
       "      <td>30.890552</td>\n",
       "      <td>3.838905</td>\n",
       "      <td>4.016575</td>\n",
       "      <td>0.200437</td>\n",
       "      <td>25.289357</td>\n",
       "      <td>6.555227</td>\n",
       "    </tr>\n",
       "    <tr>\n",
       "      <th>Topic4</th>\n",
       "      <td>0.200611</td>\n",
       "      <td>24.995787</td>\n",
       "      <td>3.484415</td>\n",
       "      <td>0.201732</td>\n",
       "      <td>287.417132</td>\n",
       "      <td>10.448856</td>\n",
       "      <td>0.205135</td>\n",
       "      <td>0.201017</td>\n",
       "      <td>0.219510</td>\n",
       "      <td>0.203701</td>\n",
       "      <td>...</td>\n",
       "      <td>0.200748</td>\n",
       "      <td>0.200945</td>\n",
       "      <td>0.208549</td>\n",
       "      <td>9.860703</td>\n",
       "      <td>0.212003</td>\n",
       "      <td>0.203108</td>\n",
       "      <td>14.299946</td>\n",
       "      <td>20.195414</td>\n",
       "      <td>1.628125</td>\n",
       "      <td>0.202159</td>\n",
       "    </tr>\n",
       "  </tbody>\n",
       "</table>\n",
       "<p>5 rows × 134 columns</p>\n",
       "</div>"
      ],
      "text/plain": [
       "              aapl        amp    android        app        appl       back  \\\n",
       "Topic0    0.200642  10.681654   0.202429   0.202053  268.487602   8.058156   \n",
       "Topic1  528.196225  14.790015  10.849771   0.200754  366.221264   0.222848   \n",
       "Topic2    0.201078   0.201453   3.193081   0.200601  276.387797   0.203788   \n",
       "Topic3    0.201445  12.331091   2.270304  71.194860  528.486204  15.066352   \n",
       "Topic4    0.200611  24.995787   3.484415   0.201732  287.417132  10.448856   \n",
       "\n",
       "          batteri     becaus       best        buy  ...       want      watch  \\\n",
       "Topic0   6.705559   7.381787   0.231706   4.666011  ...  24.032328   0.201233   \n",
       "Topic1   0.200081   0.201262   8.188094  28.726510  ...   0.202685  24.339465   \n",
       "Topic2   0.201050  11.014854   0.200204   0.201935  ...   5.363245  16.057439   \n",
       "Topic3  26.688175   0.201079  11.160487   0.201843  ...   0.200995   0.200919   \n",
       "Topic4   0.205135   0.201017   0.219510   0.203701  ...   0.200748   0.200945   \n",
       "\n",
       "             week        whi       work      would        wtf       yall  \\\n",
       "Topic0  15.760104   0.408829  24.494856   0.202138   0.201501   0.201842   \n",
       "Topic1   6.627031   0.201502   0.200486   0.200686   0.200018   0.200007   \n",
       "Topic2   0.200995  81.327199   0.202104  14.555163   4.281960   0.202300   \n",
       "Topic3   0.203323   0.201768  30.890552   3.838905   4.016575   0.200437   \n",
       "Topic4   0.208549   9.860703   0.212003   0.203108  14.299946  20.195414   \n",
       "\n",
       "             year    yosemit  \n",
       "Topic0   0.201303   0.203463  \n",
       "Topic1   4.679768   0.200564  \n",
       "Topic2   0.201446  12.838586  \n",
       "Topic3  25.289357   6.555227  \n",
       "Topic4   1.628125   0.202159  \n",
       "\n",
       "[5 rows x 134 columns]"
      ]
     },
     "execution_count": 40,
     "metadata": {},
     "output_type": "execute_result"
    }
   ],
   "source": [
    "\n",
    "# Topic-word matrix\n",
    "df_topic_words = pd.DataFrame(LDA.components_)\n",
    "\n",
    "# Column and index\n",
    "df_topic_words.columns = tf_lda.get_feature_names()\n",
    "df_topic_words.index = topic_names\n",
    "\n",
    "df_topic_words.head()"
   ]
  },
  {
   "cell_type": "code",
   "execution_count": 41,
   "metadata": {},
   "outputs": [
    {
     "data": {
      "text/html": [
       "<div>\n",
       "<style scoped>\n",
       "    .dataframe tbody tr th:only-of-type {\n",
       "        vertical-align: middle;\n",
       "    }\n",
       "\n",
       "    .dataframe tbody tr th {\n",
       "        vertical-align: top;\n",
       "    }\n",
       "\n",
       "    .dataframe thead th {\n",
       "        text-align: right;\n",
       "    }\n",
       "</style>\n",
       "<table border=\"1\" class=\"dataframe\">\n",
       "  <thead>\n",
       "    <tr style=\"text-align: right;\">\n",
       "      <th></th>\n",
       "      <th>Word 0</th>\n",
       "      <th>Word 1</th>\n",
       "      <th>Word 2</th>\n",
       "      <th>Word 3</th>\n",
       "      <th>Word 4</th>\n",
       "      <th>Word 5</th>\n",
       "      <th>Word 6</th>\n",
       "      <th>Word 7</th>\n",
       "      <th>Word 8</th>\n",
       "      <th>Word 9</th>\n",
       "      <th>Word 10</th>\n",
       "      <th>Word 11</th>\n",
       "      <th>Word 12</th>\n",
       "      <th>Word 13</th>\n",
       "      <th>Word 14</th>\n",
       "      <th>Word 15</th>\n",
       "      <th>Word 16</th>\n",
       "      <th>Word 17</th>\n",
       "      <th>Word 18</th>\n",
       "      <th>Word 19</th>\n",
       "    </tr>\n",
       "  </thead>\n",
       "  <tbody>\n",
       "    <tr>\n",
       "      <th>Topic 0</th>\n",
       "      <td>appl</td>\n",
       "      <td>make</td>\n",
       "      <td>thank</td>\n",
       "      <td>iphon</td>\n",
       "      <td>updat</td>\n",
       "      <td>phone</td>\n",
       "      <td>io</td>\n",
       "      <td>ipad</td>\n",
       "      <td>custom</td>\n",
       "      <td>new</td>\n",
       "      <td>today</td>\n",
       "      <td>last</td>\n",
       "      <td>great</td>\n",
       "      <td>charger</td>\n",
       "      <td>work</td>\n",
       "      <td>want</td>\n",
       "      <td>month</td>\n",
       "      <td>servic</td>\n",
       "      <td>screen</td>\n",
       "      <td>onli</td>\n",
       "    </tr>\n",
       "    <tr>\n",
       "      <th>Topic 1</th>\n",
       "      <td>aapl</td>\n",
       "      <td>appl</td>\n",
       "      <td>iphon</td>\n",
       "      <td>inc</td>\n",
       "      <td>stock</td>\n",
       "      <td>googl</td>\n",
       "      <td>decemb</td>\n",
       "      <td>rt</td>\n",
       "      <td>price</td>\n",
       "      <td>new</td>\n",
       "      <td>buy</td>\n",
       "      <td>cook</td>\n",
       "      <td>tim</td>\n",
       "      <td>watch</td>\n",
       "      <td>market</td>\n",
       "      <td>tech</td>\n",
       "      <td>ipad</td>\n",
       "      <td>profit</td>\n",
       "      <td>sale</td>\n",
       "      <td>jpdeslog</td>\n",
       "    </tr>\n",
       "    <tr>\n",
       "      <th>Topic 2</th>\n",
       "      <td>appl</td>\n",
       "      <td>fuck</td>\n",
       "      <td>rt</td>\n",
       "      <td>whi</td>\n",
       "      <td>ipod</td>\n",
       "      <td>delet</td>\n",
       "      <td>phone</td>\n",
       "      <td>pay</td>\n",
       "      <td>hey</td>\n",
       "      <td>music</td>\n",
       "      <td>much</td>\n",
       "      <td>doe</td>\n",
       "      <td>peopl</td>\n",
       "      <td>let</td>\n",
       "      <td>take</td>\n",
       "      <td>emoji</td>\n",
       "      <td>use</td>\n",
       "      <td>think</td>\n",
       "      <td>watch</td>\n",
       "      <td>day</td>\n",
       "    </tr>\n",
       "    <tr>\n",
       "      <th>Topic 3</th>\n",
       "      <td>appl</td>\n",
       "      <td>iphon</td>\n",
       "      <td>app</td>\n",
       "      <td>need</td>\n",
       "      <td>steve</td>\n",
       "      <td>job</td>\n",
       "      <td>like</td>\n",
       "      <td>go</td>\n",
       "      <td>one</td>\n",
       "      <td>free</td>\n",
       "      <td>via</td>\n",
       "      <td>work</td>\n",
       "      <td>u</td>\n",
       "      <td>onerepubl</td>\n",
       "      <td>batteri</td>\n",
       "      <td>year</td>\n",
       "      <td>hate</td>\n",
       "      <td>mac</td>\n",
       "      <td>realli</td>\n",
       "      <td>comput</td>\n",
       "    </tr>\n",
       "    <tr>\n",
       "      <th>Topic 4</th>\n",
       "      <td>appl</td>\n",
       "      <td>get</td>\n",
       "      <td>shit</td>\n",
       "      <td>store</td>\n",
       "      <td>phone</td>\n",
       "      <td>fix</td>\n",
       "      <td>rt</td>\n",
       "      <td>itun</td>\n",
       "      <td>suck</td>\n",
       "      <td>amp</td>\n",
       "      <td>togeth</td>\n",
       "      <td>charger</td>\n",
       "      <td>ur</td>\n",
       "      <td>die</td>\n",
       "      <td>product</td>\n",
       "      <td>got</td>\n",
       "      <td>still</td>\n",
       "      <td>yall</td>\n",
       "      <td>even</td>\n",
       "      <td>dear</td>\n",
       "    </tr>\n",
       "  </tbody>\n",
       "</table>\n",
       "</div>"
      ],
      "text/plain": [
       "        Word 0 Word 1 Word 2 Word 3 Word 4 Word 5  Word 6 Word 7  Word 8  \\\n",
       "Topic 0   appl   make  thank  iphon  updat  phone      io   ipad  custom   \n",
       "Topic 1   aapl   appl  iphon    inc  stock  googl  decemb     rt   price   \n",
       "Topic 2   appl   fuck     rt    whi   ipod  delet   phone    pay     hey   \n",
       "Topic 3   appl  iphon    app   need  steve    job    like     go     one   \n",
       "Topic 4   appl    get   shit  store  phone    fix      rt   itun    suck   \n",
       "\n",
       "        Word 9 Word 10  Word 11 Word 12    Word 13  Word 14 Word 15 Word 16  \\\n",
       "Topic 0    new   today     last   great    charger     work    want   month   \n",
       "Topic 1    new     buy     cook     tim      watch   market    tech    ipad   \n",
       "Topic 2  music    much      doe   peopl        let     take   emoji     use   \n",
       "Topic 3   free     via     work       u  onerepubl  batteri    year    hate   \n",
       "Topic 4    amp  togeth  charger      ur        die  product     got   still   \n",
       "\n",
       "        Word 17 Word 18   Word 19  \n",
       "Topic 0  servic  screen      onli  \n",
       "Topic 1  profit    sale  jpdeslog  \n",
       "Topic 2   think   watch       day  \n",
       "Topic 3     mac  realli    comput  \n",
       "Topic 4    yall    even      dear  "
      ]
     },
     "execution_count": 41,
     "metadata": {},
     "output_type": "execute_result"
    }
   ],
   "source": [
    "\n",
    "# Print top n keywords for each topic\n",
    "def print_topic_words(tfidf_model, lda_model, n_words):\n",
    "    words = np.array(tfidf_model.get_feature_names())\n",
    "    topic_words = []\n",
    "    # For each topic, we have words weight\n",
    "    for topic_words_weights in lda_model.components_:\n",
    "        top_words = topic_words_weights.argsort()[::-1][:n_words]\n",
    "        topic_words.append(words.take(top_words))\n",
    "    return topic_words\n",
    "\n",
    "topic_keywords = print_topic_words(tfidf_model=tf_lda, lda_model=LDA, n_words=20)        \n",
    "\n",
    "df_topic_words = pd.DataFrame(topic_keywords)\n",
    "df_topic_words.columns = ['Word '+str(i) for i in range(df_topic_words.shape[1])]\n",
    "df_topic_words.index = ['Topic '+str(i) for i in range(df_topic_words.shape[0])]\n",
    "df_topic_words"
   ]
  },
  {
   "cell_type": "code",
   "execution_count": 42,
   "metadata": {},
   "outputs": [],
   "source": [
    "df_document_topic[\"sentiment\"] = df.result.values"
   ]
  },
  {
   "cell_type": "code",
   "execution_count": 43,
   "metadata": {},
   "outputs": [
    {
     "data": {
      "text/plain": [
       "topic  sentiment\n",
       "0      Negative     146\n",
       "       Neutral       64\n",
       "       Positive      38\n",
       "1      Neutral      345\n",
       "       Negative      30\n",
       "       Positive      23\n",
       "2      Negative     160\n",
       "       Neutral       68\n",
       "       Positive      14\n",
       "3      Neutral      258\n",
       "       Negative     173\n",
       "       Positive      50\n",
       "4      Negative     177\n",
       "       Neutral       66\n",
       "       Positive      18\n",
       "Name: sentiment, dtype: int64"
      ]
     },
     "execution_count": 43,
     "metadata": {},
     "output_type": "execute_result"
    }
   ],
   "source": [
    "df_document_topic.groupby('topic')['sentiment'].value_counts()"
   ]
  },
  {
   "cell_type": "markdown",
   "metadata": {},
   "source": [
    "In the above cell output, Topic 1 shows that it has high ratio of negative reviews.\n",
    "Topic 2 has high neutral review rate."
   ]
  },
  {
   "cell_type": "markdown",
   "metadata": {},
   "source": [
    "## (2) (15 points) Generate K topics by using LSA, the number of topics K should be decided by the coherence score, then summarize what are the topics. You may refer the code here:\n",
    "\n",
    "https://www.datacamp.com/community/tutorials/discovering-hidden-topics-python"
   ]
  },
  {
   "cell_type": "code",
   "execution_count": 201,
   "metadata": {},
   "outputs": [],
   "source": [
    "# Write your code here\n",
    "\n",
    "import os.path\n",
    "from gensim import corpora\n",
    "from gensim.models import LsiModel\n",
    "from nltk.tokenize import RegexpTokenizer\n",
    "from nltk.corpus import stopwords\n",
    "from nltk.stem.porter import PorterStemmer\n",
    "from gensim.models.coherencemodel import CoherenceModel\n",
    "import matplotlib.pyplot as plt"
   ]
  },
  {
   "cell_type": "code",
   "execution_count": 202,
   "metadata": {},
   "outputs": [],
   "source": [
    "def load_data(path,file_name):\n",
    "    df = pd.read_csv(file_name, header=0)\n",
    "    print(\"Total Number of Documents:\",len(df))\n",
    "    documents_list = df.loc[:,'text'].tolist()\n",
    "    return documents_list"
   ]
  },
  {
   "cell_type": "code",
   "execution_count": 203,
   "metadata": {},
   "outputs": [
    {
     "name": "stdout",
     "output_type": "stream",
     "text": [
      "Total Number of Documents: 1630\n",
      "['Wow. Yall needa step it up @Apple RT @heynyla: Music and snapchat at the same damn time. Thank you #Note4', 'What Happened To Apple Inc?   http://t.co/FJEXI3oP0U  #aapl #apple @MoneyPress http://t.co/wXKmmTMArW', 'Thank u @apple I can now compile all of the pics that i communicate with in one place http://t.co/tq1lo09oyA', 'The oddly uplifting story of the Apple co-founder who sold his stake for $800 \\r\\n$AAPL #aapl\\r\\nhttp://t.co/CiZbVR05PJ', '@apple can i exchange my iphone for a different color lmao  i changed my mind', 'RT @JPDesloges: Apple Acted Unfairly In Suppressing Digital Music Competition: Paul Kedrosky $AAPL #aapl\\r\\nhttp://t.co/XTbFhpbYf7', \"Let's not forget that press effects stock @Apple to Defend Against iPod Antitrust Suit http://t.co/pqJ0bKIMb8\", 'Apple Inc. Deleted Songs From Rival Services From iPods http://t.co/dQwDFpcc4x #AAPL', \"@TeamCavuto @Apple They're staging a die in ar an Apple store while being on their iPhone.\", 'Happy Monday! My camera on my fancy @Apple #iPhone6Plus suddenly stopped working this weekend, so instead - I meme. http://t.co/XdySgcxUuv', 'Facebook CEO Mark Zuckerberg criticizes Apple $AAPL #aapl\\r\\nhttp://t.co/EVrsNVdeXe', 'fuck you too @apple', '@Apple  you need to sort your phones out.', '@OneRepublic @Apple 45000 feet keep flying', '@MarkZuckerbergF of @facebook and tim cook of @apple are sparring, but can we plz talk REAL connectivity on the web? http://t.co/AKfHP9pL9X', '@APPLE YOURE SHIT FIX MY PROBLEM', 'Up 169%, Is #Apple Supplier #Skyworks Still A Buy? #SWKS  #AAPL #BRCM #MU #QCOM #VTI http://t.co/YcxoMNmHqo', 'Theyre not RT @Naivana_: You gotta be kidding me @apple http://t.co/GeeL25AlT1', 'What to expect from Apple in 2015 $AAPL #aapl\\r\\nhttp://t.co/7Dq9vBdt3H', 'Confirmed: Bose speakers returning to #Apple Stores after removal earlier this year - http://t.co/yXPyde3TvQ #AAPL #BeatsElectronics', \"@apple @iphone4 oh it's not fair and i think you're really mean\", 'How Competition Between #Wireless Carriers Benefits #Apple, Inc. | The Motley Fool #aapl http://t.co/mQe4NT0vXr', \"Does @apple store in Georgetown sell refurb'd iPads? Or just new? Are refurbs only available online?\", 'How is my battery already 83% within 15 minutes of usage. Fix up @apple', '@UberFacts i can think of 100 reasons not to if your on a 4s. Fuck @apple', 'How long does it really take for a phone to ship @apple smh', '@brwnskin_beauti cause fuck @apple', '@lanadelreystan KILL YOURSELF @apple', \"@THE_HIIT_COACH @weightsmate @Apple it's similar to an existing app (called cardio guru interestingly). Maybe Apple have noticed this?\", '#AAPL:Pale, hoarse Steve Jobs defends Apple in videotaped deposition in iPod...http://t.co/SNmpSx4TDo', '@apple ur a disgrace', '.@apple The iPad update to iOS 8 is an absolute disaster. Nothing works right anymore. Safari crashes constantly. #iFail', '#AAPL:Apple trial continues, without a plaintiff for now...http://t.co/DjDkC4HkPZ', 'Finally! Brooklyn Is Getting Its Own #Apple Store #aapl http://t.co/IpjMgjGQw5 http://t.co/Ow2BSRLbAx', \"RT @SwiftKey: We're so excited to be named to @Apple's 'App Store Best of 2014' list this year! http://t.co/d7qlmti4Uf #Apple\", 'The best link of the day on @usemuzli Tech: @facebook CEO Mark Zuckerberg goes after @tim_cook , @Apple -- AppAdvice\\r\\nhttp://t.co/cDnZCthRlA', '@PCAudioLabs is in and @Apple is out at Emanon Records.  Apple was premium product. Now it is an average product with a premium price.', 'Realised the reason @apple make huge phones is because they f**ked Safari up by not allowing us to hide the address bar', \"@apple y'all shitty\", 'Finally updated to iOS 8...this happened ha weird glitch fix it please @apple http://t.co/LCoGg7yfEz', 'RT @jopocop: TheStreet:  #Apple Gets Price Target Boost on Back of Strong #iPhone Demand #aapl  http://t.co/f2qTGIBDDq', 'How to Make #Apple Special Again #aapl http://t.co/EiAP7Kmelu', '@swerviinnn @Apple clearly its a sign they doing u a favor', '@apple #macos #yosemite is a buggy piece of shit. It makes me miss #windows8.', \"I'm surprised there isn't more talk about what looked like a flash crash in #AAPL yesterday. Biggest range in years and largely ignored\", 'Shockingly, iMessage on the desktop is fucked up again. Great work, @apple. Seriously, on point with network services as only you can do.', \"The hell does this mean @apple one day Skype won't let me login now I can't even open the app http://t.co/SegFVq5Mzx\", \"Tryng to get back on snapchat but the App Store isn't cooperating @apple\", 'Apple Adds New Flyover Locations to Maps, Siri Movie Showtimes in More Countries [iOS Blog] http://t.co/758TjE7alk #AAPL', '@apple fucking let everyone name the group chats their own things please and thanks', '@dougluberts @Apple Is it the 128gb version?', '@Apple your chargers SUCK', 'The questions every #CIO should ask about @Apple #iWatch: http://t.co/1RSxT3CMlZ', 'RT @saigeist: the most offensive thing is the lack of a trashcan emoji stop the discrimination @apple', '@apple fuck you', \"RT @JPDesloges: Higher Price Targets Are Not Helping Apple's Shares $AAPL #aapl\\r\\nhttp://t.co/QTLiiXy1Ed\", '#Apple heads to trial over iTunes update #AAPL http://t.co/BevWxGyCVk', '#AAPL:New, Far-Reaching Apple Patent Reveals Next iPhone May Demonstrate A C...http://t.co/Ce8dwGBHz0', '@apple Why is your NYC Grand Central store so bad when it comes to service? 14th Street is much, much better...', \"I'm not happy about that @apple\", \"RT @adage: Watch the weekend's new TV ads from @RadioShack, @Apple and more http://t.co/cKdkibI6PL\", '@tehhGOAT @Apple do you by accident have me blocked or?', 'Real tired of my charger breaking every month @Apple', 'Is Apple The Most Important Stock On Earth?  http://t.co/YkyiwKnL5S #aapl http://t.co/eiAOHl8LL1', '@Apple get your shit together I hate you', '#Nasdaq big fall. @FB @Baba @Twtr @Linkd @Apple fell 3-6% on Monday! See whether follow up ..', 'fucking faggots @apple', 'are u #android or #ios? $aapl #samsung #aapl #ApplePay #apple #GoodMore\\r\\n#GivingTuesday\\r\\n#StonerSports\\r\\n#3YearsOf5SOS\\r\\n#FlashvsArrow\\r\\n#stocks', 'honestly fuuuuccckkkk you @apple http://t.co/0aV4VreGUj', '@Apple Stop liking man.', '@SSComposer @Apple seems to ignore any key presses like command r and is just doing its own thing.', 'RT @JPDesloges: APPLE - Fibonacci Technicals Levels - LAST Intraday  Update - $AAPL #aapl \\r\\nhttp://t.co/9tLzXOlfzG', \"Note to @apple, Mail STILL has trouble sending.  The last update didn't fix it.  Mail that doesn't send?  Not so useful.\", \"@brettgilmour @Apple You're not the only one apparently, based on that last interview we did with @carmilevy\", 'No @macbook today,charger broken .help please @apple what can i do...', \"#Google May Be the Big Winner in LAUSD's #IPad Scandal http://t.co/YVDioMcl4r via @BW #aapl\", 'FUCK U @apple i just dropped my new IPHONE6  and it got all sctratched up ! IM DONE WITH APPLE SO FUCKING FRAGILE', '#Will the #IPhone6Plus Shortage Hurt @Apple [#Apple] This Christmas?. (#Monday, 8 #December) http://t.co/i1QB6uaRms', \"@britt_bumgarner @briannalengy I mean it didn't auto correct so who is really at fault here @apple\", \"AAPL 'buy' reiterated,  target raised to $130 by Bank of America Merrill Lynch $AAPL Brief explanation here:  https://t.co/349ckZlF0v #AAPL\", 'fuck type of shit is this @Apple @autocorrect @Siri http://t.co/5zyb6SUepz', 'Left the hoos we 100% now got 50 iPhones are dire @apple suck ur mum', '@brycehendersonn o wow @technology @stevejobs #GamerGate  @IGN  @Machinima @gameinformer @Apple #64megaherts \\r\\ngot me there', '5 Companies Growing Faster Than Apple Inc. http://t.co/QsoC8dir60 #AAPL', '@apple #YosemiteProblems Erases my saved pass words every day. This is getting annoying.', '@apple #apple tech support is so nice. Free stuff!! Sucks about the ringtone issue, though...', 'Apple Releases Safari 8.0.1, 7.1.1, and 6.2.1 http://t.co/sIOuKQbs1T #AAPL', 'Early Apple Employee Bill Fernandez Shares Details on Steve Jobs, Creation of the Apple II, and More http://t.co/hv7TfDUIm9 #AAPL', 'AAPL passes $700 billion in Market Cap and setting a new record, details here:\\r\\nhttp://t.co/UCXw8zSRpZ #AAPL #Apple #Stocks #Record #News', \"Can't believe @Apple said melted keys on Mac Pro is not under warranty for a machine less than a year old. Asking for 鶯500 to repair.\", 'fuck you @apple', \"I posted 9 photos on Facebook in the album 'WOW TALKS // PASSION FOR DESIGN // LONDON DESIGN FESTIVAL @APPLE' http://t.co/vgRlX9OCMT\", 'How To Use #iOS8 Continuity | Know Your Mobile http://t.co/Bf2smNeBEe #aapl', '@SwiftKey @Apple Oh In wish you guys would port hebrew from the android version already! I have swapping abck and forth', \"Apple's iPhone 6 Plus Amazingly Captures 41% of the Phablet Market Right out of the Gate $AAPL #aapl\\r\\nhttp://t.co/hv7jiOO6S0\", '#AAPL providing another great entry point &lt; $115', \"@lisapjackson any stats on use of @Apple's recycling program?\", '#AAPL:Corporate Earnings to Contract; Short Apple: Best of Kass...http://t.co/59VMgqR0tH', \"ayo @Apple I think u should create a 'video message' option so when @CarlaBarlaCakes doesn't answer my facetime I can leave her a VIDEO MAIL\", \"The power of @Apple 's strong branding and store design in one photo http://t.co/CJObpVZeZk via @qz http://t.co/hD6P7hJhW8\", 'Yo @Apple fix your shitty iMessage', 'Why I Hate Apple - http://t.co/IbpyJXaOuW #AAPL #Long-Term_Larry', 'Hey @apple are you even thinking about fixing your wifi issues? #YosemiteProblems', '@sharksbeauty @Apple LEMME get the blondes number', '#AAPL:Apple Inc., International Business Machines Corp., Exxon Mobil Corpora...http://t.co/0XWPHhpA6C', '3 #Tech Stocks That Could Soar in 2015 | The Motley Fool #goog #aapl #fb http://t.co/6LcuT1XTzX', \"Apple Debuts New iPad Air 2 TV Ad 'Change' with New Website Section http://t.co/8q8satHa2S #AAPL\", '@jakeflem @Apple Some info for you: http://t.co/J79FnVB94e http://t.co/m3pclPVgGK http://t.co/J72WyhXxx1 Hope it helps. #PinkScreenOfDeath', 'Apple mass transit system for Maps detailed in new patent $AAPL #aapl\\r\\nhttp://t.co/YhwWoUBR3Q', '@ohaiigloria @hahahamark @apple explain yourselves', \"RT @danielllebaker: Paid $20 for a new 5 charger and couldn't  b more pissed about it... this is rape @apple\", \"The 10 biggest differences between #Mac and #PC.  Yep, I'll stick with my Mac! #apple http://t.co/obykvsjfJY @apple @LisaEadicicco\", 'Yall need to fix this flicker/flash when I swipe up to close apps @Apple', 'PRINCIPLED TRUTHS: Eddy Cue Talks to Fortune as Apple Appeals E-Book Price-Fixing Judgment. #AAPL http://t.co/Y7JDYN0mlR', '@apple#ipad #irig  For the price to connect my guitar I could buy a real amp loud enough to perform! #ripoff', \"@steviebuckley It's doing strange things to @dropbox files as well - create a new folder and it disappears etc.  @apple #yosemite #bugs\", '#AAPL:12 Unexpected Stocks Bringing Buffett and Fellow Billionaires Holiday ...http://t.co/QSxQQPAg2q', '@HlPSTALUKE @Apple one of you stepped on my phone last night and its smashed and doesnt work :)', 'Hey @apple, fuck you for thinking I want text messages to pop up on my computer, iPad and phone.. #ThisIsWhyPeopleGetMurdered', 'Just another reason to hate @Apple!!!!!!!!!!!', \"Steve Jobs: 'I don't know what the claims in the case are' $AAPL #aapl\\r\\nhttp://t.co/5Ufd8p9qxs\", \"@OneRepublic @Apple How cool that you're working on new music. Can't wait to hear it. But you're working hard. You need rest. :)\", '@Apple technology..is becoming very undesirable. These glitches are constantly stopping my from working', '#Apple dominates mobile online shopping at 78 percent in US #aapl http://t.co/1fqoPIhObO', \"@applenws @AppleProducts @Apple ok look, yall still ain't reversed me back to iOS 7. idk what the hold up is but ima need yall to get on it\", 'Can @Apple sTOP making their OS installations so damn bloody difficult STOP ASKING ME TO CLEAR SPACE FROM MY HARD DISK', \"Jimmy Iovine to Apple: 'You Have a Hole in Music Right Now; Let Me Plug It' http://t.co/RwolD40zwI #AAPL\", 'Anti-Discrimination Bill To Be Named After @Apple CEO @TimCook http://t.co/qEZlIPc8Z2 via @theinquisitr @LGBT #LGBT #Gayrights #Alabama', 'RT @all4incognito: HATE @APPLE SO MUCH. RUIN MY LIFE', \"Debunking One of #Apple's Biggest Myths \\r\\n\\r\\nhttp://t.co/ZljMUApQV6\\r\\n\\r\\n#AAPL\", 'RT @animaItoes: Why does my phone suck so much @apple', 'YO YOU AINT SHIT @apple', '#Apple: Market Maker Price Range Forecast Update #AAPL http://t.co/lb0gspNI9j', '#Apple planning to spend $161 million on its own auditorium at ... - http://t.co/eJU1Q6Qklb #AAPL #WWDC http://t.co/QYhVucuSyP', \"You'll Be Able To Learn How To Code For Free Next Week At Your Nearest @Apple Store!  http://t.co/8xHh2SLC4X\", \"What I find alarming about @Apple power cords is how quickly they fray.  I don't always notice when I don't travel with them. #AppleCordFire\", '10 best #SteveJobs #apple #aapl #tech30 http://t.co/FkrkG1iF7g via', \"@SamJam Agreed--have to give props to @Apple for battery life on new iPhones. It's SO good. #TL_Chat\", '@apple I have been on hold for 30 minutes thank god I sold most of my stock is this comcast or apple?', '@viticci @panic @Apple Jesus, why did they create extensions at all? Lighten up Apple.', 'Apple Inc. price at close, December 05, 2014, is 114.9801. #apple #AAPL', 'CNBCTV:  Bulls running with #GoPro &amp; #Apple #gpro #aapl  http://t.co/zNj09hU6jb', 'Apple Is Warming Up To Social Media: Apple is hiring a social media guru in L.A. Will @Apple finally tweet?Her... http://t.co/sB1FXAZ4j7', \"Ironic that we're at a PR event (#mp15) talking about companies that don't need more people talking about them (@google @apple @facebook)\", 'How many iphone chargers do I need to go through? @Apple make charger durability a point in the new iPhone', 'The rumoured @oppo R8207 looks very similar to a certain @Apple #iPhone6 http://t.co/nJKstb1rJf', 'Apple Watch on Track for February 2015 Release, Testing Underway [Rumour]  $AAPL #aapl\\r\\nhttp://t.co/vjOWVvDFx5', \"'#Howto import objective-C code into bridging header file - @Apigee SDK for @Apple's Swift http://t.co/e3i1kKa7xX' http://t.co/dkoOxiEGRy\", 'thanks @apple for making life complicated', 'Bose products reportedly set to return to #Apple Store shelves as early as next week - http://t.co/fqnkD6rsDT #AAPL #JimmyIovine', '#AAPL:Alabama Anti-Discrimination Bill To Be Named After Apple CEO Tim Cook...http://t.co/J6hGjmjBZD', 'Apple to launch 4-inch iPhone next year: Report $AAPL #aapl\\r\\nhttp://t.co/x3lzm9bOoM', 'My cat only chews @apple cords. Such an #AppleSnob.', 'Ur minute has been about 10 minutes @apple http://t.co/tInVuQNYAM', 'How do I log into iCloud on my phone? Not the cut down mobile version. Argh! Anyone know? @apple', 'fuck you fuck you so much i hate you @apple', '@leiahemilyy @Apple really???', 'Move Aside #Apple and #Google, #Alibaba is Entering the Connected Car Space - Forbes #baba #goog #aapl http://t.co/gOSQlrWvtl', 'Footage of the Apple-1 computer running. #ComputerHistory @apple @christiesinc http://t.co/nTGfnJWZ7G', 'Great service at @Apple #BethesdaRow thanks Jenna and Brandon!!!!!!!', '@apple please get yourself together! I need my products to work!', '@apple so thanks for being greedy assholes who force me to pay to get something THAT I ALREADY FUCKING PAID FOR WITH FINAL CUT PRO.', 'Why #AAPL Stock Had a Mini-Flash Crash Today: Money Morning: Nothing the analysts suggested would make a widel... http://t.co/jFGsSy2Ei3', '@kodam13 and #blunderblock if fricking @Apple ever gets their act together!!!!\\r\\n@AppStore we need Blunderblock by\\r\\n@BrandiGlanville', 'Steve Wozniak on @Apple, the Computer Revolution, and Working With Steve Jobs http://t.co/01201wlyzu via @BW', \"Uh, is @Apple making fun of French people (and being rude) in their new iPhone 6 'call from anywhere' ad?! That's how it seemed to me.\", 'If @Apple Will Poach From #Fashion, Then Fashion Will Follow Suit - The Business of Fashion - http://t.co/KVe1KXONfM', '@NickM538 @Apple tell them how ya really feel', 'Oh @Apple this is horrible packaging and shipping. #shame http://t.co/JaRpJYJ5Zu', '@apple iCal AGAIN!!! it reset all my recurring in spite of months of individualizing each one per current date. #fail #icloud #sucking', \"RT @chemixcalbieber: '@WhoaBiebz: GET YOUR SHIT TOGETHER OR I'LL GUY A SAMSUNG GALAXY S5 @APPLE' http://t.co/LEHpmkxK0a\", '@angusdick yes, had that exact issue. Took it to @apple for a free battery replacement. Trackpad ended up being fine.', \"@RedXPower @ChristmasCount yeah and don't make them into tablets @apple\", \"@Maine_Nitin Good morning! Looks like I'll be hanging at the @Apple store with the students and snowbirds sometime this week.\", 'if I tweet about NANDOS my phone puts it in caps, I like the iPhone six, it knows my favourite restaurant. good phone GG @apple', 'WTF MY BATTERY WAS 31% ONE SECOND AGO AND NOW IS 29% WTF IS THIS @apple', 'CNBCTV:  #Apple arguably most innovative company in world: Pro #aapl http://t.co/xWVD3zCkHu', '#AAPL:Is it time to start buying Apple?...http://t.co/5nulnjlbaG', 'CGK had laptop prob today.  @apple  Local #, useless. Tech support, useless. 1 hr at Genius Bar, useless.  Buy a PC next time?', \"Please, @Apple, don't go the way @Facebook has gone with their iOS 'release notes'.  We DESERVE to know what's happening with our gear.\", 'iTunes is pissing me tf off @apple', '#AAPL RT @FortuneMagazine Alex Gauna flips his Apple bit, sets Street-high target of $150 http://t.co/rsHjD9BrHp', '@FaZeNikan @Apple lol iPhone,weak. Get on that Lumia level bruh', \"iPhone 6 Plus Captures 41% 'Phablet' Sales in the U.S. $AAPL #aapl\\r\\nhttp://t.co/afedrJ4EPr\", 'Apple Wants To Make Your Commute Much Easier, According To This New Patent $AAPL #aapl\\r\\nhttp://t.co/FD6FCM2HQB', 'feel so lost with out my phone :(  @apple iPhone 5 chargers are horrendous! #brokenchargerprobs', '#Verr?cktes #Ger?cht: #iPhone6s zum @Apple [#Apple] Watch. (#Tuesday, 2 #December) http://t.co/PGCaSLAnZa', \"#AAPL:Apple Loop: iPhone 6S Rumors, The Myth Of Steve Job's Garage, iPhone 6...http://t.co/GwQ3JqikZd\", 'please make a gold macbook @apple', \"@apple why doesn't your people explain precautions when buying an expensive laptop\", 'Apple:Dec 5 Trading Daily Profit $1.57/sh,  Weekly Profits of $18.36/sh  #aapl #Stockaction #trading #Stocks #MKt  \\r\\nhttp://t.co/76R4rmUUNo', 'Options Outlook Amid Heavy Week Of Economic Events http://t.co/J7hj76F2sG #AAPL #GOOG #GOOGL #TSLA #WMT #PreMarket #Markets', '.@Apple is reportedly hiring fashion-focused staff for its physical stores http://t.co/ZoOnR3u5zV #FTDaily #FashionTech', 'The @Apple iWatch: Changing the face of watches http://t.co/EtfTAT5K7x #applenews #iwatch #gadgets', \"Apple 'deleted' rivals' music from iPods, court hears $AAPL #aapl\\r\\nhttp://t.co/7xYurDyY7R\", '@DustynMichael got enough @apple  products? http://t.co/nts3ebIxAL', \"@apple why can't i fnd netbot on app store !? help ASAP\", '@iTunes @apple my music library wont sync new music etc, iTunes tells me sync completed, nothing new uploaded,how do I fix this? FRUSTRATING', \"@CharlesJMeyer @Apple @Appy_Geek Hasn't Apple been doing this for decades? This is why I don't support Apple. #apple #deletegame\", 'yo @Apple , why yall make it so hard to grip the 6?.', 'Apple makes bad chargers. The @apple genius said wrap it in electrical tape. I wonder what Jony Ive thinks of that. http://t.co/HvxSJUt39p', 'RT @paisley_smithh: Real tired of my charger breaking every month @Apple', 'my dad called now my musics arent playing jesus christ @apple problematic', \"Ok, @apple. You win. I won't use your browser anymore since it keeps closing on me. Literally 8 times today. I counted.\", 'RT @TeamCavuto: Protesters stage #DieIn protests in @Apple store in NYC... Is it me, or is this anger misplaced? RETWEET if you agree.', '@l0lvivivuvu @sextsatan @Apple And replied... #livingthedream ~ARI', \"@apple why is it that your iPhone's alarm fails to work sometimes?? I missed 3 bonus points from a class because of this. Sooooo annoyed\", 'It would be nice if I could type more than one sentence without my computer freezing up @Apple @Microsoft @Word @Internet @Everyone', 'As Apple still struggles to meet iPhone 6 demand, Canaccord raises price target to $135  $AAPL #aapl\\r\\nhttp://t.co/IrZI8Q8F9r', 'Apple: $113 matches 8% increase in earnings. 2014Q3 EPS=$1.42 in  #IOS App Donkey Stocks on your #iPhone. #AAPL\\r\\nhttps://t.co/8CBUgrEHZS', '@Apple [#Apple] #Patents An #iPhone Drop Protection Mechanism That Changes Device .... (#Tuesday, 2 #December) http://t.co/WpnlcmBcSB', 'Myths vs. Reality-Full Time #Trading http://t.co/JH7BMS1Kgb #stocks\\r\\n#futures #forex #trader #es #aapl #gpro #eSignal http://t.co/bFnkHl3EYx', 'you just did too much you asshole. @apple get your shit together.', \"RT @ehsonakbary: THE WORLD'S FIRST MURDER VIA FACETIME THANK YOU FOR THIS INNOVATION @Apple http://t.co/Rz8es3q3fj\", \"Who's Buying All Those New iPhones Anyway? $AAPL #aapl\\r\\nhttp://t.co/oErygGHnsc\", 'RT @HorseshoeBmore #Holiday #Giveaway! To ensure you stay in touch on the go ck out brands like @Apple @amazon http://t.co/v2GViV6qnh', '@Apple This was NORMAL use-- NO ABUSE! Wrapped it exactly as you instructed me to. This is a fire hazard. You should replace it. #defective', \"RT @RaviMikkelsen: @HRHound @MandoGallegos Nice! If the actor had on an iWatch he'd have the entire suite of @Apple products. #sponsorDeal\", 'That moment EVERYTIME when walk out of @Apple after purchase &amp; receipt is emailed &amp; think getting stopped or not #MiniHeartAttack @tim_cook', \"Major crisis avoided @apple. You guys were able to restore my daughter's  #iPhone. Great service, thanks. #5starservice\", 'FUCK YOU @apple FOR MAKING SHIT PRODUCTS', \"Pop up #BostonHoliday - #UrbanNutcracker's @RussellFerg &amp; #krumpers are @Apple Store in Boylston St. @5:30pm today. Dancing &amp; chat'\", '@apple had a dream last night where I downgraded my #iPhone to a 4S and spent the rest of the dream trying to figure out what to do. #shame', '@OneRepublic @Apple HOW THEY LOOK THIS IS SO CUTE', \"I don't undestand how @SYFNews #CreditCare website doesn't work on @Apple prod-Had to request paper bills #WhatYearIsIt #poorcustomerservice\", 'Dear @apple replace my phone my battery sucks', 'China reminds Apple on need to support privacy, security in its products $AAPL #aapl\\r\\nhttp://t.co/5ABnwWVQxh', '@Nale When do you think #parable will be accessible in France @Apple #AppStore', \"Oh @apple, why do I have to delete my unwanted photos eight times. Once is enough. I don't want a 'recently deleted' folder.\", \"The 10 biggest differences between #Mac and #PC.  Yep, I'll stick with my Mac! #apple http://t.co/bxbjni5iHn @apple @LisaEadicicco\", 'RT @yungbaaz: god dammit fuck you @apple', \"#AAPL MT @FortuneMagazine Can Apple clear name in ebooks drama? Eddy Cue says he'd do it again- but take better notes http://t.co/xCYyyJtK05\", \"@Apple fix addis' phone so we can text each other pls and thx\", 'Companies i admire : @3QDigital @vaynermedia @apple. It must rocks to work there, because mainly of their boss and their culture.', '@Siri @Apple @SteveJobs @alarmthatdidntgooff this is disrespectful', 'RT @Amdocs: Top #iOS apps of 2014. @Apple names Elevate Brain Training as #1 iPhone app. http://t.co/tyRNmYGnDP', 'NO @apple NO! When I make an I phone Album I WANT IT TO STAY ON PHONE, not be removed when camera roll cleared.. GET IT TOGETHER!', '@AppStore @apple When is the release for the new #infiniteflight update in the appstore? @flyingdevstudio says the Update is in your hands', '@morrisjordan42 I would say it had a good life but fuck man, little guy was only like 3 mths old, fck u @apple and ur piece of shit chargers', \"Pegraton may Gain Orders for 50% of the 2015 4.7' iPhone 6S $AAPL #aapl\\r\\nhttp://t.co/jjvkpoa01X\", 'Protesters in the @Apple store pretty much sums it up. Its like a gravitational pull. Shocked it took this long. Next stop? STARBUCKS!!', 'At the Genius Bar@apple store.  Very helpful #AAPL staff and whoever helped me was genius. Comp wking again. http://t.co/GBPQdl8eCN', 'I hate my MacBook now. Fuck this update and fuck you @apple', '@Apple conclusion : Best client service ever', \"@jimmymujaj @Apple it works again fucker, not being a hoe if it's only one person SMD\", 'My phone just charged 23% in 45 seconds thanks @Apple', \"@apple please stop notifying me to 'upgrade iCloud storage' because I do not use iCloud enough to upgrade it nor would I pay for such things\", \"@Apple recruiting luxury executives for iwatch. I'll make it easy for them: just get celebrities to wear them.\", \"contact @Apple RT @mrstiffanyanne anybody that sold an iPhone before? i have questions &amp; can't find them on Google!!!\", 'hey @apple my 5s keeps glitching :/', 'iPhone6 fell 2 ft. Screen shattered like it was blown up. @apple wants an additional $109 to fix it. Maybe make a product that lasts?', 'RT @HorseshoeBmore #Holiday #Giveaway! To ensure you stay in touch on the go ck out brands like @Apple @amazon http://t.co/jMAL4mOWmz', 'Can I turn auto correct off @apple ?', '#Apple Stores hosting Hour of Code programming workshops on December 11th - http://t.co/lDmfG6nQES #AAPL #Tokyo', '#brooklyn is changing! @apple store is heading to BK!', \"BloombergTV:  Steve #Wozniak on What Really Happened in #Jobs' Garage http://t.co/M5Pl6xLjuV via @BloombergTV #Apple #aapl\", \". @apple diag and support suck a lot! It says 'cannot connect server, try again', then 'ticket not found' #disgusting http://t.co/ARyYbxOdox\", 'my phone keeps restarting on its own @apple dont play me like that???', 'Looking down on the crazy George Street, #Sydney in the rain from the @Apple Genius Bar.... http://t.co/fw8BCu1DOD http://t.co/dlrmFkDKHh', '@Sony and @Apple @iTunesMusic  @AppStore @tim_cook need to combine their efforts and  make one solid system accessible from any device...', 'Is Apple Inc. Losing the $5 Billion Ed-Tech Market? $AAPL #aapl\\r\\nhttp://t.co/lOLDOTy7jt', 'http://t.co/D2TeKpbQyw\\r\\n@Apple Default search engine', 'Sales Of The iPhone 6 Plus Have Settled A Long-Running Argument About Apple And Smartphones $AAPL #aapl\\r\\nhttp://t.co/4oaDjSZwg9', 'Love the @Apple is supporting #HourOfCode with workshops! :) http://t.co/WP8D0FNjNu', \"Changing words that aren't even misspelled like where do they REALLY do that at???? I would really like to know. @apple\", '#mkt Final #AAPL #PutCallRatios for Thursday, December 4, 2014:  http://t.co/pSiLO8mepA', \"@daulfn @AppleUK_ @Apple It's what most of our devs do\", '@OneRepublic @Apple THIS IS SO BEAUTIFUL', '@Apple @iCloud Family in-app purchase approvals broken since Friday? You might have some very unhappy, money-losing developers come Monday.', '@apple Excellent customer service thanks Ian #applestorecoventgarden', '@sometimesboring also wtf @apple i dont even live in kirkby', 'In first-ever Apple Watch hackathon, apps and challenges emerge $AAPL #aapl\\r\\nhttp://t.co/rmYFzMIE5K', 'Follow all developments in the #AAPL DRM trial that is finally underway. https://t.co/W9mVJwhtNQ', 'that yosemite update is so annoying i regret installing it -_- @apple sort out your shit bro', \"RT @WillliamLemar: RT @JustPoetic_: Why the fuck is there a 'recently deleted' photo album? @Apple\", 'We know that @Apple have a strong supply chain, but what is it that makes it that way? #SupplyChain #Operations http://t.co/Pk95RjYhcV', '#Apple Inc. and #Facebook Clash; Neither Is Wrong | The Motley Fool #fb #aapl http://t.co/AAy60rtQFC', \"Cheeky @apple...  Very cheeky.... No dice though... You can't own 'App Store' it's a description not a product - http://t.co/8L7VeRuzfs\", \"Got to hear about the new patent by apple ... and that's a quite innovative idea.... @apple.  The mobile screen will never break in future\", \"BloombergTV:  #Wozniak: What Really Happened in #SteveJobs' Garage http://t.co/dmNbZukzoz #aapl\", \"waiting a week for a DUNS number is preventing me from being able to build and release a client's iOS app. @apple why do you hate me so?\", \"RT @hypebot: Steve Job's Deposition in #iPod Lawsuit Could Cost @Apple $1 Billion http://t.co/7vDXwvxKpe #MusicBiz #MusicIndustry #Apple\", 'Thought this just happened to me. Why I HATE @apple to this day. http://t.co/19G2JYZOGI via @rollingstone', '@apple is laughing its pants off with the school programs here in Australia. They even manage to wringe money out of the poorest of people', \"#NYC #EricGarner protesters stage 'Die In' @Apple store http://t.co/5y1RRbx0SC LIVE @Rebelutionary_Z #BlackLivesMatters #ShutItDown\", 'Foreign Currency Exchange May Be A Headwind For Apple (AAPL) http://t.co/rMPiMkvLsH #AAPL', 'In case of accident, have you downloaded our free @Apple app yet #Winnipeg http://t.co/xFhk6vBQnl', \".@tim_cook That rage when dealing @Apple Geniuses when they maintain 'it's not a known issue' when a simple google search shows it's a big 1\", \"CNBCTV:  Citi's #Apple optimism #aapl http://t.co/CGRe961fib\", 'Dan Nathan: How To Profit From Apple Stock? \\r\\n$AAPL #aapl\\r\\nhttp://t.co/wkEoflid2Q', 'Thank you @Apple for fixing the #Swift sourcekit crashes in #XCode :). Life is better now! http://t.co/NbRWTTcZ35', 'Fucking goddamn stupid @apple @iTunes , ur too fucked up! #JustSayin #iTunes', 'Is it just me, who feels #Yosemite eats more battery &amp; Resource than #Mavericks?  @Apple are you reading this?', '@whereiscooldude @Cyrus_T_Virus @Apple wait no im okay here but yeah actually we should burn it down', \"How many of @apple's top apps of 2014 do you have downloaded on your phone? http://t.co/BTOgs1cDGc\", \"So cool! @Apple stores will host free 'Hour of Code' workshops on Dec. 11 to promote computer science: http://t.co/HrOHssVtK1 #tech\", '@apple why did you make it so difficult to get help with your products?  I just wasted 45 minutes of my life online and still am nowhere.', 'Currently on hold with @Apple in Cupertino to try to set up a Genius Bar appointment in Madrid #dontask', '@CadeRageous Thx RT .@Apple Own 2600 digital languages (IP) = NEW #internet Leader,10% of cost of #DIY .@googlenexus http://t.co/sQv0FmaPGO', \"I don't know what you're trying to do @apple but phone updates are turned off. Thanks for letting me 'aware' by error http://t.co/yMyoY61hz5\", \"YES.  RT @garrett_wollman: No, @Apple, don't 'remind me tomorrow'. Just f'ing TELL ME what the updates you want to install actually ARE.\", 'RT @Sjado: @Listen2Lena 3x bonus airmiles @Apple right now! #airmilesshops', '@Apple now is your chance with Apple TV.  #Verizon #FIOS is going downhill fast.  They are now using crappy plastic STBs with no displays!', 'These Damn @Apple Commercials Are Getting Worse and Worse', '.@apple MacMail on OS X #Yosemite is really giving me a hard time. Is there an alternative email program out there? #YosemiteProblems', \"@apple should buy @nintendo and @sega. They'd get emulation, characters, game content/portfolios, brand recognition, and developer contacts.\", 'Yeeaaayyy....awesome OS X Yosemite 10.10.1 roccckkkssss m/ https://t.co/cK8wPnN91V @satan_oppa @apple', '#Russia is selling its banned #SteveJobs #tribute #statue | @CultofMac http://t.co/RPsHWCAr3s #Apple #AAPL #iPhone #memorial #bastards', 'Seems similar to @Apple or @Google doing a cloud backup of my pictures. #OnlineFootprint #ModicumOfPrudence', \"Lol  RT @Ms_BiAnCa_BiSa: @MhDaDon @Apple I haven't decided yet. I might get bourgeois about it\", 'fucking @apple are memer FAGGOTS http://t.co/w8hbpxTRCJ', 'And how about kids?  Do parents need to monitor the @Apple power cords daily to make sure they are still safe?  #AppleCordFire', \"Will #Apple Inc.'s Profit Margin Continue Upward? | The Motley Fool #aapl http://t.co/oSlDAHbkJP\", 'Hey @apple let us get some Star Wars action on iTunes.', 'RT @BGPublic: Even MORE reason for @Apple to stop using benzene in its manufacturing.\\r\\n\\r\\nhttp://t.co/NjdYqwfVAE', 'As a die hard @Apple customer, I must say I am truly displeased with the customer service I was given today. #badservice #Apple', \"@nickruz4 @Apple I can't I just got a new phone /;\", \"Thank you @apple #AppleSantaMonica for fixing my friend's phone in less than 2 hours free of charge. You guys are the best.\", '#Winter can be scary but you can stay safe #Winnipeg with our free @Apple app http://t.co/wYJVGqW6qT', '#AAPL:10 Steve Jobs emails you need to read...http://t.co/82G1kL94tx', 'Imovie screws up my project yet again. I really hate @apple', 'Apple Pay And Services Lead To Price Target Upgrade For Apple Inc.  $AAPL #aapl\\r\\nhttp://t.co/Ot41TSjQlG', '90% nd i aint even leave the house yet @apple water u doin fam', \"Apple: Facing A Challenge From Google's Android $AAPL #aapl\\r\\nhttp://t.co/mpcU3cC4fM\", 'The rumoured @oppo R8207 looks very similar to a certain @Apple #iPhone6 http://t.co/eSUoXuE4lr', '@OneRepublic @Apple does pilot fly with us? ;-)', \"@DUNS4Apple @sashametro @Apple Your definition of 'easy' is warped. Thanks for the useless corporate speak.\", \"Pacific Crest's #Apple Analyst Reiterates Selling Some Shares - Forbes #aapl http://t.co/4WRGdhxi0G\", \"@Jon_Favreau movie 'chef' so original &amp; well executed. Reminded me of the days Steve Jobs dreaming up @apple and then created the #iPhone\", \"#AAPL:Buzz Stocks: Apple Inc. (AAPL), RadioShack Corporation, and dELiA's, I...http://t.co/OgEzr09gUL\", '@DelenaNian4eva_ @Apple chill?', 'My fix for syncdefaultsd crashing every five minutes and losing preference settings: keep System Preferences open @Apple', \"@Apple was fighting a 'never ending battle' against hackers of #iTunes, says chief Eddy Cue in #antitrust trial http://t.co/OlmqSV8R0H\", 'Guys at @Apple, is this serious? #Yosemite full of stupid and ugly bugs. Feeling #sad. (cc @tim_cook,@therealjonyive) http://t.co/42Mjc3SsJE', '#New @Apple [#Apple] #iPhone with 4in screen for #one. (#Sunday, 7 #December) http://t.co/cBdPX3qCVh', 'I have to be honest. My once great fanaticism for @Apple is turning into an equally great dislike.', \"my iphone 6 FINALLY came after almost 3 weeks don't think I'll forget this @apple\", 'YouTube Apple TV App Updated With Streamlined Interface, Video Advertisements http://t.co/6AzEBmp83T #AAPL', 'Apple Plans to Launch iPhone 6 Mini Version in 2015  $AAPL #aapl\\r\\nhttp://t.co/CIvVif64xC', 'Danger* but ok @Apple wanna fuck with me', '#iPhone6 sales success gives @Apple [#Apple] best ever UK market position. (#Thursday, 4 #December) http://t.co/HfvAuOzsoX', 'iPhone 7 Release Date With Top 10 Most Needed Features $AAPL #aapl\\r\\nhttp://t.co/6jmAQkj3rj', 'Apple TV fades away in streaming video player market - @Apple #vod #streaming http://t.co/5jYgtiCWlc', \"@Apple there isn't a puke emoji I'm pissed fix it fat\", '@GriffinNW @Apple @tacobell I love you @tacobell!', \"Attn @Apple :  Buy these guys &amp; make #AppleTV what it should be. 'Fan TV' Heads for the exit   http://t.co/mCPfhvKilJ via @pkafka\", 'Apple Is Warming Up To Social Media: Apple is hiring a social media guru in L.A. Will @Apple finally tweet?Her... http://t.co/lXnHXmdt9S', '@NevBackwoods exactly. Come on @apple / other phone companies, get yo shit together', 'The difference between @Apple and everyone else, in one photo http://t.co/RXaKDAJrwm via @qz', 'RT @JPDesloges: Apple to launch 4-inch iPhone next year: Report $AAPL #aapl\\r\\nhttp://t.co/x3lzm9bOoM', \"#AAPL:In Their Own Words: Investor Robin Chan Talks About Xiaomi's Lei Jun...http://t.co/kwkPByJ4p7\", \"Khloe Kardashian has a black iPhone 6 but I still don't have mine???... @Apple whats going on huh? picking favorites? you biased fucks\", 'UBS Says Consensus on December Quarter Apple  iPhone Units Could be 10% Low $AAPL #aapl\\r\\nhttp://t.co/wao7GqQ411', '@Apple iSchool? http://t.co/CMo0TsbHpI #education @applenws', 'Props for @apple iTC App Review Team for reviewing metadata rejected resubmission in just 2 hours! Thanks!', \"@marxculture @AppleUK_ @Apple ugh, I'm no longer a dev, remember? I now wear a suit. Oh wait, I don't like suits :) Yeh I'll probly do it...\", '@apple IOS8 is still shit', \"@Apple [#Apple] #Loop: #iPhone6S Rumors, #Steve Job's Garage Myth, iPhone 6C Speculation. (#Saturday, 6 #December) http://t.co/kZ27zJxqhf\", \"RT @nicwill30: Shout out to @Apple for making crappy iPhone alarms that don't go off and make me late for my final..\", 'The only reason I have an iPhone is because of iMessage. @apple BRUH make a better battery', '#Verr?cktes #Ger?cht: #iPhone6s zum @Apple [#Apple] Watch. (#Wednesday, 3 #December) http://t.co/mSMQYRTUTO', 'Thanks for pushing me into #yosemite @apple it has been the #WORST so slow and clunky. #cantgoback #misssnowleopard #whathappened', \"@apple make SD cards so we can add memory to our iPhone because we all know you won't allow SD cards until you profit from it\", '@Apple announces its top apps of 2014. Did your favourite app make the list? (via @mashable) #AppStore2014 http://t.co/rAaX3Wp3q2', 'RT @DecodedFashion: .@Apple is reportedly hiring fashion-focused staff for its physical stores http://t.co/ZoOnR3u5zV #FTDaily #FashionTech', 'Why Apple Watch May Be a Luxury Fashion Hit  $AAPL #aapl\\r\\nhttp://t.co/e8PoX8RNyx', 'Steve Wozniak Says @Apple Starting In Garage Is A Complete Myth @stevewoz- http://t.co/JyAtqxYwha http://t.co/EaBOxjAoFd', 'Here are the top apps for the iPhone according to @apple http://t.co/6gzv72TrNY #technologya', '@FastCoExist If you use @Apple congrats you just gave the government permission to spy on you.  #Apple', 'HATE @APPLE SO MUCH. RUIN MY LIFE', 'We need more products like .@Aviate Companies like .@BlackBerry &amp; .@Apple need to embrace the customization of quality themes.', 'Foreign Currency Exchange May Be A Headwind For #Apple #AAPL http://t.co/HH6LjnOq0x', 'RT @QueenCleo_92: Why are your phone chargers so terrible @apple Fix this @Jesus', 'CNBCTV:  #Apple top execs take stand #aapl http://t.co/IeWlOOLdER', 'Why do you hate business so much @Apple?', 'why does @Apple take so long to send you the password reset email #ipod #apple #soslow', '@apple I hate the microphone shit on the imessage please take it the fuck off', 'Square Launches iOS App for Food Delivery Service Caviar [iOS Blog] http://t.co/l9uaXkPbxU #AAPL', 'Got new cases. :) @apple @applestore @citycreek #slc #citycreek #apple #applestore #red ... http://t.co/eiT3tsudcu http://t.co/BPaOYLImcR', '#Rumors #Surface for @@Apple [#Apple] #iPhone6S and #iPhone7 in #2015. (#Wednesday, 3 #December) http://t.co/dC5O4hRKNn', \"Just had to buy a replacement phone charger for my son's iPhone. $40. That's why I'll never buy and @apple product for myself. Just greedy.\", \"Since when did @apple stop replacing iPhone units due to defect? Just because I have some scratches on my phone doesn't mean I dropped it.\", '@Apple lol. Yea bro.', \"Barclay's #Apple Analyst Joins The Crowd And Increases Price Target - Forbes #aapl http://t.co/6Z1DwxeCpE\", '7 awesome paid #iPhone and #iPad apps that are free for a limited time via @BGR #aapl http://t.co/AAAkSIIgP0', '@OneRepublic @Apple Ooh my god', \"Will Apple Inc.'s Profit Margin Continue Upward? $AAPL #aapl\\r\\nhttp://t.co/mK7jx2SlhF\", 'Hey @Apple what the hell is this hahaha http://t.co/r1Uspl8dHn', 'THIS 16GB IS GOING TO KILL ME. IM THIS CLOSE TO TAKING A SHIT ON MY PHONE @Iphone @apple', '@ProfessorF @Apple @HP I am a bigger fan of the @LGElectronics G Watch R.', 'STUPID FUCKING IPHONE CHARGERS ARE STUPID AND BREAK TOO EASY FUCK YOU @APPLE', \"Shout out to @Apple for making crappy iPhone alarms that don't go off and make me late for my final..\", '@apple fuck you bitches my phones abrick and stuck on the apple logo', '@Apple #iOS8 Notification Center is a pain in the ass: No way to sort, no way to dismiss all notifications, and hitting that [x] on each app', 'It took just one month for the #iPhone6Plus to become the king of #phablets... @Apple is king! #Jobspring #technews http://t.co/mAoSN8Hrrs', 'Worst thing I ever did was update the software on my computer. This update is trash @apple', 'yea let me just pay 600 dollars for phone so it dies at 30% fix your shit @apple', 'RT @saxonidubom: @rwang0 @Apple Thanks...thinking of upgrading.', '.@apple why do your computers like to crash on dead week before finals?', 'How to save a ton of money when you buy your next #iPhone via @BGR #aapl http://t.co/x35kXHBv0E', 'iPad Mini First Time Startup!: http://t.co/vGHN798zzs via @youtube @apple #ipadmini #ipad #macbook #macbookpro #startup #hipster #unbox', 'Most Recent Apple Inc. Lawsuit Hurts Share Price http://t.co/olF6IGu65g #AAPL', '#Apple lower following cautious Pac Crest, Deutsche notes #AAPL #CRUS http://t.co/QeSxIwzUIK', '@caseypieper @TheWeldingRoom @Apple @Monster @redbull I heard Monster was the hebrew devil. lol', \"Why the fuck is there a 'recently deleted' photo album? @Apple\", \"Wtf @apple y'all shit be cheap. http://t.co/jeOimq3HNA\", 'I am feeling creatively stifled by the current emoji selection @apple', 'Apple Opening Advanced R&amp;D Center in Yokohama, Japan http://t.co/RGTBpPywqJ #AAPL', 'Every student deserves a chance @apple #connected #txed', 'Is Apple The Most Important Stock On Earth?  http://t.co/1X62rp5R8y #aapl http://t.co/3YtD8Iz62i', \"@Apple I had a power cord problem- under warranty. You said it would be fine. It isn't. And now you won't replace it? http://t.co/fW3BoW53dj\", 'I just had 40% now I have 8% wtf @apple', 'RT @QueenCleo_92: Why are your phone chargers so terrible @apple Fix this @Jesus', '@SheLovesQuez @Apple you must not like em', \"So @apple wouldn't fix my phone and claims that I didn't tell them to screen was fucked.\", 'REPORT: #Apple Wants Fashion And Luxury Experts To Help Sell The #AppleWatch #aapl http://t.co/I1UpTiCF0i http://t.co/rorXfmpPSk', \"@THE_HIIT_COACH We'll use it. But we know that feeling only too well of waiting for your app to be approved by @Apple #LikeWatchingPaintDry\", '@Apple store #nyc I am honored to be here. #travel http://t.co/JnbCd79z1b', \"Even the @Apple #NYC flagship store wasn't spared a visit from the #EricGarner protests @verge: http://t.co/xEuDG7rAN7\", 'Early Movers: ANF, TJX, TGT, LYV, #AAPL &amp; more: These are the stocks posting the largest moves before the bell. http://t.co/Rwjm3lpzRN', 'Dear @Apple all I want for Xmas is for iOS 8 to stop crashing my iPad.  Signed, Cindy Lou Who of Whoville #apple', '@apple @drdre next big thing. Wireless earbuds. Aka earplugs with sound. Soundplugs', \"iMessage isn't working thanks @apple\", '@apple DUCK OFF', \"Today's Show On Demand features @LawyerPeteSchulte on #PoliceBodyCameras; @Apple opening in #Toledo, &amp; Hot 5 at 5! http://t.co/rKHubWeRjX\", 'Dear @Amazon, if @Apple could do it, you can too! http://t.co/l9vbG8JXcL', \"@wastwater1 l agree with you, they're about as robust as a chocolate fire guard @Apple @traffordcentre\", \"'Not a book on how @Apple or @Starbucks grow global brands. This is your book on how to grow your #stickybrand ' http://t.co/aJt29u9Bt1\", \"@MhDaDon @Apple I haven't decided yet. I might get bourgeois about it\", \"dear @apple, \\r\\n\\r\\nwhy oh why do I have to baby sit copying files in the POS Finder? it's not like copying files is hard. oh wait, it's you.\", '@CHAYILTrading #ChartOfTheDay Apple #AAPL http://t.co/QRVLWmGw1Z', 'RT @ColtonObrian: My phone died on 23% @apple what the fuck is this', 'Apple ! @apple http://t.co/tCfTmuauMY', '@whereiscooldude @Apple I kind of thought that before hand', 'but when is @apple gonna let me italicize', 'Short Menu 3.1 now live in the @apple #appstore. @floschliep', \"What if @Apple bought Telsa? Talent is key. Cook has access to Musk's bright mind on a permanent basis. Read more: http://t.co/nxhkHTGJ4L\", 'RT @JPDesloges: Apple mass transit system for Maps detailed in new patent $AAPL #aapl\\r\\nhttp://t.co/YhwWoUBR3Q', '@waywardhem @Apple I totally agree', '@tim_cook @therealjonyive #iosissues @ios8problems @Apple More issues. Now safari. I want jobs quality control back. http://t.co/W2754JV0dI', '@agiletortoise Once again @apple is inconsistent with app rules to maintain their Plausible Deniability. Sorry to hear that Greg @draftsapp', 'Hope @Apple &amp; #iOS will allow compact views for 3rd party keyboards like #SwiftKey and #Swype do on #Android.', \"just need @apple to come out with a charger cord that keep a charge &amp; don't fall apart http://t.co/VZ8HDbMzlu\", 'Will #Apple and #Facebook Crush #Google? | The Motley Fool #aapl #fb #goog http://t.co/Me8RLrIoDf', 'I love my #iphone6 @apple #MobilePhone http://t.co/5AJVSQXGDn http://t.co/kLwBBWIp0o', \"Day 12 without access to my @iTunes passwd. Apple 'working on it'. No new apps or calendar. @apple ecosystem has achilles? Your move @google\", 'Since Steve jobs left this world.. I have been having problems with my: #iphone5 #ipad2 #G5macpro @apple is done.. http://t.co/E4YLHjtK93', 'fuck u @apple', 'Feed My Ego (Futter Mein Ego) iPhone 4/4S Tough Ca  COMPUTING &amp; COMMUNICATION  Melasdesign http://t.co/jbVgROMp3p @cafepress @iphone @apple', 'god dammit fuck you @apple', 'RT @ppropp: Our buddies @ArccosGolf are at eye level in the @apple store #startups @ctnext @StamfordiCenter #nice http://t.co/r3j9yZ5G8u', '@tim_cook Not happy with @Apple @AppStore Backwards compatibility should be a given.  It is for my other apps why not Aperture?? Money Grab?', '@Apple store on 5th ave http://t.co/oIxg0YpFn9', 'Here are @SFBJEditor 5 things to know today, including who is hoarding the @Apple #iPhone6 http://t.co/lwacRDp3vU', \"@MacRumors @kellyhodgkins I believe it I bought an @amazon Fire TV for $69 @Apple You've lost another customer\", 'T-MOBILE/IPHONE LTE PHONE CALL WORK-AROUND http://t.co/rctGxbHpJH #iPhone6 #TMobile #Apple @apple #tech #smartphone http://t.co/nBlIiAW1JU', 'The 10 Most Important Differences Between #Macs And #PCs #aapl http://t.co/vSxUcX6vyx http://t.co/97huQ31qPT', '@Apple Sales@ IMac 24inch 2007 updated with Yosi... great family device, refurbished.. 鶯330.00 3 Month Warranty... http://t.co/hJ3fM4MxmN', 'Morgan Stanley Sells #Apple Inc., but #AAPL Stock Still a Buy: #aapl stock news Morgan Stanley Sells Apple Inc... http://t.co/Q20LTF26Uz', \"RT @abdinsyakirin: '@apple : Hey you wanna use iFon Siks? Jas follow @rizalscandal and u will get it! '\", 'In emails, Jobs determined to keep iPod Apple-only  $AAPL #aapl\\r\\nhttp://t.co/JwK4grA7Zq', 'Steve Jobs Predicted Future Of E-Commerce Back In 1996 &amp; Got It Exactly Right! http://t.co/w7q2G2SCbH via @sai #ecommerce #AAPL', '@pwilke @google @Apple @facebook ughhhh can @uber just see itself out already.', 'IM SICK OF YOUR FUCKING SHIT @apple', 'EU: Nice iPhone ya got there. Pity if something were to happen to it.\\r\\nhttp://t.co/vpn1gWZi2r @Apple @applenws @iPhone_News', \"I could really kick @apple 's ass. This iPhone 6 battery sucks moldy dick on a Tuesday night ! Worst shit ever. Only last 4 fucking hours.\", 'RT @unstanningzarry: my phone keeps fucking freezing @apple', \"MasterCard Teams Up With Gwen Stefani to Promote Apple Pay and 'Priceless Surprises' http://t.co/8SqKEuVjp5 #AAPL\", '.@Apple USE THIS 4 UR NEXT AD #funconvo http://t.co/rjPyqmFlWa', 'RT @Republican_Priv: @OneRepublic @Apple Take us down and we keep trying,\\r\\nForty thousand feet, keep flying', 'JMP raises Apple price target from $130 to $150, reasons why here: http://t.co/XOTExD9Y4o  #JMP #AAPL #Stocks #WallStreet', '.@Apple patents new reflex drop technology for #Mobile devices|learn how this could come in handy #MobileDose http://t.co/BSGtvfPc5B', 'dear @Apple get your shit together', '@Apple Pay = Compuserve | BTC = the internet', \"Loving my @apple #iPhone6Plus even though I've hyperextended my thumb reaching for the top Apps #thestruggleisreal\", 'Could #Apple Inc. Sell 24 Million #AppleWatches in 2015? | The Motley Fool #aapl http://t.co/JA0hy8d4U3', '. @apple why is my computer so slow', \"@Apple [#Apple]'s #IPhone6Plus captures Christmas at the #White House. (#Friday, 5 #December) http://t.co/4EXisKMcMV\", 'Apple Hiring Maps Engineer to Work on Improved Community Crowdsourcing, Siri/Passbook Integration http://t.co/0zAAAPH873 #AAPL', 'First @Apple employee: The remarkable odyssey of Bill Fernandez via @techrepublic  http://t.co/Kj4GDYMrqw', '#AAPL:5 companies growing faster than Apple...//rss.cnn.com/~r/rss/money_latest/~3/n1Ps4CmqWL4/index.html', 'Apple: $115 fits to 8.4% increase in earnings. Use 2014Q3 EPS=$1.42 in  #free IOS App Donkey Stocks. #AAPL\\r\\nhttps://t.co/8CBUgrEHZS', '@Jman98jlb @San0529 my phone does it automatically for some reason. Kinda dumb. Thanks @Apple', \"dang this phone fuckin sucks. fuck you @apple!!! piece of shit iPhone man. y'all disappoint me.\", 'My phone died at 8%, why would you let this happen @apple?', '@apple @iBooks is awesome. Thank You!', 'In case of accident, stay safe with our free @Apple app #Winnipeg http://t.co/wYJVGqW6qT', '@dougluberts @drakecraytel @Apple it is a universal problem with 128gb models. Some people think there will be a total recall.', '#AAPL:Exchange iPhone for Passport and Receive Up to $550...http://t.co/dIskJKI4Ch', '@apple and @VerizonSupport the support I received for my iPad tonight was ridiculous going in circles with no solution smh', 'Updated to Yosemite on two machines. Both are now painfully slow. Thanks, @Apple.', '@sacca If #simplicity was hard to charge for, why is #AAPL the most valuable company? #ipad', 'Ha, poor @apple trying to make its iPad and MacBook look useful in its commercials. Not even close to the power of @surface Pro 3', \"Jeff Daniels in Talks to Play Former Apple CEO John Sculley in Aaron Sorkin's Steve Jobs Movie [Mac Blog] http://t.co/qg1CP2ozaW #AAPL\", \"We're so excited to be named to @Apple's 'App Store Best of 2014' list this year! http://t.co/d7qlmti4Uf #Apple\", \"Is there ever going to be a moment y'all are going to fix the battery? Mine goes from 100% to 22% in an hour. @apple\", '#Apple in the Dock: $1 Billion Antitrust Claim Casts #SteveJobs as Conspirator #aapl http://t.co/qZaTiTlR26', 'Tim Cook Shows Off Apple Watch to Chinese Internet Official, Discusses Security Issues http://t.co/4nrcjqs75m #AAPL', '@Econsultancy on @Apple: the #customer #journey from #search to #checkout https://t.co/wKiiSW3oS6 #CX #UX #ecommerce #casestudy', 'HOW TO: Make a realistic, song-length drum track using @apple Logic Pro X Drummer: http://t.co/5o26s4ZrqC #ProAudio http://t.co/PNlkoLdie6', \"@apple @verizon where the fuck is my phone it shouldn't take this long.\", 'Happily, @apple restored my faith in them today at their Arndale Store following my earlier complaint.', '@jengolbeck @Apple introducing iGlove, an Apple product allowing one to single-handedly operate an iPhone 6.', 'Phone just died while it was plug in. @apple what the hell?', \"#AAPL:Apple's iPhone 6 China Unicom Lead-Times...http://t.co/UGTZfd2Huj\", '@OneRepublic @Apple Hahha All Apple Users have the Same Problem /\\r\\n\\r\\nLow Batteries..', 'Lets go shopping!!! @apple http://t.co/uTFUHuoJIi', '@jakeflem @Apple Try booting while holding Command R and see if you can do a disk repair', 'Steve #Wozniak on #Apple, the Computer Revolution, and Working With #SteveJobs - Businessweek #aapl http://t.co/DvUBLAZ9x4', \"#iPhone5s is the best mobile that I have had. That's easy It is only that works and It is wonderfull! Thanks @apple @tim_cook\", \"Watch the weekend's new TV ads from @RadioShack, @Apple and more http://t.co/cKdkibI6PL\", '@kaitlynpearle @Apple get android', 'RT @elnuevoherald: Steve Jobs, clave en juicio contra @Apple \\r\\nhttp://t.co/IcEOFgkm1q http://t.co/eDiR5Mahxn', 'So @Apple just gave me a huge middle finger to the face', '@stevewoz @Outback Its good to see you doing these videos on apple ii and doing possible @apple related projects is all very exciting.', 'iPhone 6 Shipping Times Drop to 3-5 Days $AAPL #aapl\\r\\nhttp://t.co/7BU5WzQ1EE', 'Lol dying @apple http://t.co/EP8hQb2O2H', \"'@OneRepublic: Studio at 45,000 ft.  One outlet,  4 computers.  @Apple we need the batteries of the future NoW!!!! http://t.co/QjxG0DilPO'\", 'CNBCTV:  #Chromecast beats #AppleTV #aapl http://t.co/uX3vYSzHhu', \"I'm learning all about Apple at @Influenster! @Apple http://t.co/CKyptDnrtg\", 'RT @mkschuster: . @apple why is my computer so slow', \"CNBCTV: Buy #Apple's pullback? http://t.co/nlu6irYKVL #aapl\", '@apple please make an iflipphone', 'RT @smartoutsource1: @Apple #iPod lawsuit will reveal unseen Steve Jobs video http://t.co/nEF5qOGbHE', 'When a company is playing catch-up, it lost its innovation momentum. Sorry @apple http://t.co/jSDeyIpnek via @tomshardware', 'Who knows someone that works or has worked @apple in Cupertino? #bayarea #techies', \".@Apple patents new tech that shifts #iphone's center of gravity during falls so it lands with minimal damages. http://t.co/Keq4BpXQDU\", \". @apple I don't think the '59' should be so close to the '00' when setting an alarm on an iPhone. Many times I have fallen victim to this.\", 'Is now a good time to switch to @Apple #iCloud Drive ? http://t.co/XdSZpusYWq', 'Way to stay relevant RT @thehill: Justice Department cites 18th century federal law to get @Apple to unlock iPhones: http://t.co/mptcggWZO1', \"Update: #Apple's #HealthKit Seeing Early Adoptions #AAPL http://t.co/dtJI2hNtoq\", 'All my Apps on @apple #ipodtouch5thgen http://t.co/cRhwdbSxSx http://t.co/UNpPU4zrRq', '@losskitty @Apple its always like that with new products from apple', '@styIesburn @Apple DOIS', '@YouKantFindMe @Apple kashka and clave own your mind', '1 in 10 US iPhone 6 owners have now used @Apple Pay - report  http://t.co/JkiQUH9i86', '#iPhone6 users complain to @Apple [#Apple] about front. (#Wednesday, 3 #December) http://t.co/PiCjZ3u6us', '@Apple @DonorsChoose @BestBuy Help me reach my goal.', '@nheagy @apple needs to stop auto arranging the home screen, and allow users to position apps wherever they want.', '@marxculture @AppleUK_ @Apple Yeh was thinking of doing exactly that. Just wanna install decent unix on ok hardware &amp; live happily everafter', '@Apple I h8 everything about u', 'im so pissed i plugged my phone in overnight but it didnt charge fuck u @apple', '85 Ideas from 85 Years: Microchips, @google , @Walmart, @apple, junk bonds, the Pill and Singapore make the list. http://t.co/515obKajDK', 'WTF @Apple, synching notes or iCloud pages is unusable. It used to be easier.', 'RT @dbreeeezy_: so with ios8 u can delete a contact but its not actually deleted fml fuck u @apple', 'media reports say that @Apple is hiring pros from the fashion and retail industry - #wearabletechnology is fashion http://t.co/IVWpWzgUp7', \"@Apple why isn't there an otter emoji\", 'RT @JPDesloges: How Apple Will Boost Profits During the Holiday Quarter and Beyond $AAPL #aapl\\r\\nhttp://t.co/lHsL5ORJS7', 'RT @_Jamelia_: Dude, @apple is all over the marketing for beats. They have a great marketing team at apple.', \"@twitter @facebook @AlibabaTalk @google @Apple n more in race to win payments? What's future of #payments start-ups? @microsave @FinTechHub\", 'RT @jopocop: BloombergTV:  #SteveJobs Testimony to Play Key Role in #iPod Trial http://t.co/vVRrZZMUdL #aapl', '1st quarter ? RT @Ms_BiAnCa_BiSa: @MhDaDon @Apple next year', 'another fucking software update? really? @apple', '@_emilymahon @nosheenh2oo9 @Apple shut the hell up', 'So so sooooo annoyed. Did the restore from my back up and lost my voice mails. I needed to keep those. Thanks a lot @apple', '.@apple fix yourself http://t.co/l1VsGFaQib', \"@apple @stevejobs @iTunesMusic yooo fam it's been 48 hours where's my email back I need that @JColeNC album when it drops\", 'Apple:Dec 9 Trading Daily Profit $3.48/sh, Weekly Profits of $6.26/sh  #aapl #Stockaction #trading #Stocks #MKt  \\r\\nhttp://t.co/UWiS8GwJ17', \"#WearableDevices To #Consumers : You're Putting Me On - http://t.co/2eSSgN5Wsv #IBDNews via @IBDinvestors  #aapl #nke #grmn #amba #invn\", '@angelicaxpham does it look like i fucking have 12 days @apple', '@sashametro Its the iupdate process that is so incensing. what rubbish. Hopefully @apple will be irrelevant again soon.', 'Apple MacBook (鶯949.86)\\r\\nhttp://t.co/f5IHhOnzHM\\r\\n@office_nerd @apple\\r\\n#tech http://t.co/dWX2Q7sS6F', 'RT @FrankThePilot: can we get a touch screen macbook @apple', \"Mark #Zuckerberg Slams Tim #Cook: You Don't Care About Your Customers #fb #aapl http://t.co/HWDmpRoIgT http://t.co/58j6KPMIlI\", 'Check out our Founder @gernieb views on @Apple &amp; @facebook #EggFreezing benefits for female engineers: https://t.co/vHZ1RcNWru #WomenInTech', \"Safari just crashed on me and I didn't have any tabs open wtf @apple\", '#xcode #AAPL - source kit crash in swift - getting annoying now.', 'I love my phone so much thank you based god @apple', '@justinbieber @apple get on it', 'New @apple problem. At airport. Boarding pass on phone. Held up to scanner at security, and my #ApplePay credit card takes over screen.', \"RT @spencerescott: Have Apple's iPad Sales Peaked? #AAPL http://t.co/zDUTviV8ys\", \"Apple: Kantar's Data Points To A Huge December Quarter $AAPL #aapl\\r\\nhttp://t.co/kQvqbBr5Aa\", 'more* fuck you @iphone @apple', '@SwiftKey @Apple too bad all third party keyboards on iOS are buggy as hell and therefore completely unusable. Undeserved.', 'APPLE - Fibonacci Technicals Levels - LAST  Intraday  Update - $AAPL #aapl \\r\\nhttp://t.co/OeYEqn72er', 'the fuck kinda gay shit you print in the fucking ketosis @apple', '@apple #apple #iphone @iphone #iphone4s #iphone4problems  SOMEONE FUCKING HELP ME SOMEONE WHO WORKS AT APPLE FUCKING HELP ME DO UR JOB CUNTS', 'I hate you so much @apple @macs', 'Apple Inc. vs Google Inc: The Battle Of The Tech Giants http://t.co/eQx6S6fxtP #AAPL', 'JMP Securities Thinks Apple, Inc. Is Going to $150: Time to Sell? http://t.co/0K1VgDqHqE #AAPL', \"Attention @apple! Your free iPads would go faster if your emails didn't go straight to junk folders. #sortitout\", '@umo_games @Apple thanks for the info. Genius was able to get the computer booted by forcing the discreet video card on boot', 'Why @Apple Needs #China to Love the #AppleWatch (AAPL): http://t.co/psajA2okfM via @themotleyfool #Wearables #WearableTech #Apple', '#apple to expand #retail in #India by opening 500 new stores.\\r\\n\\r\\n@Apple http://t.co/rzhMzoQE1v', 'RT @HorseshoeBmore #Holiday #Giveaway! To ensure you stay in touch on the go ck out brands like @Apple @amazon http://t.co/EhR3sX3DJG', '@renoxalex @Apple so sick @tacobell is petitioning for one', 'So, Which #PromoProduct suppliers carry brandable @Apple compliant adapters? #HeadsAreGoingToRoll', '@Apple iSchool? http://t.co/qpDxDpX3Qj #education @applenws', 'Very displeased with the lack of #BDSM themed #Emojis. @Apple @Android', 'Every time I change keyboards this come up. Like wtf @apple get your shit together http://t.co/A9cimyYod8', 'My iPod touch case 5 @apple #ipodtouch5thgen http://t.co/8H6UXnwx9P http://t.co/PzaZYtxpGX', \"RT @pambesteder: @TeamCavuto @Apple At this point it's not anger. It's simply a manifestation of stupid.\", '@sashametro @mayhembcn @apple happy to help..if u use kind words :). Using apple process is free and fast. http://t.co/qQGQokjaxE. DM with ?', \"It's been said 'don't talk about politics', But I can't take it anymr. I'll still post about @cisco, @apple and others. But we need change.\", \"still can't merge multiple apple-id's @apple #fail http://t.co/5BNAihk58p\", \"JMP raises #Apple price target to Street-high $150 on 'exceptionally strong: Apple Insider: #AAPL: 115.49 (-0.... http://t.co/qbgp7vm6Re\", \"I will definitely think carefully in the future about buying something from @itunes if @apple Support can't even tell me what's going wrong.\", 'Is It Time to Buy the Dip in Apple Inc. Stock? http://t.co/yDiX7wZOLP #AAPL', 'yall chargers weak yall needa make iPhone charger otterboxes for the cord @apple', \"@Juicy_Potato @Apple tbh annoyed with apple's shit at the moment\", 'My iPAD is playing disgusting music and I cannot make it stop. HELP! @apple', \"@apple how/why did my iCal undo 6 months of entries related to recurring date entries? they all re-set to 'pay CC'. i had changed to $amnt..\", '.@apple you suck', 'Our new @Technogym treadmills getting assembled. Could only be better if @Apple #CarPlay was compatible... http://t.co/C406UvH1uK', '@apple #greatservice thanks for helping me out. #sylvester', 'Disgusted with @apple advertising for the iPad air. #falseadvertising #nono', '@pill0w_talk well dey need one get on it @apple', 'Typo Launches New iPhone 6 Keyboard, Avoiding Previous BlackBerry Lawsuit [iOS Blog] http://t.co/M431nBVAAX #AAPL', '@apple fuck yo shit', '#Russia Could #Ban #Apple Inc. #iPhone For #Lawmakers | @ValueWalk http://t.co/QHgO1Ncbgr #AAPL #tech\\r\\n\\r\\nFor reverse #security reasons', 'Steve Wozniak to Star in an Upcoming Reality TV Show Focusing on Futuristic Tech [Mac Blog] http://t.co/88VJAjePI4 #AAPL', \"IT'S NOT LIKE THE APP COSTS MONEY JUST LET ME DOWNLOAD IT @APPLE\", 'RT @huffpostgay: @Apple CEO Time Cook gets a unique honor in his home state of Alabama http://t.co/TDRfmjsV7L', \"@Apple YH News Apple's antitrust lawsuit may not have any plaintiffs: The lawyer suing Apple for antitrust may...  http://t.co/hNuWafq0sI\", \"had android chargers for years &amp; they're still top tier. please keep up, @Apple.\", 'RT @BigBlindz: BlackBerry wants your iPhone, and will pay for it.\\r\\nhttp://t.co/ydpQJKKfvM\\r\\n #bbry $bbry #blackberry #iPhone $aapl #aapl', 'Is Apple The Most Important Stock On Earth?  http://t.co/I5DCA8DagG #aapl http://t.co/Qk9EPOOmhl', \"@TeamCavuto @JustinRaimondo @Apple it's you\", 'RT @CNET: @Apple pioneer Bill Fernandez on @Google Glass, Oculus Rift and the look of the future http://t.co/YSvkfs1h6a #innovation', 'Why is it so hard to reach / buy Suicide Squad comics at apple store in Turkey? @apple @DCComics @AppleTurkey', \"It's Sunday night, wanna watch #COMET online? If you're an @apple person then just head on over to @itunes. https://t.co/xTwFKIAHZV\", 'Forget #Apple, Here Are Better #Tech Stocks to Buy | The Motley Fool #aapl http://t.co/drJdIvOtxu', 'No at typo changing my words. Get it together @apple', '#Rumors #Surface for @Apple [#Apple] #iPhone6S and #iPhone7 in #2015. (#Wednesday, 3 #December) http://t.co/ErwYTy3heX', 'BloombergTV:  #iPod Trial: Consumers Had Other MP3 Options: Gauna http://t.co/yNfVXKsnda via @BloombergTV #aapl', 'More expensive @Apple products failing after less than 18 months.  No warranty, no recourse. Why is it we buy this junk again?', \"RT @RatingsNetwork: Apple's PT raised by Citigroup Inc. to $135.00. http://t.co/LNHaOfRxU2 $AAPL #AAPL\", 'RT @_emilymahon: @nosheenh2oo9 @Apple this is my most favorite tweet', \"I've been considering suing @apple for putting that shitty U2 album on my phone\", '@apple has caused me so much pain today', 'Is Apple Inc. Losing the $5 Billion Ed-Tech Market? http://t.co/uc6KDLEFLM #AAPL', '@TeamCavuto @Apple A protest should not show any form of violence, because violence is very destructive: https://t.co/DvTwIh8MdV', 'hey @apple fuck you just let me change stores', 'Even MORE reason for @Apple to stop using benzene in its manufacturing.\\r\\n\\r\\nhttp://t.co/NjdYqwfVAE', \"Whoever downgrades from a iphone 6 to a 5S obviously doesn't understand the extra 20% battery life. Every morning my 5S is dead. @apple\", \"I'm so done with this piece of shit phone why doesn't it ever send me notifications when taylor tweets fuck u @apple\", 'Great piece from @howardlake on @apple &amp; the new #RED #app store - profits from exclusive content go to @GlobalFund: http://t.co/XpOzPTnWSV', 'Just got the iPhone 6+ @apple', \"U.S. Government Attempts 'Hail Mary' to Get #Apple To Unlock #iPhones #aapl http://t.co/EzUsCC5ZgI\", 'I hate these @apple earphones so bad. Why in the world did they think it was a good idea to p http://t.co/X7lIGAQeG5 http://t.co/ihR2OGZa6s', 'RT @SFBJNews: Here are @SFBJEditor 5 things to know today, including who is hoarding the @Apple #iPhone6 http://t.co/lwacRDp3vU', '#iPhone6, #6 Plus Availability And Wait Time Update: @Apple [#Apple] Store, Verizon .... (#Sunday, 7 #December) http://t.co/edyMMWIYeN', '@EM_Magazine @Apple How about showing us also in Sonar X3,Ableton Live,Propellerhead Reason,Reaper and MixCraft.', 'my phone is so slow now that i updated to ios 8 im so angry @apple fix this', 'NO CALLER ID must be able to be BLOCKED on @AppIeOfflciaI products. @applenws @apple #Apple #iPhone6 #iPhone6Plus', \"Lol fuck you. I'm still not buying a new one. @Apple http://t.co/XHqOVbNfZK\", \"Help? 4s won't sync (doesn't even give option) w/ latest @itunes. Tried fixes I found... no bueno. Thoughts? @apple #techsupport\", 'MacBook Pro 13   Non-retina First Startup: http://t.co/9l6RK2OLq2 via @youtube @apple #macbook #macbookpro #startup #hipster', '@Apple can you please make a charger that actually last', 'TheStreet:  #Apple Gets Price Target Boost on Back of Strong #iPhone Demand #aapl  http://t.co/f2qTGIBDDq', '@OneRepublic @Apple Maximally concentrated Brent ^_^', '@apple @nike #BlackDollarsMatter: An Open Letter to the Companies That Support #LGBTQ Marriage Equality/Civil Rights. http://t.co/F2uslRVbBc', \"It's just dawned on me that I've probably spent more on replacing frayed / non functioning Iphone cables than I've spent on iPhones @apple\", 'iPhone chargers can suck my ass @apple #disappointed', \"#AAPL:One Of Apple's Earliest Employees Describes The First Time Steve Jobs ...http://t.co/4E0xzglORa\", 'had soo many iPhones and never had a problem, smashed 2 screens in 3 months with this 6 @apple u can suck my balls', \"okay so now the sound to my phone is messed up..I really think you're doing this on purpose @apple\", '@Apple to Host Free #Coding Workshops in Stores http://t.co/jqAciR5UrY', '@apple #apple corporate raiders selling weak products that stop working within weeks&amp;apple gets out of warranty by claiming dampness', 'Details of the #Apple Inc. #iPadMini4 Revealed | The Motley Fool #aapl http://t.co/rDTJniTaUs', \"No, @Apple, don't 'remind me tomorrow'. Just f'ing TELL ME what the updates you want to install actually ARE.\", '#AAPL:Apple heads to trial with Steve Jobs as a witness...http://t.co/qq3XcPJPTk', 'RT @TypicaIStoner: RT if you think @Apple should approve this Emoji http://t.co/MI6sKtkaye', \"I was out to dinner last night and left my computer to charge.  Had the fire happened then, I'd have no house.  @Apple #AppleCordFire\", 'Dear @apple @itunes WOW! You really made iTunes SUCK! Please stop updating it and making it worse than it was before. Thank you.', \"Mark #Zuckerberg Slams Tim #Cook: You're Not In Alignment With Your Customers #fb #aapl http://t.co/HWDmpRoIgT http://t.co/YUIelx9q2J\", '@Apple ??? My iPhone 3 which has been sitting quietly for a year in a protective case just split open at the back http://t.co/PyoHjiuG03', \"what the hell is this 5gbs of 'other' data on my phone @Apple?????????\", '@ok_fatty @apple thanks 4 almost burning my house down', '.@apple has a 40% market share of UK smartphone market - driven by the Iphone 6. Great that over a third of sales were made in Apple stores.', 'Strategic steps towards Full-Time #Trading http://t.co/JH7BMS1Kgb  #stocks #futures #forex #trader #es  #baba #aapl #gpro #fb #eem #eSignal', 'Is #Apple Inc. Losing the $5 Billion Ed-Tech Market? | The Motley Fool #aapl http://t.co/bIz7kKXY2t', \"Here's Apple's Next Great Business (AAPL) http://t.co/Crci4dHH39 #InvestWall #AAPL\", 'that was terrifying, suck my ass @apple', '16GB @Apple #iPad Air 2 Retina WiFi Tablet $400 + Free Shipping via #EBAY http://t.co/TrkYuoYew7 #CyberMonday #firstworldproblems', '@Tyniaaaa_  FUCK @JColeNC  and @apple', '@ATTCares @senisbs Wireless Family Share plan, one line upgrade just killed my discount. Not sure it was mentioned on @Apple pre-order page.', 'RT @BrandFuel: So, Which #PromoProduct suppliers carry brandable @Apple compliant adapters? #HeadsAreGoingToRoll #MFi', 'really @apple? your search tool is USELESS. nut kicks http://t.co/KQH02bePBu', 'RT @bchmura12: .@apple you suck', 'A Orwellian vision of the world once @Apple Pay takes over by @Chris_Skinner http://t.co/oEdBHAki1Z', 'My Iphone just autocorrected believe to beiber. @apple how hard do you guys need to give it up?', 'MacBook Pro 13in Unboxing: http://t.co/F3IM9YbpxF via @youtube @apple #macbook #macbookpro #startup #hipster #unboxing', '@apple really needs to do something about these bullshit cords', '#Apple admits it deleted songs purchased through competing stores from iPods ... - http://t.co/5YDlxI8TJ5 #AAPL #RealNetworks', 'GVA lounge: in sight 6 Macs and 3 PCs + undetermined number of iPxs! #AAPL', 'Washed my earphones by accident, still works. Thank you @apple , actually did something good', \"Apple Transitions 'Find My iPhone' Web Maps for http://t.co/cCJwa5Q7AV From Google to Apple [iOS Blog] http://t.co/AFsiwXv6pg #AAPL\", \"What's at the core of @Apple's new #iOS7? Excellent updates for your phone's #mobilesecurity. #McAfee - http://t.co/pVo68ZVdq4\", 'JMP Securities Thinks #Apple, Inc. Is Going to $150: Time to Sell? | The Motley Fool #aapl http://t.co/LpjS6iyh0I', 'Gotta love the Genius Bar @ @apple!! Thanks for your help Alex!! @ Apple Store, Suburban Square http://t.co/OLfpZ8m9qX', 'over 1 hour on hold with @apple customer service trying to figure their messup o http://t.co/E5gCvoJTPO', 'Comparison between @apple maps and @google maps: http://t.co/FyzGWVm6NR #longreads #webdesign', 'What the hell is this @apple @WhatsApp #glitches http://t.co/iKuRl4iUOE', 'Apple again orders app developer to remove a useful and popular feature http://t.co/aJ2obsNjd1 via @Appy_Geek @apple dictatorship!', 'Our first ever #OnFoodableWeekly! Much to discuss on this episode! @apple pay, @habitburger , Fast Casual #Pizza http://t.co/bR8FfNd9Ga', 'The new @Apple iPad Air 2: Change. http://t.co/90CNf5S654', '5 Unfiltered Quotes From #Apple Co-Founder Steve #Wozniak #aapl #woz  http://t.co/ASTCna26PQ', \"Here's @Apple's next great #business! What will be Apple's primary source of revenue in 2015? http://t.co/Y6gvYZcYHp #service #company\", \"#AAPL:Here's why Apple shares will reach $135: Analyst...http://t.co/KTqY2USXRh\", 'Why Morgan Stanley Is Negative On Apple And The Tech Sector $AAPL #aapl\\r\\nhttp://t.co/wARhEy9ueH', '@QuentinNield @Apple I need to reinstall on my Apple iPad 2', '.@Apple Store is coming to Brooklyn http://t.co/sD7pb4OUcB', \"RT @WeeWiii: Wtf @apple y'all shit be cheap. http://t.co/jeOimq3HNA\", 's/o @apple for this really great charger that works so well! #not', '@tim_cook @Apple FIX MY PHONE', 'OR @phone OR @apple I FUCKING HATE YHIS OHONE OMG IM SO EMBARRASSED', 'All of my apple product chargers look like that RT @LunchGod: Theyre not RT @Naivana_: You gotta be kidding me @apple http://t.co/4lXkHinwd2', 'Cyndi Lauper and Cinna- my big ask* phone on TV @apple #iphone6plus @ Rockefeller Center http://t.co/xk2u5vzaBE', \"@jakeflem @Apple But it won't fix the problem for good, could back and you might have to change the logic board, check with  Apple Genius :(\", \"@apple need to sort this b*llshit out with safari in Yosemite! 'Safari can not find server' #apple #macbook #YosemiteProblems #Yosemite\", '@Apple are you doing 12 Days of Gifts again?', 'RT @jgreerthaatruth: Done with this iPhone 6 plus Apple or sprint giving me my bread back. Trash ass phone full of fuck ups @sprint @apple', 'Bring back the tap to tweet @apple @twitter', '@Apple ay cuhz step your shit up,have a good phone with a real charger ready by february or we outro', \"It's been over a month of store visits and calls and still my iPhone doesn't receive texts from non @apple or @ATTCares customers #fail\", 'Survey feedback on @Apple iWatch positioning as a fashion accessory over geek-centric gadget http://t.co/33xSmA4r9J http://t.co/LrpnZNR4rY', '#AAPL:PM Abe says Apple to build technical center in Japan...http://t.co/DeavV9AYMk', 'Is Apple The Most Important Stock On Earth?  http://t.co/pKWn6E56PU #aapl http://t.co/gKVmw9wjVD', '@alharding if only @apple had robots reviewing apps!', '@Apple patents system that changes the position of an iPhone mid-air\\r\\nhttp://t.co/7S343PHPEb #Yay', \"This iPhone 6 battery isn't as good as you claim, @apple\", \"Apple's PT raised by Barclays to $140.00. overweight rating. http://t.co/Wcq9xY6Kor $AAPL #AAPL via @RatingsNetwork\", '#CondoSeniors said @Apple needs to supply condo with dedicated tech. So many issues with iphone, imac, ipads warrants it. Tech will eat well', 'Apple Inc heads to trial over digital music claims http://t.co/ojTt06NJ5r #AAPL', '#Robots #fabricando #iPhone, #iPad Pro, @Apple [#Apple] Watch, Apple TV y el #.... (#Sunday, 7 #December) http://t.co/TzzREU7NCt', \"@Apple I'd like to see emojis that look like me\", 'The #AppleWatch And Its $11 Billion Impact On Earnings In One Year #AAPL http://t.co/OUZBVanyRh', \"@Apple, how does the word 'demographic' not have any synonyms attached in your dictionary application #incompetence\", '@Apple seems to be nailing it with @applepay, building on their success &amp; brand http://t.co/za9T4z6xRN #AppleID #NoMorePaywords', 'Yes @apple, now is a perfect time to lock my screen and install a software update without asking. #not', '#Jobs Said #Apple Took Pains to Protect Record Contracts #SteveJobs #aapl http://t.co/5PlKs2LRTT', \"RT @dmcgroarty: RT @MetalBanker - Where do #iPhones come from? What's in your @Apple  #RareEarths http://t.co/KuMCbKMREV\", 'Happy Monday! My camera on my fancy @Apple #iPhone6Plus suddenly stopped working this weekend, so instead - I meme. http://t.co/Mb067jv5SD', 'RT @thehill: .@Apple CEO @tim_cook visits @WhiteHouse http://t.co/O5dYvVi0I1 by @JMHattem', 'Just used Apple Pay for the first time thanks @apple', \"#AAPL:Apple's Eddy Cue Talks About Price-Fixing On E-Books: He'd 'Do It Agai...http://t.co/mSC8uepzPn\", '@stevewoz @apple this one got by me patent for apple anti gravity phone includes predictive programing. On drops http://t.co/eYM07DIqTY', \"I've Abandoned #iTunes And I'm Never Going Back Because #GoogleMusic Is So Much Better #aapl #goog http://t.co/dp6pTxrTvp\", 'why is there no black heart emoji @apple', \"RT @ColdDimSum: Too much completely broken shit in the world, fucks sake. (And Fuck You @Apple for the bullshit 'autocorrects')\", '// when i have gone through 6 iphone chargers in the past montht hank s @apple', 'Fucka de you @apple', '@apple Hi! A few days ago I purchase 2 ringtones and non of them appear on my phone or purchased, but they appear in my credit card', '@JustinRaimondo @TeamCavuto @Apple This is #morphing into actions against police as Praetorian Guards working for the unaware rich.', \"Nigga my phone has froze 3 times today &amp; it's not even 11 am tf @Apple\", \"@marxculture @AppleUK_  Thanks, I'll keep it in mind. Tho, I've lately been so unhappy with everything @apple that I'm moving away from them\", 'Anti-trust expert Peter Carstensen of @WisconsinLaw can discuss @Apple #antitrust case in California federal court http://t.co/LClHnQMOKf', '@Apple your new ad is fucking racist against the #french', \"Almost want back to an android because why won't Apple have torrent?@apple\", \"I had the Facebook app but my dumbass deleted it and now I can't redownload cause it says I need iOS7 suck my fucking ass @apple\", '@apple fix os x please.', 'Five Apple predictions for 2015 $AAPL #aapl\\r\\nhttp://t.co/5y58wpQ3nf', '#Verr?cktes #Ger?cht: #iPhone6s zum @Apple [#Apple] Watch. (#Wednesday, 3 #December) http://t.co/scANaAuNPe', '#Apple Patents Method to Make #iPhones Fall Like a Cat #aapl http://t.co/ZrkJVUqK2E', 'If @apple made tape dispensers and staplers, I would be all set! http://t.co/7Te2eBic10', \"@apple but i can't use the component on my tcp install disc, due to the stupid os update. so now i have to pay 20 bucks to re-download it?!\", '@Apple yo this Genius Bar shit is worst than the dmv get it the fuck together', \"Dear @Apple, I've been an Apple user for over 20 years and can't remember a bug like this current Safari on. #fixit! http://t.co/6AlSsd6igw\", '@Apple @ibmbizanalytics MobileFirst enterprise collaboration online. Game changer? #doclens http://t.co/FsOvxCiit5 http://t.co/qwCUhsq57u', 'Apple Campus 2 Event Space Costing Apple $161 Million, Fitness Center Priced at $74 Million [iOS Blog] http://t.co/zFCTltByvC #AAPL', \"Did you notice that @Apple apps now say 'Get' instead of 'Free'? This change was due to alleged misleading labeling. http://t.co/In8SIkR1Qp\", 'Anyone else notice the arm hair color of the Fallon/Timberlake hand models is backwards in the @apple iPhone gaming spot?', 'PRINCIPLED TRUTHS: Eddy Cue Talks to Fortune as Apple Appeals E-Book Price-Fixing Judgment. #AAPL... http://t.co/1AMKTIeKys', '#AAPL:iPad Mini 3 vs Sony Xperia Z3 Tablet Compact: Step Aside Sony, Apple S...http://t.co/85qGEiH7LO', \"@apple y'all should put the apple symbol into the home button on yalls next device\", 'Ayyy my fourth phone charger this week broke today @apple fuck you', \"@MhDaDon @Apple def gotta have it, I don't even like watches\", '@sammcmanusss @Apple idk it just happend though', '@BedBathBeyond I could of just gone to Canal Street for a knockoff #CmonMan And @apple Why must I pay $30 for a lightning cord?', 'Did #Apple drop #Google Maps for good? #Apple Maps now rolling out on http://t.co/XY9a70LqGU - http://t.co/FoCf495udZ #AAPL', 'RT @JPDesloges: Apple iPhone 6, 6 Plus and Retina iMac ship times improve in time for holidays  $AAPL #aapl\\r\\nhttp://t.co/4gCAZ9UiKW', '@Amy_Mc blame @apple and their rubbish memory on my phone', 'Top Expert Consensus for $AAPL is Moderate Buy https://t.co/fVKriCdeDZ #NASDAQ #stocks #AAPL', '@calemcmartin blame @apple', 'Love the new @apple @ipadair_2 TV spot - http://t.co/nW7a6iXsjE', 'WHY DO I HAVE 5 GROUP MESSAGES WITH THE SAME PEOPLE. @apple', '#Apple #AAPL Plans to Launch #iPhone6Mini Version in 2015 - Dec 8, 2014 - http://t.co/9vQBCn64Qr http://t.co/EAxUGfqKqo via @ZacksResearch', '@ABillaut @VaynerMedia @Apple Thanks so much!', 'Steve Hayman, @Apple National Consulting Engineer, presents on app development at #umich. http://t.co/51yinIrNoc', 'So got the new #iphone6 and growing to love it. A bit bulky coming from the iphone5 but nice feel thanks @apple now waiting for #applewatch', 'Dude, @apple is all over the marketing for beats. They have a great marketing team at apple.', 'Good grief, @Apple, could you all have a more sucky hold music queue playlist? No offense, but, ewwwwww! Johnny Cash into a rap song? Gross', \"@ggheorghiu, @mhmcquiston's solution is offering an integration suite, something like @apple's approach\", 'ICYMI: iPads are Changing the Way Children Learn in the Classroom http://t.co/ml73T97RBG #Education, #Tech, @Apple, @BoyneCityPS', 'There is nothing in life more fragile than an Apple branded lightning cord. @Apple', 'Photo: Amazing customer service today @Apple. UTC store. I worked form the store for several hours on... http://t.co/9tLhm3p2z6', 'RT @WildJazie: Does anyone know if theres a #smartwatch  with a old fashioned clock face? \\r\\nGrandma needs a watch. @Samsung  @apple @mota', 'my computers so slow right now its making me want to shoot someone its a god dam mac i shouldnt hav 2 deal with this! @Apple', \"And they ain't open till 8 to help me so I can't even contact anyone for the shoot now @apple u can suck multiple digs. Whack\", 'RT @keelzy: I HAVE BEEN THROUGH ABOUT 18 IPHONE 5 CHARGERS @apple @stevejobs @WTF @!!!!!!!!!!!! @notcool', \"@SimplyYours_Joh @ScarFaceSheed_ @JColeNC @Apple I told him that but he's crazy\", 'Apple Plans to Launch iPhone 6 Mini Version in 2015 $AAPL #aapl\\r\\nhttp://t.co/BPlf0dCyvK', '@apple You know your iPhone is fucked when the lettering on the screen goes back-to-front..', '@OneRepublic @Apple Pleaseeeeeeeeee', \"Report: Apple's Hiring Fashionistas To Help Flog Its Watch  $AAPL #aapl\\r\\nhttp://t.co/uFZCW60Ocr\", \"Steve Wozniak Discusses Apple's Early Days and Working with Steve Jobs [Mac Blog] http://t.co/iPnD6LD5ur #AAPL\", '@stevewoz @Outback Personally I am excited about @apple projects like 0 gravity and things in development even though  I only own iPod.', '@smileforgoogle @Apple yknow that time it restarted and then my phone got blue screen lol wtf', 'My phone is so shitty even the time freezes @Apple http://t.co/7Mh7RMlqFX', '@OneRepublic @Apple You all are ready to go. #ColoradoLovesYou', 'iOS 8.1 has fucked my battery life on my iPhone 6. Really starting to wonder if @apple has any quality control anymore. Wish I was on 8.01', '@Apple [#Apple] #is developing an #iPhone that fires LASER BEAMS to #map surroundings .... (#Monday, 8 #December) http://t.co/D78wUFxrkK', 'The Secret of Life from Steve Jobs in 46 Seconds. Some #motivation from the late CEO of @apple http://t.co/7UOYKec9YN', '@Apple [#Apple] #(AAPL) Plans to #Launch #iPhone6 Mini Version in #2015. (#Monday, 8 #December) http://t.co/s79PqzLbsg', \"@deet @Apple I'm a rebel (sometimes aka a Luddite).  :p  :)\", 'second phone charger broke in two weeks @apple i hate you', 'IPhone6 has too many issues,  why tf is the earphone plug in not working @apple u better fix this shit for free.', \"RT @Vito_sfam: Hey @apple, the battery of my iPhone drops down like my cock when I see a gay porn on the xvideos' main page. Fix this shit!\", 'RT @tra_hall: The JH Hines Staff with their newly issued @Apple #ConnectED Macbook and iPad mini #txed http://t.co/82YjiCJBxH #txed', \"@sethlouey @Apple iOS updates bricked Trish's phone too, seems like the Apple is getting a bit rotten\", '@Apple reveals its Best of 2014 app list- Elevate and Threes! top the list http://t.co/mihPqPozLt via @Techland', 'Apple is developing an iPhone that fires LASER BEAMS to map surroundings, patent reveals\\r\\nhttp://t.co/fG4Zrvq8Bk #aapl #hnhd', '#AAPL:Apple Inc. and Facebook Clash; Neither Is Wrong...http://t.co/UuvN8TkrRs', \"Loving the Samsung one with Kristen Bell. RT @adage: Watch the weekend's new TV ads from @RadioShack, @Apple and more http://t.co/zqmtQ7WZeS\", 'Looking down on the crazy George Street, #Sydney in the rain from the @Apple Genius Bar... http://t.co/TuBXTBvKy4', '@Listen2Lena 3x bonus airmiles @Apple right now! #airmilesshops', \"New meaning to Soviet jokes 'whatever we produce, it turns out as tank': #Russia seeks #Kalashnikov to rival @Apple http://t.co/bD0C0WGD5y\", 'I would like an @Apple rep to reach out to me and resolve the issue @tim_cook', \"Paid $20 for a new 5 charger and couldn't  b more pissed about it... this is rape @apple\", '@Apple HEY FUCK U MY PHONE SPEAKER NO LONGER WORKS JUST B/C', '@apple is this how you train your employees to deal with issues?? To hang up on the customer? After 15 fucking minutes of me waiting on hold', '#AAPL:Should Apple, Amazon, or eBay Be Portfolio Picks for 2015?...http://t.co/aWn25MWjzG', 'about to write a huge fuck you to @apple for not letting me make reservations to get my laptop fixed', 'RT @JPDesloges: How Apple Will Boost Profits During the Holiday Quarter and Beyond $AAPL #aapl\\r\\nhttp://t.co/lHsL5ORJS7', '@MhDaDon @Apple next year', \"RT @gxldblvnts: thanking @apple for the 'do not disturb' feature\", 'Steve Jobs, clave en juicio contra @Apple \\r\\nhttp://t.co/IcEOFgkm1q http://t.co/eDiR5Mahxn', 'Next year my goal is to be #Apple free. Tired of their BS. @Apple @iTunesSupport', '@CarlaBarlaCakes @MoBiggaa @Apple snapchat?', \"RT @cruci0btch: why don't we have harry potter emojis please work on this @Apple\", 'Hey @Apple, #iphone7, build this in! ~ @DJKevinHayes http://t.co/JtXgsCmyhw', '@zagkmerrick @Apple thats not their twitter oh', '@getlolo_ @apple explain this please http://t.co/G6fZnyuCP8', '.@panic The inconsistency and overall weirdness that controls the @apple #appstore is why I archive previous versions.. easy to downgrade.', '@APPLE CAN YALL PLEASE SEND ME MY FUCKIN PHONE', '@LupeFiasco Did he sell his headphones to @apple ?', 'So, Which #PromoProduct suppliers carry brandable @Apple compliant adapters? #HeadsAreGoingToRoll #MFi', \"@apple http://t.co/rOyOwjfiW5 What a nice piece of crap you've created. Great job. Pay more, get less, #crapple #fail\", 'Walked into work and seen this . Who tf traded in a bent up ass iPhone. @apple yall needa fix this shit http://t.co/41AD2aQig3', '@aydlettgwyn13 @apple please educate us', \"@ch0ng_li @Apple I'll take a look at that. I'm fed up with iPad well &amp; truly..\", 'APPLE - Fibonacci Technicals Levels - Intraday  Update - $AAPL #aapl \\r\\nhttp://t.co/Z2BQWXee44', \"@apple well done you #cunts my printer don't work since your #fucking #Yosemite #UPDATE #Pricks!\", 'Well played @apple http://t.co/mGbsxyiA69', '@Apple airplay sucks on Yosemite', \"Dear @Apple:  Where the ever-lovin' heck did you put the navigation arrows in the iTunes store? Do you even use your own software?\", 'iPhone 6, 6 Plus Availability And Wait Time Update $AAPL #aapl\\r\\nhttp://t.co/qdJLBaw3DZ', 'iPhone Shortages Not Helping RadioShack as Consumer Sales Plummet http://t.co/UVre2GM1oh #AAPL', '.@Apple it really makes it hard to spend money on apps with functionality that might soon disappear on the Today Menu.  Please stop this.', \"Here we go again wit this 'waiting for items to copy' shit on iTunes, y'all pissing me off @Apple\", \"Apple Secretly Deleted iPod Owners' Songs Downloaded From Competing Music Services http://t.co/glvCdIKMwG #AAPL\", 'Apple Tentatively Approves Plans to Expand Reseller Network in India with 500 New Stores [Mac Blog] http://t.co/ttTFQVOiIr #AAPL', \"2) @Apple I've got one question for yall. Who is the genius who decided CAPITALIZING random words was a good idea? Bec it wasn't a good idea\", 'When is @apple going to stop producing these pieces of shit earphones? Its about time for earphones that dont tangle! http://t.co/qFSHqwc4Zj', 'CNBCTV:  Analyst worries about #iPhone growth #aapl http://t.co/2cA2SfAShg', \"They gotta DO something '@_iRapeCouches: @SydneyA @Apple SO TRASH my computer keeps freezing &amp; being dumb af after i upgraded to Yosemite\", 'It is such fucking horseshit that I have to install Chrome just to watch @netflix on my Mac. Hey @Apple when are you going to fix this?!??', '#AAPL Lawsuit: #Apple Deleted Songs From iPods Without Telling Users: According to The Guardian, Apple deleted... http://t.co/S9usqrgOAV', 'Hey @Apple I think u need a new product: iPster', 'Been waiting 7 days so far for @apple to approve the new app for #CRMSuite. Should be next week!', 'On December 11th, @Apple will be hosting Hour of Code programming workshops  via @9to5Mac http://t.co/wD82vIeXw7', \"'This accessory may not be supported' ok @Apple just tell me that the charger that came with my phone won't work???\", '@eliransapir @Apple ok duly noted', \"Steve Job's Deposition in #iPod Lawsuit Could Cost @Apple $1 Billion http://t.co/7vDXwvxKpe #MusicBiz #MusicIndustry #Apple\", 'MY IPAD IS GLITCHING SO BAD AND IT ISNT CHARGING WTF @apple', '@Apple my phone just died at 5% and I feel betrayed.', 'Best Buy Cuts Apple Inc. iPad Prices to Boost Sales http://t.co/ca3m9oiAYb #AAPL #iPad', 'Goodbye graphics problems. Thank you @apple for such great customer service. http://t.co/XVB8utXOU3', \"Why is Tom automatically capitalized and tommy isn't?? @apple you need to fix this. #autocorrectprobs\", \"@jokigenki @Apple I think it's like 2011? Can't look right now.\", '#AAPL:How to Remove Apple Pay Credit Cards Remotely From http://t.co/JPD3HwdeeE...http://t.co/7XGBbp7cjW', 'Apple Inc. Campus 2 Has $161M Auditorium, $74M Fitness Center http://t.co/9KQhafCbCi #AAPL', \"#AAPL:Apple Loop: iPhone 6S Rumors, Steve Job's Garage Myth, iPhone 6C Specu...http://t.co/GwQ3JqikZd\", 'MasterCard debuts new ad spot starring #Apple Pay and Gwen Stefani - http://t.co/GppcWzeTBu #AAPL #GwenStefani', 'WOAH! 7% Cashback from @Apple store for #CyberMonday deals at http://t.co/fNROGTo4qO. #Ipads, #Iphones, #Mac and MORE.', \"RT @theiphonews: #IPhone6Plus Review: #A New Dawn For @Apple [#Apple]'s #iPhone. (#Thursday, 4 #December) http://t.co/uD0odP62od\", 'The @apple enterprise developer agreement is (wait for it ) 719  (seven hundred and nineteen) pages !!', 'fuck you @apple @iphone', \"In world's first #AppleWatch hackathon, apps and challenges emerge http://t.co/3pkiaimuAP via @svbizjournal #aapl\", \"My messages aren't sending...@apple tf is going on\", \"@baseballbridget @apple we couldn't even get a turkey for TDay so they just don't care... #appleemojissuck\", \"Hey @apple @sprint I'm not a fan of your latest commercial!!\", \"I've tried turning it off and on, what's my problem here? @apple http://t.co/HYSbBXpvz5\", \"Here's #Apple's Next Great Business http://t.co/L1IfhyexQA via @sai #aapl\", 'Awesome! @Apple invented peanut-butter-sandwich technology for phones. http://t.co/DPZpoqZTHX', 'Rumors Surface for #Apple #iPhone6S and #iPhone7 in 2015 #aapl http://t.co/Qinl78BI0D', '@apple get cha shit together and fix my phone !!!', 'RT @OvelhaNegraTV: Apple TV fades away in streaming video player market - @Apple #vod #streaming http://t.co/5jYgtiCWlc', '@Apple [#Apple] #Inc. is Catching up on #iPhone6 Supply, #But Still Lagging Demand. (#Monday, 8 #December) http://t.co/9QpCt7zirF', 'Oh @apple, how many Feedback Assistant messages do I have to send before you do anything about it?', \"I can't queue songs on an iPhone @apple @timcook #FixIt\", \"13 Things You Didn't Know Your #iPhone6 Could Do #aapl http://t.co/RsPEXS5vuC http://t.co/2CfryTGVom\", \"My phone turned off iMessage and won't let me turn it back on and oh yeah no message will load or send. Thanks @apple!\", 'We need to talk @apple', \"I've been waiting 2 months for my iPhone 6+ what the fuck @Apple @ATT\", '@NeimanMarcus utilizing iBeacons for #engagement to send messages to @Apple Passbook #personalization http://t.co/CVNq0lUhNO via @pymnts', 'Could Apple Inc. Sell 24 Million Apple Watches in 2015? http://t.co/SLtEs6ZKFE #AAPL', 'Do i have to go to @Apple if idr the code? -_-', '#Nasdaq100 #recent #market #exit #4: Sold $AAPL long for a 10.49% #gain in 20 days. #AAPL #forex #trading #stocks', 'real quick shout out to @apple for your technology never working', 'How Apple Will Boost Profits During the Holiday Quarter and Beyond $AAPL #aapl\\r\\nhttp://t.co/lHsL5ORJS7', 'How to #profit in #Apple (#AAPL) #options #trade #trading #finance #short #bet #hedge http://t.co/aMlM8FaJDQ', 'Seems like @apple #customerservice is going downhill when they say need a new battery due to 600 charges over 14 months. 鶯50 to change.', '#AAPL:iPhone 6 Patent Fraud Case in China Complicated Hacked Photos...http://t.co/eVUHNXiy6T', \"if i buy a 16 gb phone i should have 16 GB'S TO USE @apple\", \"@TeamCavuto @charliekirk11 @Apple what did Macy's have to do with it or the other stores they blocked?\", '@Apple fuck u n this weak ass iPhone', 'RT @slawfr: Spent 6000 EUR at Apple. iPhone 6 camera no longer works.Told I got water in it,I did not. Unacceptable customer service @apple', 'Just broke my 3rd charger of the month. Get your shit together @apple', \"@apple doesn't even own that handle? LOL SIRI knows NOTHING is what I wanted to tell you Mac peeps\", 'Take the stress out of looking for Christmas presents &amp; get a 15% student discount at @Apple http://t.co/ulqHvLVzLY http://t.co/3VoUTa45gb', \"Have #Apple, Inc.'s #iPad Sales Peaked? #AAPL http://t.co/2Wpaib3z9M\", 'last month ip cable this month earpiece, give me a break @apple', \"'A lot of times, people don't know what they want, until you show it to them.' - Steve Jobs #AAPL #Apple\", 'Apple Inc SEO: A Walk Through The Mystery Of http://t.co/yWvCLgnWLZ http://t.co/UIMroAHQpk #AAPL', \"I'm learning all about iPod Touch at @Influenster! @Apple http://t.co/It9XKp6LSx\", '@apple I am beginning to think your products are crap', 'Well thanks @apple for losing over 5000 of my songs off my classic and now every photo i had on my itouch was deleted. #greatcompany', '#AAPL:Steve Jobs Defends Apple in Taped Deposition...http://t.co/7oXigddEQU', 'Top #iOS apps of 2014. @Apple names Elevate Brain Training as #1 iPhone app. http://t.co/tyRNmYGnDP', '@apple I FUCKING HATE YOU http://t.co/xRxXK0rdot', \"@apple, I really do know my mouse batteries haven't inceased in charge since the last time my mac told me they were low\", 'Final #AAPL #PutCallRatios for Monday, December 8, 2014 http://t.co/Ocz4egZX8h via Hamzei  $$', '@briannaUrie @Apple Their autocorrect is so shit too', 'Why @Apple, @Google, and @Facebook have their own programming languages. | https://t.co/G5NZ0xAeVH #code #analysis #web #tech #nerdup', 'After-hours buzz: #AAPL, BOBE &amp; more: Check out which companies are making headlines after the bell Tuesday http://t.co/Fa69PY1BjP', 'so with ios8 u can delete a contact but its not actually deleted fml fuck u @apple', \"@TomAdler @shortyawards @Apple I agree.  'Get' does not explicitly imply free.\", \"I've sent my computer out to @apple twice for repairs in the last month and each time it comes back with a new problem Something isn't right\", \"@shortyawards @Apple it is very confusing u wonder if it means u are going to get a bill later for Ur download please use free if it's free\", '@HeadxCreeps @Apple fuck you apple', '3G is draining my battery fix this @apple', '@apple u used to b cool what happened', \"So here's the deal, I'm taking this phone and beating the shit out of it. Fuck you @AppStore @Apple whatever your damn twitter is, Fuck You\", '#IPhone6Plus vs. Galaxy Note 4: #Has @Apple [#Apple] Really Snatched Away the #Phablet .... (#Thursday, 4 #Decem... http://t.co/WQQDA8FDVB', '@ace_kit_uk @office_nerd @Apple Is this deal still available?', 'my notifications are so messed up thank u @apple', 'non-banks @google @apple @PayPal @Moven @Venmo #FinTech via @stevedenning Can Banks Master Disruptive Innovation? http://t.co/LQ5PgE7vRF', '13% left what even is this shit @apple', '@prettynumbers @TeamCavuto @Apple For so many reasons. https://t.co/aeHBi4IvoG', 'Dear @Apple.\\r\\n\\r\\nKindly fuck off with your .m4a format.\\r\\n\\r\\nRegards,\\r\\nMusic Listeners Everywhere.', \"I'm happy now, thnx fags. @apple\", 'APPLES EARBUDS ARE SO FUCKING WEAK THEY LITERALLY CANNOT WITHSTAND ANY GOD DAMN DAMAGE I HAVE WASTED SO MUCH MONEY FUCK @Apple', \"Steve Wozniak calls @Apple's legendary garage 'a bit of a myth' http://t.co/Wl2kJTcRNR\", 'Apple Launches Ten Holiday-Themed iTunes Radio Stations [iOS Blog] http://t.co/fF0JIspy7s #AAPL', 'RT @JPDesloges: Apple to Support a New Franchise of 500 iOS Stores in India $AAPL #aapl\\r\\nhttp://t.co/390LCAqyfT', '@DannyRosin @Apple It will be interesting to watch how/if this is resolved.', 'Any one know how to retrieve deleted texts from iPhone.  #Apple @apple #textmessage', \"#AAPL:Apple's iPhone Gained Significant Share In The US, Japan, Germany And ...http://t.co/xY7bTzgSvy\", \"You'll be back in my life soon @apple\", 'http://t.co/gRR3bUFPkS Follow @apple.holidays http://t.co/Z28vBvo3gy', 'Big Spending by Consumers on Cyber Monday\\r\\n\\r\\n#CyberMonday, #PayPal, #Apple, #AAPL, #eBay, #WalMart, #WMT, #Sales,... http://t.co/pB6WltjTzZ', 'my iPhone is fucked. Thanks @apple and @EE what great help you were. Where can i get a new iPhone from?', '@TayLeanne15 @Apple you can!', 'Why does my phone suck so much @apple', \"@Apple [#Apple] #Loop: #iPhone6S Rumors, #Jobs And Wozniak's Garage Myth, iPhone 6C .... (#Saturday, 6 #December) http://t.co/o4cQFQgMyv\", 'iPad Mini Unboxing!: http://t.co/GnLy8W75nA via @youtube @apple #ipadmini #ipad #macbook #macbookpro #startup #hipster #unboxing', '@Apple need to hurry up and make a middle finger emoji', \"@Facebook founder attacks @Apple boss over 'ridiculous' comments http://t.co/pverWexJv8\", 'Hoping @Firefox does not cave! @Apple should allow other browser engines! #OpenUp\\r\\nCould Soon Come To iOS TechCrunch  http://t.co/WGnY6XOarD', 'RT @codygotMs: @lihdior_ @apple fuck wrong witchall niggas ?', \"@AppleOfficialll @apple I can't say enough about how awesome Apple has been. They've already processed a reorder for the phone that UPS lost\", 'RT @laurrynk: Dear @apple replace my phone my battery sucks', 'F u @Apple UR geniuses can suck my ass!', '@apple #iPhones Of The Future Could Save Themselves When You Drop Them http://t.co/CNl4d6nlsp', '@LIMFestival lolol. Stupid phone. Should say best and most varied. @apple sort this phone out. Apols.', 'RT @donacamp: Brass band at @Apple Store Broadway #WintersEve #NYC http://t.co/ufworZjgpP', \"Apple Watch's high-priced fashion focus on the mark, survey says $AAPL #aapl\\r\\nhttp://t.co/1d9CjG42iQ\", 'From beyond the grave! RT @GMA: Jurors set 2 hear fr star witness at @Apple trial: Steve Jobs. http://t.co/kehRY5VYAS http://t.co/KgvFdBtF7S', 'RT @laur_va: .@Apple engineer makes printer from #Lego http://t.co/4071tVKZzB #makers http://t.co/nVboA5AD4n', 'Ugh so annoyed, 3 chargers in the last 4 weeks I hate you @apple', '#Robots #fabricando #iPhone, #iPad Pro, @Apple [#Apple] Watch, Apple TV y el #.... (#Sunday, 7 #December) http://t.co/Ba8eb8r60N', \"I hate it that my office email's not pushing emails now. It's fetching but on my settings it says push. #appleprobs #appleproblems @apple\", \"Sign of utterly broken wifi driver: my @apple Air sitting on my lap I'm desperate enough to read my email on my Android phone\", 'RT @thehill Department cites 18th century federal law to get @Apple to unlock iPhones: http://t.co/WY4zI6XQtF', 'Could Apple Inc. Sell 24 Million Apple Watches in 2015? $AAPL #aapl\\r\\nhttp://t.co/DK99Rq2U1e', '@iambrozie @Apple Will it give me Edward Scissorhands length fingers? Because then I might be able to use this!', 'iPhones Of The Future Could Save Themselves When You Drop Them http://t.co/tiubfsLZgS #aapl #smhq', 'TheStreet:  Corporate Earnings to Contract; Short #Apple: Best of Kass #aapl http://t.co/vrsw8sPbpd', \"It's 2014, why doesn't iTunes support .flac files? I mean at least be able to covert em. Yall so fuckin petty @Apple\", 'The customer service from @apple  is the BEST. In for years having and enjoying their products, I have ZERO complains. Thanks #apple', \"um where's the mango emoji @apple\", '@Apple honestly sucks', \"It shouldn't take a whole week to replace my harddrive @apple this is ridiculous I have homework to do\", '@Apple Watch SDK and #Monetizaton: Why You Should Download #WatchKit As Soon As Possible http://t.co/5MBQvLU5Ba', 'BLOCK TRADE detected in #AAPL', 'Apple:Dec 3 Trading Daily Profit $1.85/sh, Weekly Profits of $15.22/sh  #aapl #Stockaction #trading #Stocks #MKt  \\r\\nhttp://t.co/az3SvKM4Id', \"RT @Hi_IamAaron: Dear @Apple can u please stop making yall chargers cheap pieces of shit I'm tired of having to replace them every 3 months\", \"@Apple deleted music from customers' iPods http://t.co/FzmaFUzrnl\", 'Me too. MT @MsNarcissistic As a die hard @Apple customer, I am truly displeased with the customer service I was given yesterday. #badservice', '#CNBC   how does that fat finger on #AAPL look NOW!  #@BobPisani only a few days later', \"'@Apple: What to Expect in 2015' http://t.co/iE1WZiWiL5\", 'Is Apple The Most Important Stock On Earth?  http://t.co/fQ75jYND5P #aapl http://t.co/N0tnOVXLD4', \"@Archimage @Apple seen a bunch of people tweeting about. Search Twitter, then dev forums. I don't remember solution.\", 'Apple Devices Clobber Androids On Cyber Monday, But The Underdog Is Catching Up $AAPL #aapl\\r\\nhttp://t.co/tTlm4APM8y', \"#Apple's #iPhone6 International Prices Are Higher Than The US - Forbes #aapl http://t.co/ij4CjpCkg6\", '@stevewoz @AMCTheatres Steve Woz sits down with an @apple II computer and @BloombergNews https://t.co/ygJZxroDXV', \"RT @smartoutsource1: Steve Wozniak calls @Apple's legendary garage 'a bit of a myth' http://t.co/Wl2kJTcRNR\", \"Late Apple Inc. Co-Founder Steve Jobs 'Testifies' In iTunes Case http://t.co/UmRfdsVfZO #AAPL\", \"Here's How Jimmy Iovine Convinced #Apple To Buy #Beats #aapl http://t.co/9pgEhOTWFh http://t.co/o6g7TzpyJI\", 'iPhone battery life takes the piss sort it out @apple iphone #iphone #apple http://t.co/6f1QuV2DUt', 'Dear @apple. Worst idea ever. Fix it. http://t.co/TSisv9EJhg', \"@Apple, For the love of GAWD, CENTER the '1'on the damn calendar app. You fixed it once, its back, off center, AGAIN! http://t.co/dMyAHEm1Lc\", '#iPhone6c release date, #rumours and #leaked images: @Apple [#Apple] said to #be working .... (#Friday, 5 #Decem... http://t.co/zX2zMhpnEy', 'Technical Observation of the Day: Tested the 20 DMA on Apple $AAPL #aapl\\r\\nhttp://t.co/6EJ6Mbv44f', \"RT @mariah_reagan: '@JamesLoera: @mariah_reagan true.. Silly iPhone' @apple get your life together\", \"Always so impressed with the customer service at the @apple store square one. My laptop works again and didn't cost me a dime!\", \"If you listen to @apple, you'd think the only way to keep your brain sharp is thru certain apps they provide/sell. Uh...reading, muhfugs\", '@OneRepublic @Apple FOLLOW ME PLS', 'Yo @Apple wtf is wrong with you people? Make it easier to delete contacts already, gosh damn it!!!', 'RT @JPDesloges: Crystal Baller: Rebirth of the 4-inch iPhone and other insane Apple rumors $AAPL #aapl\\r\\nhttp://t.co/yvpAZQUmNt', \"#iPhone #users face big change over @Apple [#Apple]'s Google search choice. (#Monday, 1 #December) http://t.co/fA3KKjQQdA\", 'My phone is plugged in and losing battery. Thanks @apple', '@Apple, why I cannot alt+tab back to full screen app!? GRRRR! #usability', 'macbook love today @apple', \"Apple's first patent reassignment from PrimeSense buy hints at 3D mapping on Apple TV, iPhone $AAPL #aapl\\r\\nhttp://t.co/2n2KjtmU2g\", '@apple my app store aint working. y??', 'I seriously f-ing HATE this new version of @Apple iTunes. Spend HOURS trying to figure out how to synch w/o deleting everything.', \"Last night I had like 10 more apps than I do now. What's up with that @apple  I hate you\", 'TRASH. @Apple', '#apple - #Samsung back in courts\\r\\n@Apple \\r\\n@SamsungMobile http://t.co/7sbfUaH5gx', 'We will be in room 1215 at 3:15 today presenting on our experience with @Apple DEP and @JAMFSoftware   #herewegolakers', 'my phone keeps fucking freezing @apple', \"RT @hf: @imcatnoone @Apple or you can't even sync folders\", '@apple Contact sync between Yosemite and iOS8 is seriously screwed up. It used to be much more stable in the past. #icloud #isync', \"RT @AllisonSalz: When you request custom gift wrap from @apple ... Don't do it ... http://t.co/DoenA0e8nx\", \"This happened to me SEVERAL times!! Fuck you @Apple deleted rivals' music from iPods for years...http://t.co/QBvcBmZVOF @MailOnline\", '#AAPL #iPadAir2 RT @waltmossberg Apple Unveils New iPad Air 2 Ads http://t.co/XCsTkCpQWo  via @KurtWagner8 http://t.co/KkUUQBhK9q', 'Is Apple The Most Important Stock On Earth?  http://t.co/s5ple0Orww #aapl http://t.co/ZvW4vwZzww', '#AAPL:Watch List: AT&amp;T (NYSE:T), Apple (NASDAQ:AAPL), Pandora Media Inc (NYS...http://t.co/dg5bxrxGda', '@apple iBooks picks OPERATION PAPERCLIP as one of the Top Ten NonFiction Books of the Year.  #BestBook2014 #iBooks2014', \"It's done well but my '04 @apple 40gb #ipod photo has possible come to an end after 10yrs. Battery won't charge! :( http://t.co/e9oGDNlcmw\", '@Apple made it clear today that I as a customer are not worth a measly $79!! An employee gave mis info and they will not stand behind it', 'RT @muchtech: @Apple Planning to Open 500 iStores in India :http://t.co/HhRlHFcdUP', 'Apple Details An Elaborate Transit Navigation System In Patent Applications $AAPL #aapl\\r\\nhttp://t.co/O2kMFHrQlr', '@apple ima need yall to get your shit together, my phone is fucking up something serious', 'RT @JPDesloges: Apple Watch on Track for February 2015 Release, Testing Underway [Rumour]  $AAPL #aapl\\r\\nhttp://t.co/vjOWVvDFx5', '@Swift_Addiction: lol @apple quicktime MOVs', '@Apple #fail - Since updating my #ipad #OS there is a #bug that does not delete videos and free up memory forcing... http://t.co/AjdDTF19Nn', 'Allowing @Apple final creative authority, @Chase will debut the first spot featuring #ApplePay this week. http://t.co/lnve19yw7G', 'RT @JPDesloges: APPLE - Fibonacci Technicals Levels - Intraday  Update - $AAPL #aapl \\r\\nhttp://t.co/t2uV8nZ46v', 'RT @Shuevey: Fuck you @apple', '@apple last time I checked I thought I bought a iphone 6 not a slippery ass bar of soap disguised as one. I DIDNT DESERVE THIS', 'Is It Time to Buy the Dip in Apple Inc. Stock? $AAPL #aapl\\r\\nhttp://t.co/mzLzxlhEsl', \". @mattz62 We'll find out when I go to the @Apple store and see what they say.\", 'Mark #Zuckerberg defends free #Facebook, fires back at @Apple and @Ello http://t.co/BCowoLMizS', 'Apple: quarter 2014Q3 EPS is $1.42. Use it at #free App Donkey Stocks. #AAPL\\r\\nhttps://t.co/8CBUgrEHZS', '@yungshamwow @Apple apple sucks,', \"Seriously wtf iPhone. It's been fucking up all day, now it won't let me set my alarm for my 9:30 lecture. Fkn @apple you can pay my tuition\", 'iPhone 6 Plus Makes Up 41% of Large Phone Sales as iPhone 6 Leads iOS Devices [iOS Blog] http://t.co/H2U3zIpG82 #AAPL', 'The pop up message box on Iphones is terrible @apple', \"Hey @apple, my iPhone 6 was fully charged at 7:30 am. Now it's on 20%. Is that a common battery life?\", 'Morgan Stanley Sells Apple Inc., but AAPL Stock Still a Buy http://t.co/9tZVa6tPsV #AAPL', '@zagkmerrick @Apple DO THEY EDN HAVE A TWITTER', '@AzakFeverAFC phone is awful. Why is there a green line? Need a new one. @Apple sort it out. Not on. AF', \"Get rich quick as a criminal #capitalist. Steal your client's products. #Apple #technology  http://t.co/kUgHhrehpF @apple\", '#Will @Apple [#Apple] head back to #Jobs ideology with 4in #iPhone6s?. (#Monday, 8 #December) http://t.co/wpplCjgEYf', 'Enjoying the introductions at the @apple #connected launch event.  Some amazing #edtech leaders in the room.  #txed', 'The discontinued iPod Classic is selling for up to $1,000 online $AAPL #aapl\\r\\nhttp://t.co/lnC1yqSxPw', '@Samsung is way better than @Apple', '@smiIingbarakat @Apple YEAH APPLE UR SLACKIN', 'FUCK MY FUCKING PHONE ITS FUCKING TRIPPING IM FUCKING TIRED OF THIS FUCKING BULLSHIT \\r\\n\\r\\nIM HOLDING YOU RESPONSIBLE @apple', \"@BestBuySupport Now I'm being told because it was an @Apple product the price can't be overrided. Must pay full price then call back for an\", \"iPhones are mad sensitive bro, if it's too cold, it dies even with a lot of battery left. If it's too hot, it shuts down as well SMFH @Apple\", 'Details of the Apple Inc. iPad Mini 4 Revealed http://t.co/Qeun7yXwMP #AAPL', 'RT @TheywantVonnie: Dear @Apple \\r\\nCan you please create a middle finger emoji ASAP\\r\\nSincerely,\\r\\nAll IPhone users', \"Best of #stakeholderengagement in '14: @thenorthface + @FourPawsUK, @Cargill + @TheForestTrust, @apple + @Greenpeace. http://t.co/7TLZQrLQBT\", \"New Details On @Apple's Giant-Sized #iPad Might Have Just Leaked http://t.co/lYQuGhgn4D via @Inc\", '@stevewoz watcha doing there with the soldering iron woz at @BloombergNews  and the @apple II computer are you swapping caps?', '@OneRepublic @Apple Follow meeee', \"#AAPL:Don't Confuse Morgan Stanley Decreasing Apple's Weighting By 1% With B...http://t.co/5jWelm30vM\", \"@OneRepublic @Apple wow that's amazing\", \"hey @apple can I catch a fucking maverick of a wave on an iPhone?\\r\\ndidn't think so. #SurfsUpSamsung\", 'Literally have been trying to get my @Apple ID re-enabled since November. Why in the actual fuck is this so difficult?', \"@Apple sometimes I have to restart my phone to make Siri do speak selection and it's annoying #fixit\", \"@apple don't delete music off of my iPhone that I payed GOOD MONEY FOR\", \"Apple's PT raised by Citigroup Inc. to $135.00. http://t.co/LNHaOfRxU2 $AAPL #AAPL\", '@apple get your shit together.', 'RT @_iamGambino: Thank you @Apple', \"@SheLovesQuez fuck @Apple I'm get a note\", 'Apple Inc. (AAPL) Focuses On Larger Indian Market Share http://t.co/o9RU1Lv1V8 #AAPL', \"#IPhone6Plus Review: #A New Dawn For @Apple [#Apple]'s #iPhone. (#Thursday, 4 #December) http://t.co/uD0odP62od\", \"Will Apple Inc.'s Profit Margin Continue Upward? http://t.co/RgXf3KuAOv #AAPL\", '#Top #iPhone and #iPad games of #2014: @Apple [#Apple] names Monument Valley &amp; #Threes. (#Tuesday, 9 #December) http://t.co/Zj6QFN5lkp', 'Apple Adds New Apple TV Channels for UFC, The Scene, Fusion, and Dailymotion http://t.co/6ch8upBX49 #AAPL', \"Idk if it's my phone or WHAT ! Ip6 ain't shit but problems. @apple fix this shit !!\", '@Apple #CEO @Tim_Cook to be namesake of Alabama anti-discrimination bill http://t.co/S6q98V17mi', \"#UBS #Increases @Apple [#Apple]'s #iPhone6 Sales, #Revenue And EPS. (#Friday, 5 #December) http://t.co/yEPG0Urogc\", \"RT @JodiSpicer: #whoknew Why isn't @Apple on Twitter? http://t.co/HmsbwjEL1K #interestingfact #passingthetime\", '#AAPL:After-hours buzz: Apple, Bob Evans Farms &amp; more...http://t.co/PHVzSFanso', \"That annoying moment when you realise that your @apple  #iPhone6 has a bend in it on one side ='[\", \"really pissed at @apple . trying to edit video and can't convert files due to not having the mpeg 2 component anymore because of os update.\", '#iPhone6S to #emerge spring 2015 with @Apple [#Apple] Watch?. (#Tuesday, 2 #December) http://t.co/NnGLuvYW6M', 'This is why I moved over to @Apple... http://t.co/fAW3zsfzt7', '#AAPL:iPhone 7 Rumors: Might be Called iPhone 6S; Come in 3 Styles...http://t.co/0XbmuVdZpL', \"What is HomeKit? Soon you'll control your home with your iPhone $AAPL #aapl\\r\\nhttp://t.co/16qbQo1PRK\", \"INSIGHT FROM APPLE'S TIME COOK http://t.co/96c0F0rfgX @tim_cook @apple #Apple #iPhone6 #Google #Microsoft http://t.co/DeOerErnMf\", 'RT @ProzacNation_: 11am and 20% battery. Die, @apple', 'Our @Apple watch prototype for the male couch potato @smithandbeta @Clorox  @zemanta #digidaydbs http://t.co/ZkzvK5bxAw', 'cool 90 minutes later I now have Yosemite X on Macbook not bad for an almost 10 year old computer still run strong @Apple #winning', \"LastPass Debuts 'Auto-Password Change' Feature for Easy Password Changes [Mac Blog] http://t.co/KRn2ievXhR #AAPL\", \"Aye @apple why don't you guys make the apple headphones in different colors?\", \"#AAPL:Apple Loop: iPhone 6S Rumors, Jobs And Wozniak's Garage Myth, iPhone 6...http://t.co/Zhmp5JZhvi\", \"@apple make a fucking phone so the screen doesn't break.  I want my phone to be naked and free.\", 'my phone was on 19 percent and then it shut off okay @apple fuck you', 'Apple Inc. CEO Donates $291K To Pennsylvania School District http://t.co/9gkKgWuASR #AAPL', 'why isnt group facetime a thing @apple wtf', 'Can we have 3-way calling on FaceTime calls and the ability to move between devices seamlessly @Apple @TimCook @God', '@waywardhem @nheagy @apple I was thinking about this the other day. I wish it would come true.', 'I love @AIRMILES! Between @chaptersindigo &amp; @apple I earned ~200 miles during the #BlackFriday sale! #freemoney #centsability #cybermonday', '@tschwettman @Apple what about M E', 'RT @wagner_tim: @robconeybeer: You need an IP portfolio to defend against big companies - just look at @Samsung @Apple court battles', \"#AAPL:Pacific Crest's Apple Analyst Reiterates Selling Some Shares...http://t.co/zj974XddLN\", \"Autocorrect changes actual words to other words but when I spell an actual word wrong it doesn't correct it? Fuck yall niggas @apple\", '@jakeflem @Apple Yes It seems to fix it good the first time and then as time passes it deterioates until you have to change logic board', '@illogikal @Apple nigga fuck yo couch lol', \"hey @apple why won't you let me facetime claire stop being rude\", \"Between 07 &amp; 09, @Apple deleted #music off of some customers' iPods without telling them http://t.co/PgXi2dr4Wg http://t.co/yBK9Ix23qb\", '@apple get your shit together with group chats on ios8', \"Congrats @apple on making an iPhone recording DRM protected so we can't play it anywhere we want #fail\", '#Verr?cktes #Ger?cht: #iPhone6s zum @Apple [#Apple] Watch. (#Tuesday, 2 #December) http://t.co/bCjwU8zA0R', \"Apple Returns Cash To Shareholders Because It's Out Of Ideas On How To Invest It $AAPL #aapl\\r\\nhttp://t.co/OLEVFjA8HP\", 'RT @cl4yt0n_c00p3r: There needs to be a Texas flag emoji @apple', '@Apple, you made a mistake. Now it椰s time to Replace or Fix All 2011 Macbook Pro with Graphics Failure. #MBP2011  http://t.co/n64Ygo7JlT', \"RT @mrushh: hey @apple why is my phone dying when it's on the charger \\r\\nur stuff sucks\", \"RT @JustPoetic_: Why the fuck is there a 'recently deleted' photo album? @Apple\", \"@OneRepublic @Apple it's so crazy haha guys can you follow me? Please\", 'Apple Inc. price at close, December 03, 2014, is 115.95. #apple #AAPL', '#AAPL:UPDATE 1-Taiwan Nov export growth tops expectations, despite China wea...http://t.co/DwZ3UnxqPT', '@BlackBerry I kinda feel sorry for @Apple tho. #GoodJob with your last product guys!', 'As a die hard @Apple customer, I must say I am truly displeased with the customer service I was given yesterday. #badservice #Apple', \"BREAKING $AAPL 'buy' reiterated,  target set to $143 by Cantor $AAPL Brief explanation here:  https://t.co/up6MHIcXJ4 #AAPL\", 'APPLE - Fibonacci Technicals Levels -LAST  Intraday  Update - $AAPL #aapl \\r\\nhttp://t.co/P66pCgDlij', 'Seriously?! @apple that stupid add of the macbook with the different stickers you can put on it?! I hate how gullible people can be.', '@FaZeNikan @Apple @applenws @AppStore i know my iphone  dies at like 20%', 'Goodbye graphics problems. Thank you @apple for such great customer service. http://t.co/uvohriZKYE', 'Hey @Apple - hundreds of  black, white, brown, yellow #EricGarner protestors bum-rushed yo store to stage a Die-In &amp; nothing was stolen. Xo', 'Get Ready for an Unbreakable #Apple #iPhone | InvestorPlace\\r\\n#aapl http://t.co/YgLYZoqkO6', 'RT @NYDailyNews Steve Wozniak @stevewoz reveals that @Apple did not start in a garage. http://t.co/8rqzuBCOpx  http://t.co/mUrpwQ3kHB', \"@OneRepublic @Apple That's what I was thinking today! After nearly two years mine only lasts for four hours now :(\", 'Chinese smartphone maker claims #Apple copied iPhone 6 design - http://t.co/iUzewX1JuE #AAPL #Android', '@brandivatemktg @Apple - Integrity cures most evils. #MFi, in this case, will too!', '@apple yall some hoes', 'Apple Acted Unfairly In Suppressing Digital Music Competition: Paul Kedrosky $AAPL #aapl\\r\\nhttp://t.co/XTbFhpbYf7', \"For some odd reason I can't re-add 1989 on my phone. @apple stop depriving me of my jams\", \"RT @Proto_Zsay: what maketh thee of this pesky 'b' that appears at the end of people's text messages, @apple @tim_cook?\", \"My MacBook Pro is now as annoying as my ASUS Windows 8 computer. Freezing, laggy, etc.  So much for @apple's excellence.\", '@apple please work on being able to still use your phone when someone calls you so I can successfully ignore my moms call while on Twitter', 'How @Apple handles their #CustomerServiceExperience\\r\\nhttp://t.co/ZJsUuKaOYd', 'Aw yeah! monarchywpb sticker to ride with @Rhyot boommovement and @apple http://t.co/RGcHuCS95D', 'RT @Breyythatsmee: I have 170 pictures and my storage is full @apple get it together', 'It looks like I have a software update saved in my storage on my IPhone. Can I delete this or do I need it? @Apple #Applesupport', \"@Apple loses appeal to trademark 'app store' in #Australia http://t.co/cmfU7qfVWY\", 'In other news, @uber raised at $40 bill pre, @apple has $164.5 bill in cash. Good times in the Valley! No, wait... http://t.co/uUP9bDOBe4', \"@Apple, I salut you! @kcdenton's photo http://t.co/nmwlvZVjHS\", 'Apple CEO Tim Cook comes out as gay @Apple   http://t.co/euFQQpMjj6  Via @posh360_Net', 'Kantar: iPhone 6 helps Apple gain share over Android, iPhone 5c outselling iPhone 6 Plus in US $AAPL #aapl\\r\\nhttp://t.co/YLL678kOkn', \"RT @JPDesloges: Kantar Worldpanel: iPhone sales in October were 'huge' $AAPL #aapl\\r\\nhttp://t.co/g2sWiE0bJS\", '@OneRepublic @Apple @JKsOnTheRadio legit thought that was you in this pic!', 'Things are happening @apple', '@SealsKevin @TeamCavuto @Apple Hopefully endangering their own lives!', 'RT @JPDesloges: Apple to build major new R&amp;D facility in Japan, prime minister reveals $AAPL #aapl\\r\\nhttp://t.co/CysxBbg4YW', 'Just overheard an @apple employee tell some1 not to use capital letters in their password cause it will be easier to remember! #applefail', \"Apple's PT raised by JMP Securities to $150.00. outperform rating. http://t.co/omCdSCu85d $AAPL #AAPL\", 'Intel And Inevitability - http://t.co/gIZLUhRphw #AAPL #INTC #MCHP', 'Apple CEO Tim Cook Talks Technology With Senator Orrin Hatch During Washington, D.C. Trip http://t.co/Nzd3IIMIBV #AAPL', 'RT @MariaBartiromo: Apple breaks $700B market cap http://t.co/z7JcEFcGZD @Apple @OpeningBellFBN @FoxBusiness @MBlockRhino  #JohnSpallanzani', 'Fantastic service today @Apple store Touchwood - thanks to all, &amp; esp Zach for sorting my battery problem so quickly &amp; efficiently.', \"This is the 6th charger I've had to buy for my mac and they gave me the wrong one @apple #applesuport Fix this wrongdoing give me a free one\", '@wdtuts @baxleyglass does because one belongs to @Apple and the other to @Ang and the third is from @Adobe via #employeediscount.', '. @stevewoz: passion for engineering/design at the heart of what he did for @apple. http://t.co/dL7l2Us27T via @BloombergTV', 'See Which 11 Guru Fund Managers Hold #Apple #aapl http://t.co/7DnMlXMFVh', \"3 Reasons #Apple Is a Potential Warren Buffett Stock and 1 Reason It Isn't | The Motley Fool #aapl http://t.co/BnSCg3I2yo\", 'RT @LawKitson: Wut? @apple can I have my money back? kthx http://t.co/zVp7MUZDAM', '@apple bought a new iPhone 6, never gets reception in the same places my 4s did and battery life is worse. #nomoreapple', \"Here's @Apple's picks for best apps and games of 2014. http://t.co/1BWd8k32gv\", '#AAPL:Apple Is Building A $161 Million Theatre...http://t.co/iY5XtGtlGp', 'RT @JPDesloges: iPhone 6 makes iOS a success in the UK, but Android fights back in Japan $AAPL #aapl\\r\\nhttp://t.co/LXuyPKVhd5', 'FUCK OFFFFFF @apple http://t.co/vVQqXuhbrM', '@nigxnog @Apple bruh that means u type that a lot u fuckin punk bitch', 'Apple Inc. price at close, December 08, 2014, is 112.4. #apple #AAPL', \"Why @Apple don't got layaway lol I need an iMac man\", \"RT @Ecofantasy: Thinking of upgrading to #Yosemite? Think twice  http://t.co/dU0Mpaw5Ri It's not for everyone. RT #ASMSG @Apple\", \"RT @RatingsNetwork: Apple's PT raised by Canaccord Genuity to $135.00. buy rating. http://t.co/Nh2vs5lzoE $AAPL #AAPL\", '@OneRepublic @Apple awsome', 'Technology News: @Apple trial to feature unseen late #SteveJobs video deposition http://t.co/YVyoTpdMZP', 'My @apple power cord caught on fire!   Yet another non-travelling power cord I have less than a year.  #AppleCordFire http://t.co/exC3Wz8CiD', '#AAPL:Apple Inc. (AAPL): Is The Run Over?...http://t.co/Tv2iXZ2r92', '@apple your chargers suck ass! They just love to break!', '3 More #AppleWatch Details Exposed #aapl http://t.co/PEvFaMKC8O', \"@Apple deleted users' non-#iTunes music and didn't tell them about it http://t.co/UyT2ePDlTw via @Appy_Geek #apple #music\", \"iPhon6 rivals by Samsung, LG,HTC suffering delays in Qualcomm's 64-bit Snapdragon answer to Apple's A8  $AAPL #aapl\\r\\nhttp://t.co/VB6Rl78rso\", '#AAPL:Corrupt Apple exec sentenced to 1 year in prison...http://t.co/uCQYyBqrgM', \"@ATTCares I want to stay with @Apple  me and @SamsungMobile don't get along\", 'Thanks @Apple for the preview of your smartwatch. #fitnesstracker #quantifiedself #IoT http://t.co/WAGN08SDNc', '#AAPL:Apple Donating Portion of Profit to Fight Against AIDS...http://t.co/BR05N1U3Qr', 'Lmfao RT @hellvcopter: cocky ass apple. i was talking bout da fruit. fuck you. @apple http://t.co/HjISNmx6aZ', 'Is Apple The Most Important Stock On Earth?  http://t.co/xylQ5d5JN5 #aapl http://t.co/PwxjC5o8Q8', '@wearsy on apple you seem to need a us bank card to do that.  @apple I hate you', \"Can someone @apple tell me why I now have to reset my AppleTV every other day? Interesting that there's a IR remote code to reset the box.\", 'Final #AAPL #PutCallRatios for Wednesday, December 3, 2014 http://t.co/Lc6B7m7jut', \"My spellcheck makes me wanna stab somebody, that isn't the fuckin word I wanted to use @apple\", 'Here Are The Main Differences Between #Apple #CarPlay And #AndroidAuto #aapl #goog http://t.co/1tqUbuZK9R http://t.co/c9m05WejYx', 'Certified by @Zebra.  Partnered with @Apple Business.  Collaborated with @SAP.  Now... http://t.co/02MVhmiOLn', \"well imessage doesn't work thanks @apple\", '#AAPL:A Lawsuit Asks Whether Apple Used iTunes For Price-Fixing...http://t.co/0KxPhCf28K', 'You pieces of shit @apple! \\r\\nGod damnit man!', 'Final #AAPL #PutCallRatios for Monday, December 8, 2014 http://t.co/m7kpdgqeyy', 'FUCK YOU @Apple', 'Completely in love with my @apple #iphone6 right now. Playing with my #newphone &amp; digging into some @pappajohns. Day=Complete #pizza', 'CNBCTV: #Apple heads to trial #aapl http://t.co/d0AFg0lQIY', '@apple ur products are shit they break 24/7 ur ruining my life', '@radbarakat @Apple i dOMT THINK SO', \"Why does @Apple force people to use its VPN built in to iOS8? Off button doesn't work FFS. Like I want Apple's NSA data collection service.\", 'I thought this shit was suppose to be gorilla glass @apple', \"@buzz I sit home every Friday night waiting for an invitation to join an @Apple dev team.  (looks at his phone)   They'll call me one day.\", 'Thanks @Apple store @RobinaTC for helping me out with my iPhone today! Great service with a smile. #Apple', 'CNBC TV:  Day 2: #Apple antitrust trial http://t.co/FjfBE4VQqI #aapl', 'Did anyone update their Yosemite? My macbook is running like shit. @apple #apple', 'RT @MissionIR: Is Apple The Most Important Stock On Earth?  http://t.co/s5ple0Orww #aapl http://t.co/ZvW4vwZzww', 'RT @JPDesloges: APPLE - Fibonacci Technicals Levels -LAST  Intraday  Update - $AAPL #aapl \\r\\nhttp://t.co/P66pCgDlij', 'Apple Inc. (AAPL) iPhone 6 Sales Dent Android Market Share http://t.co/Nbo2TPoG3v #AAPL', 'YO I DIDNT TOUCH MY PHONE AT ALL AND RIGHT WHEN I DISCONNECTED IT FROM THE CHARGER IT WENT DOWN 3% @apple WE ARE GONNA SCRAP RIGHT NOW', 'Hey @Apple the keyboard on my phone is all sorts of drunk this morning send help pls thx', 'Elgato Launches Thunderbolt 2 Dock with 4K Resolution Support [Mac Blog] http://t.co/Sofxp2HvlB #AAPL', \"@apple #ios8 The lack of true keyboard integration is KILLING me! Half-assed implementations aren't solutions!\", 'Fuck you @apple', 'RT @Laura_Kate8: WHY DO I HAVE 5 GROUP MESSAGES WITH THE SAME PEOPLE. @apple', 'Apple: Canaccord, Merrill Up Targets on iPhone Cycle; Mostly Priced into the Stock, Says Pac Crest $AAPL #aapl\\r\\nhttp://t.co/aCM2UjwbFc', '@sampepper can not believe that @apple are still with you given the nature of what u have been accused of.   disgusting.', 'RT @OneRepublic: Studio at 45,000 ft.  One outlet,  4 computers.  @Apple we need the batteries of the future NoW!!!! http://t.co/astp9x6KET', 'RT @SRIG911: After #China, #Russia may ban some @Apple products, fearing #espionage: \\r\\n\\r\\nhttp://t.co/uJUZ2SWqgD http://t.co/5dJC9KeUqP', 'So, on my iphone5, the @apple health kit is no longer gathering data.  Sigh.', \"Dear @Apple can yall please stop making yall chargers cheap pieces of shit I'm tired of having to replace them every 3 monthd\", 'RT @marisalovexox: My phone went from 78% to 21% @apple please tell me how that is mathematically possible', \"@Apple accused of deleting songs from #iPods without users' knowledge http://t.co/hujK0yawTO\", '@apple thanks for making the shittiest chargers', \"'#Trademark Confusion: While @Apple App Store #Trademark was rejected in Australia, it's been approved in Europe &amp;...http://t.co/eAsponshkf'\", 'Congrats to @Apple, Mary Sotos @WorldResources  for Green Power Leadership Awards at REM14 @GreeneMarktplc  http://t.co/ssrfEyx4Sf', 'Activation of AirDrop on iOS 8.1.1 kills WiFi !! What have you done @Apple ???', 'Any other #iPhone6 users have a random #vertical #line showing up on their screen since #upgrading to #ios811? @apple', '@renoxalex @Apple or hang loose ???', '@weightsmate @Apple total nightmare!!!! and they take a big slice of the cake !', '@apple U need to get ur fucking shit together and let me txt while on YouTube', \"Who in the hell @apple thought, let's put the volume display in front of a video. Absolutely dumb. Miss video every time you adjust volume.\", \"@jakeflem @Apple We've previously had to deal with this issue it's really annoying. Try to reset the NVRAM http://t.co/EoIAf3wO5f\", 'Is #Apple Hedging its Bets with Another Small #iPhone? #aapl http://t.co/AXn3FjyczT', '@Apple iSchool? http://t.co/Wh7sh5uDov #education @applenws', \"Y'all petty as hell, @Apple...\", '@Apple needs an iCreep app', 'RT @pyalot: @Apple @appleios rolled out #WebGL to #iOS8 3 months ago and just overtook @google @Android in WebGL support levels.', 'RT @JPDesloges: APPLE - Fibonacci Technicals Levels - LAST  Intraday  Update - $AAPL #aapl \\r\\nhttp://t.co/Eyv06mibko', 'Apple: quarter 2014Q3 EPS is $1.42. Use it at #free App Donkey Stocks. #AAPL\\r\\nhttps://t.co/8CBUgrEHZS', \"@carlquintanilla Thanks for all the #AAPL coverage, we're all so deeply invested in this one stock; in my biz you can't ignore it....\", 'RT @Laura_Kate8: WHY DO I HAVE 5 GROUP MESSAGES WITH THE SAME PEOPLE. @apple', 'Apple plans big India push with 500 stores $AAPL #aapl\\r\\nhttp://t.co/T9btLKHl74', '@swerviinnn @Apple you are very hostile tn', 'FUCK ALL FUCK IT ALL IM SOOOOO SLEEP FIX YOUR SHIT @APPLE', 'Why are your phone chargers so terrible @apple Fix this @Jesus', '#AAPL iPad wins in ranking for best Android tablets - Seems reasonable, right? http://t.co/uJGixPbfQG', 'Fans scramble for #iPod Classic, the music player #Apple killed off #aapl\\r\\n\\r\\nhttp://t.co/ARjJvuI3b6', '@Apple fix your ios8 garbage software mix in an update ASAP', 'FUCK @apple', '@FaZeNikan @Apple I had the same thing. Bought an iPhone 5 when it came out and had to replace the battery after a month or two.', '.@Apple &amp; @Google At Work: The Enterprise Challenge - Julie M. Anderson via @InformationWeek http://t.co/HRhlCh1Qnh http://t.co/FebdhGw6Rq', 'Cheap Chromebooks teach Apple a lesson: Price matters $AAPL #aapl\\r\\nhttp://t.co/GUC5yr4cMf', 'my laptop battery went straight from 60% to 3% @apple', '@ganondaIf why is the quality so bad on these WEBCAM PICS EXCUSE ME @APPLE', 'My office for today #RemoteSupport #TechLife @Apple http://t.co/IY0xAufNTP', '#JimCramer you used the same logic to explain #TOL earnings during the paek in housing..Its a retailer..#AAPL just like #AMZN  not tech.', 'when this  iwatch finna drop fam @apple', '@MazeOnPace @Apple Product Line competes with itself. iPhone6+ vs. iPad. Who needs an iPad any longer!?', 'Apple: Market Maker Price Range Forecast Update $AAPL #aapl\\r\\nhttp://t.co/pxOoOAKuy8', \"@jakeflem @Apple I had to get my logic board completely replaced, if it's under warranty they'll do it for free - make sure to back up b4\", 'Apple to Open New Research Site in Japan $AAPL #aapl\\r\\nhttp://t.co/od40Ru1XvE', '@apple yo these new headphones i got with my 6 dont work so send me some new ones. Ill dm u my address', \"Just been handed this @apple device to fix ..m.. owner doesn't fancy waiting .... #nowounder http://t.co/Op8YZAOJk0\", 'Google Chromecast Leapfrogs Apple TV as the Aging Media Player Loses Ground to Rivals http://t.co/14UHvYCP6B #AAPL', \"My keyboard only ever freezes up when I'm trying to talk to Ian, @apple why do u hate the sophian\", '#edgf14 Jane Horvath (director of global #privacy @Apple) is speaking', 'TWDanceCenter #UrbanNutcracker @Apple Store in Boylston St. @ 6.30pm. Enjoy some #krumping . Meet the director &amp; @RussellFerg', 'Torn between a @googlenexus, @samsungmobile Note 4, or an @apple iPhone...\\r\\n\\r\\nLol jk Apple, I have a soul.\\r\\nJust need to save money for Android', 'Apple iPod class action trial to continue temporarily without a plaintiff  $AAPL #aapl\\r\\nhttp://t.co/vPvSHOQS47', 'Apple Antitrust Case Hangs in the Balance - http://t.co/CaHboVHRje @apple #antitrust #wow #ipod', 'ive literally gone through 5 iPhone 5 cords in a little over a year @apple fix this you all suck', \"Video Shows Size of 12.2-Inch 'iPad Air Plus' Mockup Next to iPhones, iPads, and MacBook http://t.co/B3V5X45stZ #AAPL\", '#iscuba 360 degree camera rig cloud mobile gamed to surface #imask @Google @padi @Apple @Samsung @HTC #underwaterwearables #cardboard #pivot', \"I hate my phone, I can't use it it's gone completely silent, and if I were to call @apple I would get even less help than I get now.\", '@Apple #iPod lawsuit will reveal unseen Steve Jobs video http://t.co/nEF5qOGbHE', \"#AAPL:4-inch iPhone 6: Five Reasons Apple Won't Make It...http://t.co/pZaHEFQWLo\", 'I have no more storage left. Fuck you @apple', '@DannyRosin @Apple Agreed!', '@OneRepublic @Apple So amazing', 'Your iPad game just got shut way down. Like 24K gold way down. http://t.co/Gfcw8Ta0wS (cc: @Apple)', 'why the fuck are all my messages being sent through my email and not phone number @apple', \"Yeah +1 thing I'm inspired by is Apple of course. So, Apple++. Here is TV ad from 2002: http://t.co/s5MgeHg9bO @apple #tvad\", 'I could punch whoever came up with the new @apple commercials. #makeitstop #ahhhhhhh', '@OneRepublic @Apple Working hard for album 4', 'Steve Jobs defends Apple from the grave in iPod lawsuit \\r\\n$AAPL #aapl\\r\\nhttp://t.co/L5rxeW2zKp', 'Great FCP X update from @apple today. That will do nicely! #video # editing', \"That's what happened to my music! @Apple deleted music from customers' iPods http://t.co/zvJoangfIK\", \"@matt_garber @levifig @dcurtis hah. I wasn't defending it. But this is @apple and they don't understand the internet.\", 'My phones been charging for an hour but it keeps losing percentage?? Get ur shit together @apple', 'Done with this iPhone 6 plus Apple or sprint giving me my bread back. Trash ass phone full of fuck ups @sprint @apple', 'Explore all the Apple rumours for 2015 http://t.co/dFfeIjBDZE #Apple2015 #TechIreland @Apple http://t.co/M6vrskWmLF', 's/o to @apple for charging me for two ringtones and then not letting me use them. #ThanksObama', \"Wouldn't be a bad idea to bring back the tap to tweet function guys @apple @twitter\", \"Yo @apple I didn't need a subject line for my text &amp; iMessages folk.\", '11am and 20% battery. Die, @apple', 'Thank you @apple', '#realworld #etnui #magicleap #spin @Google @HTC @Apple @Samsung @magicleap this is a collection of dreams, thoughts, and discussions I share', '#iPhone6, #6 Plus Availability And Wait Time Update: @Apple [#Apple] Store, Verizon .... (#Sunday, 7 #December) http://t.co/OyrnRBvtse', \"Finally updated #iPhone to IOs 8 something, thanks @apple for more shit we don't need. #seriously, thanks a trillion. http://t.co/JK2LnVs4JW\", \"Not cool @Apple ... not cool. You just bait-and-switched me into paying for an upgrade to server after a 'free' upgd. to 10.10.1?\", \"As the sun devils were making their 20-2 run on us, my phone called 4 people and hung up on them all on it's own. WTF! #iphoneissues @apple\", '@apple yo when ya coming out with the charger case for the 6? Hurr Up', \"Thanks @apple for 'Keep Newer' when transferring files from a local hard drive to a server.\", \"Also I've had my iPhone 6 for two days and it's already broken shout out to @apple\", 'Dan Nathan: How To Profit From Apple Inc. (AAPL) Stock? http://t.co/JzTjVsJKhj #AAPL', '@swerviinnn @Apple maybe stop being a whore for once and sleep', 'Apple Inc. Deleted Non-iTunes Music Off iPods http://t.co/UE6JaM5vc3 #AAPL', 'Being held hostage at @apple - They are replacing the whole phone. Last backup at 630 a.m. this morning so anything since was byebyebye.', 'Apple Inc. vs Google Inc: The Battle Of The Tech Giants $AAPL #aapl\\r\\nhttp://t.co/JrU4mZeGcG', 'Dear @Apple, please fix your AWDL issues.. https://t.co/rAy5olfZyt', 'Pretty bad @apple my #iphone5 has 20%life left and it is only 11am.', '@apple pls make better chargers :)', 'RT @JPDesloges: Why Apple  Is Poised to Have a Record-Breaking Holiday Season $AAPL #aapl\\r\\nhttp://t.co/bTK0MWUBa6', \"@apple @testflightapp You should tell testers that if using Gmail on iOS, your app won't work. Doesn't tell testers at all.\", \"My 17' MacBook Pro boots with pink vertical stripes, a gray screen, then shutting down and repeating...help @apple http://t.co/xZ4Wb3dm73\", 'Full-Time #Trader? #trading #stocks #futures #forex #trader #es  #baba #aapl #gpro #fb #eem #eSignal http://t.co/JH7BMS1Kgb', \"RT @peterpham: Bought my @AugustSmartLock at the @apple store..pretty good logo match . can't wait to install it! http://t.co/z8VKMhbnR3\", \"The king of the phablets! Apple's iPhone 6 plus is bestseller for past three months - $AAPL #aapl\\r\\nhttp://t.co/VNp8xeBow6\", 'the ##Best #iPhone Apps Of The Year, #According To @Apple [#Apple]. (#Monday, 8 #December) http://t.co/VNvaZcNEMP', 'The UI of the future: Three takeaways from @Apple pioneer Bill Fernandez @ZDNet @jasonhiner http://t.co/lS1u0QFSGh', \"if i fail poli sci because of this fucking laptop i'm suing @apple\", 'Apple: Dec 8 Total Trading Daily Profits 2.78/sh  #aapl #Stockaction #trading #Stocks #MKt \\r\\nhttp://t.co/Le2r9f5crg', 'Apple Releases Final Cut Pro 10.1.4 and Xcode 6.1.1 [Mac Blog] http://t.co/LjOSIwSpy7 #AAPL', '6 Reasons #Apple Could Have Fallen 6% Yesterday - Forbes #aapl  http://t.co/8v2qhZG65Z', \".@Apple #HealthKit first movers featured at @mHealthsummit | Mobiquity's own @snyder4g also panelist @mhealth14 http://t.co/mrLT6wCnPE\", '#AAPL:Apple heads to trial over digital music claims...http://t.co/vOpYSuiVKi', \"Monday's Analyst Moves: Apple Inc., Chevron Corporation, Starbucks ... http://t.co/WoLR3QcwBy #AAPL\", 'RT @fakebananas: Thanks @Apple for the preview of your smartwatch. #fitnesstracker #quantifiedself #IoT http://t.co/WAGN08SDNc', '#SteveJobs Predicted The Future Of #ECommerce Back In 1996 And Got It Exactly Right #aapl http://t.co/uKFVal2EAU', 'APPLE Intraday Comments - Updated. RANGE - PREMIUM USERS  #aapl #Stockaction #trading #Stocks #MKt\\r\\nhttp://t.co/G0TeDLCB9z', 'Ok I muted the groupchat but I still get notifications uhm @apple what the hell', '#Verr?cktes #Ger?cht: #iPhone6s zum @Apple [#Apple] Watch. (#Thursday, 4 #December) http://t.co/RZQ20daDNt', 'Lowkey, Yosemite trash af I cant use my logic express 9 anymore @Apple yall irritating the fuck outta me - Sincerely a disgruntled person', 'Dear @Apple I would like an #iMac with touch screen more than a watch', 'Hey @Apple, every time you update iTunes you make it worse. And worse. #DontUpdateiTunes', 'my alarm was set the ringer was on and it just refused to work fuck u @apple', 'RT @JPDesloges: Plaintiff withdrawn in iPod antitrust lawsuit $AAPL #aapl\\r\\nhttp://t.co/ncmRj5QUqL', 'Apple Is Warming Up To Social Media: Apple is hiring a social media guru in L.A. Will @Apple fin... http://t.co/cO00B5KQOi #startup #nyc', \"hey @apple why is my phone dying when it's on the charger \\r\\nur stuff sucks\", 'Steve Wozniak tries to gut the legacy of the late Steve Jobs. #uncool @apple http://t.co/ccPbgibI7B via @BloombergTV', 'Steve Jobs emails featured in Apple iPod US antitrust trial http://t.co/UNEs9ioHtF #AAPL', 'Former Apple Inc. Supply Manager Sentenced To Prison, Fined $4.5 Million For Corporate Espionage  $AAPL #aapl\\r\\nhttp://t.co/snXCwUk1pI', 'Yo! @apple this auto correct shit gotta stop!!! changing my shit right when i send it', 'RT Different is Normal http://t.co/6cbUmYzRlm + #FrankCaliendo #IanSomerhalder #RyanDorsey #DanBilzerian #AAPL', 'Sorry @samsung but I will be taking my smartphone talents over to @Apple. The iphone 6 is more reliable &amp; is better for everyday usage.', 'My iPhones working without a SIM card on 3G (not on wifi) #wtf @apple', \"RT @iLoveMyMom98: I've tried turning it off and on, what's my problem here? @apple http://t.co/HYSbBXpvz5\", 'Photo: Caf揭 Mac @Apple: check, Shady Groove @Google: check. For not being a techie, I seem to frequent... http://t.co/RpFTxGAr5L', 'Dash now accepts #ApplePay. @apple Thanks @braintree for making this happen #mobilepayments #paywithdash http://t.co/OxWmavCScN', 'RT @SanfordDiday: New @Apple Patent From PrimeSense Covers Kinect-Style 3D Space痒Mapping http://t.co/RKEV5meNtM via @techcrunch #cooltech', \"@HRHound @MandoGallegos Nice! If the actor had on an iWatch he'd have the entire suite of @Apple products. #sponsorDeal\", \"You'd think safari would work well since it's an apple product but no it's been freezing constantly. Such crap products @apple\", '#iPhone6, #6 Plus trigger spike in @Apple [#Apple] sales worldwide. (#Thursday, 4 #December) http://t.co/L6axoBrifm', '@LittleWordBites @TravlandLeisure @Apple  &gt; A5: chipping in here- I am inspired by the iPhone 6+~ takes incredible photos! Pin sharp!', 'Apple:Dec 2 Trading Daily Profit $3.34/sh, Weekly Profits of $13.37/sh  #aapl #Stockaction #trading #Stocks #MKt  \\r\\nhttp://t.co/ISJv7tZk0l', 'RT @schreier: It makes you smarter.  Elevate is @apple app of the year!  Congratulations @jessepickard and team.  http://t.co/r0cgmthoCC', \"I'm still mad @apple\", 'Why Even Apple Is Surprised by the Enormous Demand for the iPhone 6 $AAPL #aapl\\r\\nhttp://t.co/rwGf20VByx', 'A for @Apple \\r\\nA for @adnantariqbajwa\\r\\nA for @air_mun http://t.co/NguX60BCr1', \"Strikes me as somewhat stupid that @Apple have sent me a brand new iPhone without the latest software on. So I can't restore my old stuff.\", '@apple when are you going to fix the maps app. The navigation sucks!!! Face it and just switch to google maps.', 'What Every Young #Designer Should Know, From Legendary @Apple Designer Susan Kare\\r\\nhttp://t.co/7vqhjJ7BWC http://t.co/NHthTHaG3g', 'My phone died on 23% @apple what the fuck is this', 'iPod replaced. If I never have to set foot in an @apple store again, the world will be a better place.', 'In the market to create more videos with my students @Apple #Macbook http://t.co/bAn4z2BPRQ via @donorschoose', \"@Apple - What if I don't want my money going to Africa to fight AIDS?  We have problems here we need to fight.\\r\\n\\r\\n#apple #africa @cnn #cnn\", \"Why isn't @Apple on Twitter? http://t.co/J37ja6MrpE\", \"@Anna_Cochrane @Apple Shouldn't you be out walking Anna? Pick me up a iPhone 6 128g while you're there. I can DM an address.\", '@Apple TV fades away in #streaming video player market http://t.co/nmqcdKFnUL', '@OneRepublic @Apple Thanks for sharing pics. Awesome guys! :)', 'Love @apple #iphone5 but I need to upgrade soon http://t.co/KkQNsU8QUt http://t.co/vQezbjOPxA', 'The stage is set at @apple #cwb for @edwardkb @lielaineyl @cc_nimbu @jethromullen Vivien Liu #instasavvy http://t.co/51HQnC7S2O', '@Apple [#Apple] #Patents An #iPhone Drop Protection Mechanism That Changes Device .... (#Tuesday, 2 #December) http://t.co/W5X6P2CgAw', '#AAPL:Jim Cramer: Why This Is Not the Tech Bubble We Saw in 2000...http://t.co/Yag6HUnBTa', '#mkt Final #AAPL #PutCallRatios for Friday, December 5, 2014:  http://t.co/lvK2RfkfBB', 'Apple MacBook (鶯949.86)\\r\\nhttp://t.co/f5IHhOnzHM\\r\\n@office_nerd @apple\\r\\n#tech http://t.co/0cuTGtm7fF', 'i went from @Samsungtweets to @apple #overnight #whathappened', 'itunes is awful &amp; is ruining my life fix your shit @apple', '@Apple s new patent against broken screens http://t.co/LSwPdLt8UD  @TechCrunch #tech #iphone #business #innovation', 'hey @apple fuck you', 'Never ever buy an @apple itouch they are worthless', \"what the hell why did lucy's songs just delete off my phone I HATW YOU @iTunesMusic @apple\", \"RT @JPDesloges: GTAT Creditors Want to Question Apple's Jeff Williams $AAPL #aapl\\r\\nhttp://t.co/FlFWmJ5LkH\", \"Lmao oh my god why the fuck did it autocorrect it from 'gonna' to 'finna' ahahahah @apple u ghetto child ass youuu http://t.co/H9x2YCwx0T\", '#ios8 upgrade creates #cutandpaste problems @apple not impressed. Anyone else ha', '#Apple Campus 2 December 2014 update + Drone Flyover video - http://t.co/WvHhksxGD3 #AAPL #CompanyTagged http://t.co/x3B0qMBvkp', \"42% believe #iPhone6 won't be available this Christmas, survey says http://t.co/ARjdahF9bm via @CNET #aapl\", '@apple and @facebook I speak for all of humanity; We want to chose what contacts are added to our contacts book from #facebook #thanks', 'Fuck you @Apple my phone has been searching for service for almost a complete day', \"@Shagale @apple why'd you do this to us?!\", 'I HATE HOW IOS 8 CAPITALIZES RANDOM WORDS LIKE I DONT WANNA GIVE EMPHASIS TO SOME STUPID WORD IN THA SENTENCE GET UR SELF TOGETHER @Apple', \"Wtf.. My phone is in do not disturb and I'm still getting notifications.. Fix this shit @Applebees @apple\", 'How many @Apple products does it take to write a paper? \\r\\n\\r\\nPhoto credit: iPhone http://t.co/QBtDib92Lo', \"Can't get a new iPhone 6? How about these free Apple shares....\\r\\nhttp://t.co/UPgQSDVrxP  #investing  #stocks #aapl http://t.co/EQYG01tPna\", 'fuck you for BREAKING MY MUSIC @apple', '@fullcircleone ThanX! Big @Apple ThanX goes 2 @stackizshort &amp; @Rebelutionary_Z on the ground #Ferguson2NYC #BlackLivesMatter #ICantBreathe', '@BmoneySlamdog23 @Apple every time I type the word yA it capitalizes the a. Drives me nuts.', '@Apple is becoming very petty about not allowing certain Apple Dev resources work in Chrome.', '@Apple lawsuit could collapse as new #evidence comes to fore http://t.co/w3h3JSDFLq', \"@OneRepublic @Apple that looks amazing, don't think anyone can say they recorded music on a plane haha\", 'Early Movers: BIG, DLTR, THI, #AAPL, FIVE &amp; more: These are the stocks posting the largest moves before the bell. http://t.co/GBlMWzOcQO', 'First @Apple logo was designed by co-founder Ronald Wayne. Drawing of Isaac Newton reading a book under an apple tree', 'Apple Inc. Leads Momentum Stocks, Tesla Motors Inc Loses Steam http://t.co/4eviw5kcsz #AAPL', '$AAPL as expected, some users still like small screens, iPhone 6 mini reportedly on its way #AAPL http://t.co/QDj4eBlP6H', 'Five Apple predictions for 2015. I disagree absolutely, apple will have an incredible holiday season! #aapl 130$ http://t.co/GYJAJevWoz', \"why don't we have an ape emoji on iphones? or a middle finger? it's almost 2015, step it up @apple.\", \"#Siri never understands me. She just said she was 'new 2 my language' and didn't get me. I speak English without major accent. #Apple @Apple\", \"But I'm beyond thankful for the help @Apple gave me today. Computer was defective and they replaced it, while I just payed the difference\", 'http://t.co/hpC7p1rHvA\\nneed help on using your #Apple #iPhone6 &amp; #iPhone6Plus ? #checkitout\\n@applenws @apple http://t.co/K3fQHPazMc', \"#Meet #Elevate, @Apple [#Apple]'s Pick For Best #iPhone App Of the #Year. (#Monday, 8 #December) http://t.co/ouS5IygQ1k\", 'Trade $AAPL #FREE Nightly Updates are #posted here on #Twitter, or you can visit the #Trade #AAPL FREE #website here http://t.co/U4TKeApbxF', '@mayhembcn iUpdate is new since I needed a DUNS two years ago (web form + phone call) - ironic for an @apple req that it only supports IE8+', 'Apple Gets Price Target Boost on Back of Strong iPhone Demand $AAPL #aapl\\r\\nhttp://t.co/ciGlB3SYfl', 'Is Apple The Most Important Stock On Earth? http://t.co/gXoZJYZdNy #AAPL', '@AzakFeverAFC @Apple Do you need Intel. Dm. JW.', '@Apple planning to strengthen #India presence with 500 stores across #cities and #towns http://t.co/FbJHxEl328', 'Your OSX built in @firefox #keylogger had been provided by @apple !!\\r\\nhttps://t.co/ULMcDsEcin', '@cynthialanel @twitter silicon valley as a whole needs to step up the same 2% @google @yahoo @facebook @apple http://t.co/e2yGDaL3ge', 'took me an hour (half of it was decided in a bubble bath) that I cannot download iOS 8. I hate you @apple @EE', 'Just did my first transaction with @Apple Pay using my @Chase card. Very neat.', 'RT @FaZeNikan: yea let me just pay 600 dollars for phone so it dies at 30% fix your shit @apple', 'See Which 11 Guru Fund Managers Hold Apple $AAPL #aapl\\r\\nhttp://t.co/NDlLVROPDb', \"Few spots left @WWCLondon's 10 Dec event @Apple w/ @coderinheels @Dr_Black @WATC_girl @isabelladegen... http://t.co/2XLmDI61HF\", 'Hands-On With Elgato Smart Power and Mophie Powerstation Plus External Batteries [iOS Blog] http://t.co/ixtMoOjRpI #AAPL', \"@MrBeagleman @Kronykal @Apple That coffee's not even fair trade!\", 'New @Apple Patent From PrimeSense Covers Kinect-Style 3D Space痒Mapping http://t.co/RKEV5meNtM via @techcrunch #cooltech', \"There's a movie in my iTunes Match / iCloud that I can't remove. Actually it's a trailer. Very annoying @Apple.\", 'In the @Apple iPod antitrust case, recent development - Plaintiffs may never have bought the iPods in the first place http://t.co/ivBJa2YJgM', 'Brooklyn finally getting an #Apple Store, expected to open in April 2015 - http://t.co/ceZsxzL7SS #AAPL #DiscussBrooklyn', \"@Apple why is flag next to delete in email? Wouldn't it make more sense next to Mark as unread on the other side? accidentally deleting\", 'wtf is my conputer doing I left it alone for five minutes and it does this?? help @apple @billgates http://t.co/KTmXOrp03w', 'RT @Metzzler: Hey @apple how about you guys make a charger that lasts more than 2 fucking weeks', \"RT @uTunes3000: Hitting below the belt! @Apple 'deleted' rivals' music from iPods, court hears. http://t.co/QiyqAukvc1 #musicnews\", \"Apple Is Reportedly Planning A 12-Inch iPad That Will Be Like Microsoft's Surface $AAPL #aapl\\r\\nhttp://t.co/ahKJeeKqdi\", 'Apple Inc. Flash Crash: What You Need to Know http://t.co/Ko9PT6yuMV #AAPL', 'Will I become immune to bugs like @apple? @WomenOfHistory: You become like the 5 people you spend most of your time with. #choosewisely', '@apple  #ios8 #iphone6 #issues device with voicemail. 4 the phone being a phone it seems under developed. Ie:listen message and take a note!', \".@Apple needs to consider these emoji's! I REALLY NEED THEM IN MY LIFE!!! http://t.co/HYpcrcgJ44 via @buzzfeed\", 'First to own 2600 digital languages is the NEW leader of the Internet. .@Samsung  .@google .@apple .@Micromax_Mobile #onlinegaming  .@WoW_en', '@Apple [#Apple] #sales soar after launch of #iPhone6. (#Wednesday, 3 #December) http://t.co/QrV3LxeVgm', 'if my phone dies mid tweet I will SUE you @apple', 'Apple could release 4-inch iPhone 6 Mini next year $AAPL #aapl\\r\\nhttp://t.co/lyomrvbCe0', 'Dear @Apple, I place all my browser eggs in the #Safari basket. Guess what? Safari is broken, please fix the release you pulled. #FAIL', '@swerviinnn @Apple multiply by 100', 'MY T-MOBILE/APPLE CELLULAR HELL! http://t.co/Gs9wNwmawu @apple @TMobile #iPhone6 #iPhone6Plus #Apple #TMobile #tech http://t.co/auHhLb0Plv', 'Crystal Baller: Rebirth of the 4-inch iPhone and other insane Apple rumors $AAPL #aapl\\r\\nhttp://t.co/yvpAZQUmNt', '@OneRepublic @Apple this is awesome! Can I join?', '#IPhone6 #Plus Captures 41% of US #phablet Sales #aapl http://t.co/pbM5D7Z7Gw', \"MUST READ: Apple's iPhone 6 China Unicom Lead-Times $AAPL #aapl\\r\\nhttp://t.co/KgB8fuFlo3\", 'RT @ace_kit_uk: Apple MacBook (鶯949.86)\\r\\nhttp://t.co/f5IHhOnzHM\\r\\n@office_nerd @apple\\r\\n#tech http://t.co/dWX2Q7sS6F', 'New 4-inch iPhone 6 Reported. 5 Reasons Apple Must Make It  $AAPL #aapl\\r\\nhttp://t.co/jmpX51PCgL', 'Holiday weekend @apple v #android who came out on top? http://t.co/WEpQ4CunCr http://t.co/pNX4QKuymh', '@5wa Haha, @Apple techs seeing the #CondoSeniors cookery should jump at opportunity! ;-)', 'FBI investigates iPad school programme $AAPL #aapl\\r\\nhttp://t.co/s5ymu0u1Rb', 'RT @aaaron: Insanely great news. @adroll teams up with @apple for iAds programmatic launch\\r\\nhttp://t.co/l5flNuBtBa', \"Apple plans to build a technical center in Yokohama, Japan, adding 'dozens of jobs.' http://t.co/sZKNKcE5iN #AAPL\", '@Apple #Pay Or @google #Wallet: Which is Better?\\r\\n#BiztechLTD\\r\\nhttp://t.co/gZXeMYRwln http://t.co/stDkprq0SR', 'Former Apple Inc. Exec Gets A Year In Prison For Selling Secrets http://t.co/6Ya9YQwVlR #AAPL', '@ggwpapple higher ups can link that link back to your @apple.com email address', 'my iphone6 plus is impossible to hold without a cover it slides out if my hand #apple #iphone @apple', 'RT @KirkYuhnke: What do you think? Want an @Apple #Watch? http://t.co/7HjDjQ1iAb', '#aapl might invest in #Tsla to increase R&amp;D plus increase production multi-folds in EV Cars, SUV,s. By 2015 most of US &amp; China-Supercharged.', \"'@GMONEYizME: I've probably spent more on replacing non functioning Iphone cables than I've spent on iPhones @apple' - #SwitchToLumia\", \"Alabama anti-discrimination bill to be named after Apple's Tim Cook http://t.co/tnuYzI7QbT #AAPL\", 'Why Apple Needs China to Love the Apple Watch  $AAPL #aapl\\r\\nhttp://t.co/Jxo4stP9b7', 'APPLE - Fibonacci Technicals Levels - Intraday - Pre-Opening $AAPL #aapl \\r\\nhttp://t.co/ueCSTwoPcp', 'Why did @apple send me a new computer today and it is broken... #whyamihavingtomakegeniusbarappointmentsalready', 'Watch out @Apple.  http://t.co/B3Uq7YeDlx', '@apple my laptop is burning my legs what do u have to say about this', 'Rumor Roundup: Crescentgate-gate $AAPL #aapl\\r\\nhttp://t.co/iQOYgnD72G', \"Worth reading: #design comparison of @Google and @Apple's map apps: http://t.co/7vGUivRy0C #UX\", \"RT @tschwettman: hey @apple why won't you let me facetime claire stop being rude\", \"RT @hsmoghul: My @apple autocorrect changes Muslim to awesome and I'm okay with that\", '@apple the fact these itunes updates makes it anal to reset play counts sometimes yall do the mosttttt', 'RT @thehill: Justice Department cites 18th century federal law to get @Apple to unlock iPhones: http://t.co/Eth0QpAIom', '@apple I wish camera on the side in next #iPhone and #landscapeTwitter on @twitter app in new #2015! #RD', 'DEAR APPLE THIS IS THE WORSE SERVICE EVER @apple http://t.co/JHPs71DF0W', '#Apple Wants To Make Your Commute Much Easier, According To This New Patent #aapl http://t.co/fKMNHCmwJU http://t.co/wdqAzQowt3', \"'@OneRepublic: Studio at 45,000 ft. One outlet, 4 computers. @Apple we need the batteries of the future NoW!!!! http://t.co/MjnnSFZFp5'\", \"@jakeflem @Apple  Sorry that you're going through that hope you get this fix it was a real pain for us too  but Apple care cover it for free\", '#AAPL:iPhone 7 Rumors: Might be Called iPhone 6S, Coming in 3 Styles...http://t.co/0XbmuVdZpL', \"Yeah, I'll definitely be going to the @apple store after finals. Damn MBP Graphics card failing again, this is bullshit for a $2500 computer\", 'Headed to @IKEA and @Apple Store today. Yikes or Yay? #dayoffduties', 'Game*** @Apple you bitches really trying me tonight! RT @DreMacsAMillion: @WhoSFlyy__ gams night gawd', 'Sprint Offering to Halve Wireless Bills for Customers Switching From AT&amp;T or Verizon [iOS Blog] http://t.co/Chvmx9EHiy #AAPL', 'There needs to be a Texas flag emoji @apple', 'RT @JOJOxSweat: WHY MY CHARGERS ALWAYS GET NECKS &amp; SHIT @apple', \"JMP raises Apple Inc price target to $150 on 'exceptionally strong' demand for ... http://t.co/SOmV4lx8Ao #AAPL\", 'Pencil Skirt and Pacifier: Tech Tuesday: All About the Leather @apple http://t.co/vRRxo3SV0c', \"proof @apple does not use it's own products. freaking MAIL shows up in SEARCH FOR FILE in the FINDER!\\r\\n\\r\\nnut kicks. http://t.co/64hu4wqNkV\", 'UBS hikes FQ1 #iPhone forecast following Google checks #AAPL http://t.co/92YmzRBBuw', '@TeamCavuto @FairOaksTrader @Apple  Still Misplaced, but they are the companies with the most power to do something.', 'MasterCard Teams up with Gwen Stefani to Promote Apple Pay $AAPL #aapl\\r\\nhttp://t.co/EToKp308cW', '@apple you are loosing all the things that used to make you so much better to live with than windows', 'Photographing the White House Christmas Decorations With an iPhone 6 by @BrooksKraftFoto  @apple http://t.co/lPDqbJqnV5', 'Lol tryna figure out why this file say its from 1984? @tim_cook @apple @StephanieKMBC http://t.co/oxgYTgW3P7', 'Here Is The New @iPad Ad #aapl http://t.co/Ec6QKDdTsK http://t.co/Cbpe7mtKvb', '@5SOS OMG THIS WOULD ACTUALLY BE A RLLY CUTE EMOJI @apple', 'RT @Totterdells: Explore all the Apple rumours for 2015 http://t.co/dFfeIjBDZE #Apple2015 #TechIreland @Apple http://t.co/M6vrskWmLF', '@Apple with the Hour of Code for @codeorg http://t.co/mCxrLxX9kb via @TechCrunch. How about startups join and teach coding too?', 'Frustrated after unsuccessfully trying to fix outgoing SMTP configuration. &lt;3 @Apple but this is unacceptable #YosemiteProblems #apple #help', '@Apple co-founder Steve Wozniak talks about Steve Jobs &amp; Apples early days. via @DesignTaxi http://t.co/JWxSOuTLP7', 'Morgan Stanley Sells Apple Inc., but AAPL Stock Still a Buy $AAPL #aapl\\r\\nhttp://t.co/w6zGbxeEs0', '#Verr?cktes #Ger?cht: #iPhone6s zum @Apple [#Apple] Watch. (#Thursday, 4 #December) http://t.co/w8KyZdoUtE', '@Apple!! What the heck??? My phone screen looks like it lost a battle with a windstorm! http://t.co/HcTgCIjxBS', 'It makes you smarter.  Elevate is @apple app of the year!  Congratulations @jessepickard and team.  http://t.co/r0cgmthoCC', \"RT @IHCFO: Gonna go out on a limb. #Twtr will be this decade's #AAPL.\", '@OneRepublic @Apple #AppleAddict ! The show in Paris was Amazing !!!! Thank you guys !!!! See you soon !', 'OK, utterly rediculous! Takes 2 hrs to do a simple thing like syncing a ringtone? Itunes Accessability is horific! Again! Rediculous! @Apple', 'Thank you @Apple', '@thehill @Apple i cite the 4th amendment as a retort', 'Spent 6000 EUR at Apple. iPhone 6 camera no longer works.Told I got water in it,I did not. Unacceptable customer service @apple', '@Apple the no caller ID thing is scary as heck and I suggest you stop it', 'THE FUTURE OF #APPLE #aapl http://t.co/0MO7dUeyh6 http://t.co/txHppUeWp7', '#AAPL:My Three Horsemen Of The NASDAQ 100:  Apple, Microsoft And Gilead Scie...http://t.co/cDvoZfGSBX', 'Apple Inc. Weekly Roundup: Facebook Ads &amp; iPad 4 http://t.co/1YrNUvCJel #AAPL', '@ThisDueeMarco @Apple thats annoying, they never get stuff right the first time.', '@apple thank you http://t.co/wmSinAAuQf', 'This is why I would never want to own an @apple device. But sadly people seem to be okay with that. http://t.co/EK4vESbigs', 'how do I have 1% then plug in my phone and jumps to 4% @apple stop playing games', \"@Apple YOU'RE NOT EVEN THE REAL FUCKING APPLE COMPANY WHAT THE FUCK AM I SUPPOSED TO DO\", \"'@Apple: What to Expect in 2015' http://t.co/36w26XZlzb\", '#Alle #News zu #iPhone, #iPod und @Apple [#Apple] Watch. (#Monday, 8 #December) http://t.co/iO3m7jkK4t', 'Apple Stores recruiting fashion/luxury experts ahead of Apple Watch debut $AAPL #aapl\\r\\nhttp://t.co/AD9wcBYfRa', 'I swear to fuck I would rather cut and splice physical fucking tape than dick around with one more @Apple product with shit design.', 'Thank u @Apple for having outstanding customer service &amp; exchanging a phone case that was clearly not made 4 the power user #customerforlife', 'Great time had @Apple store on Friday. @RussellFerg &amp; his #krumpers &amp; a #talkBack http://t.co/N6RdHXm2oP @TWDanceCenter #UrbanNutcracker', 'Does anyone know if theres a #smartwatch  with a old fashioned clock face? \\r\\nGrandma needs a watch. @Samsung  @apple @mota', 'Is @apple the most searched for company and @google the most searched on platform?', 'Hey @apple how about you guys make a charger that lasts more than 2 fucking weeks', 'tell ur update to stop capitalizing everything @apple', '@juji246 @stephanies0601 @BradPaisley @Applebees OOPS. SORRY, APPLEBEES. I MEANT @apple', '@MrBeagleman @Apple \\r\\nIf Starbucks shuts down, anon is decimated', 'can we get a touch screen macbook @apple', \"Have Apple's iPad Sales Peaked? #AAPL http://t.co/zDUTviV8ys\", 'Zoonova What-If analysis #AAPL #LNKD #FB #GOOGL #TSLA Stocks Options Bonds FRN MM. % -10 bps Vol + 20% Nasdaq 4500 http://t.co/NpIEpe7dp5', '5 Companies Growing Faster Than Apple Inc. http://t.co/SvbEfgMS7O #AAPL', 'Thank you to the nice lady at @Apple in #RegentsStreet for helping me grab my phone today ^_^ You are a life saver!', 'Daring Fireball: Transmit iOS and iCloud Drive @Apple http://t.co/kCByq0221c', 'My apps @apple #ipodtouch5thgen http://t.co/ttEzGarBXd http://t.co/8bUawltG4i', '#iPhone6c release date, #rumours and #leaked images: #Will @Apple [#Apple] release a .... (#Thursday, 4 #December) http://t.co/BoA50OHs0b', 'All they do is steal your money @apple :)', 'An OSX update just bricked my MacBook Pro!. @apple fuck..', \"Just watched my dad struggle to answer a call because his #iPhone wouldn't let him answer. Great job on #iOS @Apple!!! Not...\", '@apple on hold 56 min....', \"@engadget why are apple users surprised? @apple tells them how to hold their phones what's on their phones &amp; what they can listen to #isheep\", 'How do I only have 12.7 GB used if my phone is 16 GB? @Apple http://t.co/itSSqNqLIa', \"Apple's $1bn anti-competition trial might collapse $AAPL #aapl\\r\\nhttp://t.co/okgLdIN1ny\", 'Wells Fargo Continues Promoting Apple Pay With New Advertisement http://t.co/5XarM27WRi #AAPL', '@engadget @apple It happened to me.', \"I'm going to press the play button!! Wait no I'm not :( @apple fix your apps http://t.co/eteewIIjrO\", \"Too much completely broken shit in the world, fucks sake. (And Fuck You @Apple for the bullshit 'autocorrects')\", 'Why I Hate #Apple. #aapl  http://t.co/inkCjYw0Lq', '@PatrickPaltrow @Apple between 4 and 8', '@nialIhburn @Apple TRES', '@apple your freaking computer went psycho and ruined my life thanks a lot!!!', \"Apple: Facing A Challenge From Google's Android http://t.co/apqD7jWn7B #AAPL\", \"Is Apple a symptom of a tech bubble? Could Apple be overvalued? 700B Reasons for Apple's Valuation: https://t.co/MssFgcQiaF #Apple #AAPL\", \"Mark Zuckerberg's Newest Frenemy: Tim Cook $AAPL #aapl\\r\\nhttp://t.co/PzNcxFZ68S\", \"@Apple retail locations to offer free coding workshops Dec 11th as part of 'The Hour of Code' http://t.co/4YVXawpyjb\", 'Free s/o @apple for this nice iPad', 'RT @bella_bong_: @apple U need to get ur fucking shit together and let me txt while on YouTube', 'Photo: Yaaass. Shoutout to @apple.holidays and to @stevejobs for being amazing! #iPhone #stevejobs... http://t.co/6IObBn59MQ', 'the silicone on my case is peeling, wtf @apple', 'Man the @ESPN3 app on @apple TV is some hot garbage.', 'Apple: $115 fits to 8.4% increase in earnings. Use 2014Q3 EPS=$1.42 in  #free IOS App Donkey Stocks. #AAPL\\r\\nhttps://t.co/8CBUgrEHZS', '#apple earns more #profit in on quarter than #amazon has earned in its lifetime.\\r\\nAmazon\\r\\n@apple\\r\\nWoW Facts... http://t.co/9BPay5nh8G', 'MY TEXTING ISNT WORKING AND @VerizonWireless BLAMES @apple AND APPLE BLAMES VERIZON. SOMEONE FIX THIS. ITS BEEN 36 HOURS OF THIS CRAP.', 'Finally got my iPhone 6! @apple =) Such a relief after using my 4 for months!', 'Not sure who is worse @ATT @Apple vacations or @SovereignBankUS', \"@iamrayuko @Apple because you know you don't want none!\", 'First tweet from my new @apple #iPhone 6 Plus. #newtoy', 'For the past week my phone stay freezing &amp; closing out apps on me, wtf @apple?!', \"Watch the weekend's new TV ads from @RadioShack, @Apple and more http://t.co/hXhnN8og6K\", '#iPhone6c release date, #rumours and #leaked images: @Apple [#Apple] said to #be working .... (#Friday, 5 #Decem... http://t.co/76QIXLKyS3', 'Apple Continues Beefing Up Digital Audio Expertise by Hiring Dana Massie From Audience http://t.co/v4OFDCnz85 #AAPL', 'Hey @apple could you make an iPhone charger that lasts more than a month? Sincerely, a broke high school student who wants her phone charged', \"Siri be on that bull shit telling me it's not gonna rain and shit da fuck I pay for her for @apple\", 'I HAVE BEEN THROUGH ABOUT 18 IPHONE 5 CHARGERS @apple @stevejobs @WTF @!!!!!!!!!!!! @notcool', \"TheStreet: #Cramer Says Buy mApple, as #Avago Tech's Earnings Hint at Big Demand #avgo #aapl http://t.co/iabVpFUIoc\", 'Foreign Currency Exchange May Be A Headwind For Apple $AAPL #aapl\\r\\nhttp://t.co/7GiTFxqS5j', 'I hope no one ever cons me into getting another crappy @apple product again', \"If you have an iPad 2, DON'T update it to iOS8, it's buggy and slow! #apple @apple\", 'Yay @Apple customer support was super nice and helpful and now my iMessages is verified.', 'WHAT THE ACTUAL FUCK @apple', \"How in the heck isn't there a taco emoji? @apple\", 'My phone is on acid right now @apple fix this', '@Apple pls let me know when yr sorti out problems wi ipadmini its freezing slow http://t.co/Ou8SsWA6jT', '@RedXPower @ChristmasCount @Apple but these phones make people fat lol', 'Every new iPhone or update spellcheck suppress my greatness more and more...stop trying to tell me what to type @apple!!!', \"Major News Outlets Seek Permission to Share Steve Jobs' iPod Lawsuit Deposition Video http://t.co/K1o0qEEVZL #AAPL\", 'fuck apple for allowing ppl to access the camera when the phone is locked fuck you fuck you @apple', \"Ok seriously... When is @apple going to fix iOS 8? I'm still missing music!\", 'Who annoys me more @at&amp;t or @apple @SamsungMobileUS  here I come for a galaxy s5', \"RT @mrushh: hey @apple why is my phone dying when it's on the charger \\r\\nur stuff sucks\", 'RT @shannonmmiller: Love the @Apple is supporting #HourOfCode with workshops! :) http://t.co/WP8D0FNjNu', '@radbarakat @Apple aPPLE SUPPORT HAVE A TWITTER I THINK', \"I'm learning all about Apple iPad mini Smart Cover - Green at @Influenster! @Apple http://t.co/RioO60xsQ1\", \"@Apple's share of UK smartphone sales soared to 39.5% in the 3 months to October thanks to #iPhone6 launch\", 'Hey @panerabread how about you teach your people how to use @apple pay?', '#Win a #New @Apple @iPad Mini 3 with an @iTunes Gift Card! http://t.co/5pZl2WA9sv', 'Stock #Market Today Moving on WMT, #AAPL, and Uber News: Money Morning: The company reported more than 1.5 bil... http://t.co/BQ7JGdBO7k', \"Lol fuck you @apple, if I'm going to pay you my left arm &amp; leg for a product.. make it last for more then a couple months #ShittyChargers\", 'I called Operator @Apple to speak to someone about Corp funding the Frank O Geary baseball stadium in St Pete FL. Shehungup @tim_cook  HELP!', '@Macys Why do I have to sign when making an @Apple Pay transaction?', '#iOS: A visual history http://t.co/Ymt6E0IeFL (via @verge) @Apple #ipaded #edtech', 'RT @toricolelli: My phones been charging for an hour but it keeps losing percentage?? Get ur shit together @apple', \"@allandthompson @Apple Let me just go ahead and get this one out of the way: 'U gonna get a VIRUS &amp; ur whole house will explode!'\", 'Julian Robertson Still Bullish On Apple Inc. http://t.co/TZR1tF5Gv6 #AAPL', \"'@WhoaBiebz: GET YOUR SHIT TOGETHER OR I'LL GUY A SAMSUNG GALAXY S5 @APPLE' http://t.co/LEHpmkxK0a\", 'Those** PICK UP THE SLACK YOU FUCK BOYS @Apple', 'Finally got my iPhone 6 in the mail and it comes out of the box with a busted screen.  Thanks @apple', \"@umo_games @Apple ended up getting a new computer anyhow (work computer) Here's how you can switch between vid cards http://t.co/kuISePVc0o\", 'The 19-Year-Old #WizKid Who Turned Down @Apple Has Nabbed Backing From A #Hollywood Star http://t.co/PoqfGOeVSU', 'The iPhone 6 May Have A Longer Upgrade Cycle - If So, Expect Unit Sales To Fall $AAPL #aapl\\r\\nhttp://t.co/eP1ZksHNqJ']\n"
     ]
    }
   ],
   "source": [
    "document_list=load_data(\"\",\"processed.csv\")\n",
    "print(document_list)"
   ]
  },
  {
   "cell_type": "code",
   "execution_count": 222,
   "metadata": {},
   "outputs": [],
   "source": [
    "# def preprocess_data(doc_set):\n",
    "#     tokenizer = RegexpTokenizer(r'\\w+')\n",
    "#     # Create p_stemmer of class PorterStemmer\n",
    "#     p_stemmer = PorterStemmer()\n",
    "#     # list for tokenized documents in loop\n",
    "#     texts = []\n",
    "#     # loop through document list\n",
    "#     for i in doc_set:\n",
    "#         # clean and tokenize document string\n",
    "#         raw = i.lower()\n",
    "# #         print(raw)\n",
    "        \n",
    "# #         print(raw)\n",
    "#         tokens = tokenizer.tokenize(raw)\n",
    "# #         print(tokens)\n",
    "#         # remove stop words from tokens\n",
    "#         stopped_tokens = [i for i in tokens if not i in stopwords]\n",
    "#         print(stopped_tokens)\n",
    "#         # stem tokens\n",
    "#         stemmed_tokens = [p_stemmer.stem(i) for i in stopped_tokens]\n",
    "#         print(stemmed_tokens)\n",
    "#         # add tokens to list\n",
    "#         texts.append(stemmed_tokens)\n",
    "#         print(texts)\n",
    "#     return texts"
   ]
  },
  {
   "cell_type": "code",
   "execution_count": 223,
   "metadata": {},
   "outputs": [],
   "source": [
    "def preprocess_data(doc_set):\n",
    "    # initialize regex tokenizer\n",
    "    tokenizer = RegexpTokenizer(r'\\w+')\n",
    "    # create English stop words list\n",
    "    en_stop = set(stopwords.words('english'))\n",
    "    # Create p_stemmer of class PorterStemmer\n",
    "    p_stemmer = PorterStemmer()\n",
    "    # list for tokenized documents in loop\n",
    "    texts = []\n",
    "    # loop through document list\n",
    "    for i in doc_set:\n",
    "        # clean and tokenize document string\n",
    "        raw = i.lower()\n",
    "        raw = re.sub(r'http\\S+', '', raw)\n",
    "        raw = re.sub(r\"[^a-zA-Z]\", \" \", raw)\n",
    "        tokens = tokenizer.tokenize(raw)\n",
    "        # remove stop words from tokens\n",
    "        stopped_tokens = [i for i in tokens if not i in en_stop]\n",
    "        # stem tokens\n",
    "        stemmed_tokens = [p_stemmer.stem(i) for i in stopped_tokens]\n",
    "        # add tokens to list\n",
    "        texts.append(stemmed_tokens)\n",
    "    return texts"
   ]
  },
  {
   "cell_type": "code",
   "execution_count": 224,
   "metadata": {},
   "outputs": [],
   "source": [
    "def prepare_corpus(doc_clean):\n",
    "    # Creating the term dictionary of our courpus, where every unique term is assigned an index. dictionary = corpora.Dictionary(doc_clean)\n",
    "    dictionary = corpora.Dictionary(doc_clean)\n",
    "    # Converting list of documents (corpus) into Document Term Matrix using dictionary prepared above.\n",
    "    doc_term_matrix = [dictionary.doc2bow(doc) for doc in doc_clean]\n",
    "    # generate LDA model\n",
    "    return dictionary,doc_term_matrix"
   ]
  },
  {
   "cell_type": "code",
   "execution_count": 225,
   "metadata": {},
   "outputs": [],
   "source": [
    "def create_gensim_lsa_model(doc_clean,number_of_topics,words):\n",
    "    dictionary,doc_term_matrix=prepare_corpus(doc_clean)\n",
    "    # generate LSA model\n",
    "    lsamodel = LsiModel(doc_term_matrix, num_topics=number_of_topics, id2word = dictionary)  # train model\n",
    "    print(lsamodel.print_topics(num_topics=number_of_topics, num_words=words))\n",
    "    return lsamodel"
   ]
  },
  {
   "cell_type": "code",
   "execution_count": 226,
   "metadata": {},
   "outputs": [],
   "source": [
    "def compute_coherence_values(dictionary, doc_term_matrix, doc_clean, stop, start=2, step=3):\n",
    "    coherence_values = []\n",
    "    model_list = []\n",
    "    for num_topics in range(start, stop, step):\n",
    "        # generate LSA model\n",
    "        model = LsiModel(doc_term_matrix, num_topics=number_of_topics, id2word = dictionary)  # train model\n",
    "        model_list.append(model)\n",
    "        coherencemodel = CoherenceModel(model=model, texts=doc_clean, dictionary=dictionary, coherence='c_v')\n",
    "        coherence_values.append(coherencemodel.get_coherence())\n",
    "    return model_list, coherence_values"
   ]
  },
  {
   "cell_type": "code",
   "execution_count": 231,
   "metadata": {},
   "outputs": [],
   "source": [
    "def plot_graph(doc_clean,start, stop, step):\n",
    "    dictionary,doc_term_matrix=prepare_corpus(doc_clean)\n",
    "    model_list, coherence_values = compute_coherence_values(dictionary, doc_term_matrix,doc_clean,\n",
    "                                                            stop, start, step)\n",
    "    # Show graph\n",
    "    x = range(start, stop, step)\n",
    "    plt.plot(x, coherence_values)\n",
    "    plt.legend((\"coherence_values\"), loc='best')\n",
    "    plt.show()"
   ]
  },
  {
   "cell_type": "code",
   "execution_count": 232,
   "metadata": {},
   "outputs": [
    {
     "data": {
      "image/png": "[encoded data removed]",
      "text/plain": [
       "<Figure size 576x396 with 1 Axes>"
      ]
     },
     "metadata": {
      "image/png": {
       "height": 329,
       "width": 487
      }
     },
     "output_type": "display_data"
    }
   ],
   "source": [
    "start,stop,step=2,12,1\n",
    "plot_graph(clean_text,start,stop,step)"
   ]
  },
  {
   "cell_type": "code",
   "execution_count": 229,
   "metadata": {},
   "outputs": [
    {
     "name": "stdout",
     "output_type": "stream",
     "text": [
      "Total Number of Documents: 1630\n",
      "[(0, '-0.916*\"appl\" + -0.265*\"aapl\" + -0.175*\"iphon\" + -0.078*\"rt\" + -0.067*\"fuck\" + -0.057*\"phone\" + -0.044*\"new\" + -0.041*\"get\" + -0.039*\"inc\" + -0.039*\"decemb\"'), (1, '-0.926*\"aapl\" + 0.266*\"appl\" + -0.096*\"inc\" + 0.090*\"fuck\" + -0.080*\"stock\" + 0.072*\"phone\" + -0.049*\"jpdeslog\" + -0.047*\"iphon\" + 0.038*\"shit\" + -0.035*\"price\"'), (2, '0.940*\"iphon\" + -0.149*\"appl\" + 0.110*\"decemb\" + 0.107*\"plu\" + -0.082*\"aapl\" + -0.065*\"inc\" + 0.061*\"rumor\" + -0.046*\"rt\" + -0.043*\"stock\" + 0.035*\"sale\"'), (3, '0.822*\"fuck\" + 0.332*\"phone\" + 0.210*\"shit\" + 0.178*\"rt\" + -0.128*\"appl\" + 0.096*\"u\" + 0.092*\"get\" + 0.089*\"aapl\" + 0.084*\"im\" + -0.075*\"decemb\"'), (4, '-0.910*\"rt\" + 0.231*\"fuck\" + -0.117*\"jpdeslog\" + -0.098*\"get\" + 0.090*\"inc\" + -0.075*\"charger\" + 0.062*\"stock\" + 0.060*\"appl\" + -0.042*\"new\" + -0.041*\"holiday\"')]\n"
     ]
    }
   ],
   "source": [
    "number_of_topics=5\n",
    "words=10\n",
    "document_list=load_data(\"\",\"processed.csv\")\n",
    "clean_text=preprocess_data(document_list)\n",
    "model=create_gensim_lsa_model(clean_text,number_of_topics,words)"
   ]
  },
  {
   "cell_type": "markdown",
   "metadata": {},
   "source": [
    "## (3) (10 points) Compare the results generated by the two topic modeling algorithms, which one is better? You should explain the reasons in details."
   ]
  },
  {
   "cell_type": "markdown",
   "metadata": {},
   "source": [
    "### Write your answer here (no code needed for this question)\n",
    "The methodologies of Latent Semantic Analysis (LSA) and Latent Dirichlet Allocation (LDA) are useful for dealing with NLP \n",
    "issues. The input for both LSA and LDA is the same: a bag of words in matrix format. LSA is concerned with lowering matrix \n",
    "dimension, whereas LDA is concerned with solving topic modelling difficulties.\n",
    "We can easily seen the difference in the output of both LSA and LDA. \n",
    "LSA is better then LDA in terms of simplicity, speed, and accuracy. The simplest way is the LSA algorithm, which is straightforward to learn and apply. In comparison to the vector space model, it also produces superior outcomes. Because it simply includes document term matrix decomposition, it is quicker than other current techniques. In LSA term-frequency and inverse document frequency is used. The primary idea behind Tf/IDF in Latent Semantic Analysis is to supply each word count and frequency of uncommon words in order to assign weights based on their rarity. TF/IDF is better to traditional counting of occurrence of the word since it merely counts the frequency without categorization. "
   ]
  }
 ],
 "metadata": {
  "kernelspec": {
   "display_name": "Python 3 (ipykernel)",
   "language": "python",
   "name": "python3"
  },
  "language_info": {
   "codemirror_mode": {
    "name": "ipython",
    "version": 3
   },
   "file_extension": ".py",
   "mimetype": "text/x-python",
   "name": "python",
   "nbconvert_exporter": "python",
   "pygments_lexer": "ipython3",
   "version": "3.8.8"
  }
 },
 "nbformat": 4,
 "nbformat_minor": 2
}
