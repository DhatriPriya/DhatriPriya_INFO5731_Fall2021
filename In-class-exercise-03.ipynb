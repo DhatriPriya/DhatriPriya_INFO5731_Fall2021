{
 "cells": [
  {
   "cell_type": "markdown",
   "metadata": {},
   "source": [
    "## The third In-class-exercise (9/29/2021, 40 points in total)"
   ]
  },
  {
   "cell_type": "markdown",
   "metadata": {},
   "source": [
    "The purpose of this exercise is to understand text representation."
   ]
  },
  {
   "cell_type": "markdown",
   "metadata": {},
   "source": [
    "#### Question 1 (10 points): Describe an interesting text classification or text mining task and explain what kind of features might be useful for you to build the machine learning model. List your features and explain why these features might be helpful. You need to list at least five different types of features."
   ]
  },
  {
   "cell_type": "code",
   "execution_count": 94,
   "metadata": {},
   "outputs": [
    {
     "data": {
      "text/plain": [
       "'\\nPlease write you answer here:\\n\\nText Classification and sentiment analysis is a very common machine learning problem and is used in a lot of activities like \\nproduct predictions, movie recommendations, customer care and several others. \\nIn this exercise i am doing text classification on tweets data. The tweets dataset is about apple company. We will do text analysis \\ntask and extract features from the text data.\\n\\nFeatures:\\nThe features that might be useful are given below:\\n1. Finding the character length for each sentiment.\\n2. Word count. We can use this feature in sentiment analysis.\\n3. Average chacter length per word.\\n4. Special characters count.\\n5. Number Counts.\\n\\nThese are some of the features that are useful in sentiment analysis.\\n'"
      ]
     },
     "execution_count": 94,
     "metadata": {},
     "output_type": "execute_result"
    }
   ],
   "source": [
    "# Your answer here (no code for this question, write down your answer as detail as possible for the above questions):\n",
    "\n",
    "'''\n",
    "Please write you answer here:\n",
    "\n",
    "Text Classification and sentiment analysis is a very common machine learning problem and is used in a lot of activities like \n",
    "product predictions, movie recommendations, customer care and several others. \n",
    "In this exercise i am doing text classification on tweets data. The tweets dataset is about apple company. We will do text analysis \n",
    "task and extract features from the text data.\n",
    "\n",
    "Features:\n",
    "The features that might be useful are given below:\n",
    "1. Finding the character length for each sentiment.\n",
    "2. Word count. We can use this feature in sentiment analysis.\n",
    "3. Average chacter length per word.\n",
    "4. Special characters count.\n",
    "5. Number Counts.\n",
    "\n",
    "These are some of the features that are useful in sentiment analysis.\n",
    "'''"
   ]
  },
  {
   "cell_type": "markdown",
   "metadata": {},
   "source": [
    "### Question 2 (20 points): Write python code to extract these features you discussed above. You can collect a few sample text data for the feature extraction. "
   ]
  },
  {
   "cell_type": "code",
   "execution_count": 95,
   "metadata": {},
   "outputs": [],
   "source": [
    "# You code here (Please add comments in the code):\n",
    "\n",
    "#importing libraries and required modules\n",
    "import pandas as pd\n",
    "import matplotlib.pyplot as plt\n",
    "import re\n",
    "import numpy as np \n",
    "import matplotlib.pyplot as plt \n",
    "import seaborn as sns\n",
    "import string\n",
    "import nltk\n",
    "import warnings \n",
    "%matplotlib inline\n",
    "warnings.filterwarnings(\"ignore\", category=DeprecationWarning)\n",
    "from nltk.corpus import stopwords\n",
    "stop = stopwords.words('english')"
   ]
  },
  {
   "cell_type": "code",
   "execution_count": 96,
   "metadata": {},
   "outputs": [
    {
     "name": "stdout",
     "output_type": "stream",
     "text": [
      "(1630, 2)\n"
     ]
    },
    {
     "data": {
      "text/html": [
       "<div>\n",
       "<style scoped>\n",
       "    .dataframe tbody tr th:only-of-type {\n",
       "        vertical-align: middle;\n",
       "    }\n",
       "\n",
       "    .dataframe tbody tr th {\n",
       "        vertical-align: top;\n",
       "    }\n",
       "\n",
       "    .dataframe thead th {\n",
       "        text-align: right;\n",
       "    }\n",
       "</style>\n",
       "<table border=\"1\" class=\"dataframe\">\n",
       "  <thead>\n",
       "    <tr style=\"text-align: right;\">\n",
       "      <th></th>\n",
       "      <th>text</th>\n",
       "      <th>sentiment</th>\n",
       "      <th>result</th>\n",
       "    </tr>\n",
       "  </thead>\n",
       "  <tbody>\n",
       "    <tr>\n",
       "      <th>0</th>\n",
       "      <td>Wow. Yall needa step it up @Apple RT @heynyla:...</td>\n",
       "      <td>-1</td>\n",
       "      <td>Negative</td>\n",
       "    </tr>\n",
       "    <tr>\n",
       "      <th>1</th>\n",
       "      <td>What Happened To Apple Inc?   http://t.co/FJEX...</td>\n",
       "      <td>0</td>\n",
       "      <td>Neutral</td>\n",
       "    </tr>\n",
       "    <tr>\n",
       "      <th>2</th>\n",
       "      <td>Thank u @apple I can now compile all of the pi...</td>\n",
       "      <td>1</td>\n",
       "      <td>Positive</td>\n",
       "    </tr>\n",
       "    <tr>\n",
       "      <th>3</th>\n",
       "      <td>The oddly uplifting story of the Apple co-foun...</td>\n",
       "      <td>0</td>\n",
       "      <td>Neutral</td>\n",
       "    </tr>\n",
       "    <tr>\n",
       "      <th>4</th>\n",
       "      <td>@apple can i exchange my iphone for a differen...</td>\n",
       "      <td>0</td>\n",
       "      <td>Neutral</td>\n",
       "    </tr>\n",
       "  </tbody>\n",
       "</table>\n",
       "</div>"
      ],
      "text/plain": [
       "                                                text  sentiment    result\n",
       "0  Wow. Yall needa step it up @Apple RT @heynyla:...         -1  Negative\n",
       "1  What Happened To Apple Inc?   http://t.co/FJEX...          0   Neutral\n",
       "2  Thank u @apple I can now compile all of the pi...          1  Positive\n",
       "3  The oddly uplifting story of the Apple co-foun...          0   Neutral\n",
       "4  @apple can i exchange my iphone for a differen...          0   Neutral"
      ]
     },
     "execution_count": 96,
     "metadata": {},
     "output_type": "execute_result"
    }
   ],
   "source": [
    "#importing dataset\n",
    "df = pd.read_csv('apple-twitter-sentiment-texts.csv')\n",
    "print(df.shape)\n",
    "df.head(5)\n",
    "\n",
    "#lableing the dataset on average\n",
    "conditions = [\n",
    "    (df['sentiment'] == -1), # -1 means negaive result\n",
    "    (df['sentiment'] == 0), # 0 means neutral result\n",
    "    (df['sentiment'] == 1), # 1 means possitive result\n",
    "]\n",
    "\n",
    "# create a list of the values we want to assign for each condition\n",
    "values = ['Negative', 'Neutral', 'Positive']\n",
    "\n",
    "df['result'] = np.select(conditions, values)\n",
    "\n",
    "df.head()"
   ]
  },
  {
   "cell_type": "code",
   "execution_count": 97,
   "metadata": {},
   "outputs": [
    {
     "data": {
      "text/plain": [
       "result\n",
       "Negative    686\n",
       "Neutral     801\n",
       "Positive    143\n",
       "Name: text, dtype: int64"
      ]
     },
     "execution_count": 97,
     "metadata": {},
     "output_type": "execute_result"
    }
   ],
   "source": [
    "df.groupby('result')['text'].count() #count the negative, possitive and neutral result and groupby on result"
   ]
  },
  {
   "cell_type": "code",
   "execution_count": 98,
   "metadata": {},
   "outputs": [
    {
     "data": {
      "text/plain": [
       "result\n",
       "Negative   -1\n",
       "Neutral     0\n",
       "Positive    1\n",
       "Name: sentiment, dtype: int64"
      ]
     },
     "execution_count": 98,
     "metadata": {},
     "output_type": "execute_result"
    }
   ],
   "source": [
    "df.groupby('result')['sentiment'].mean() "
   ]
  },
  {
   "cell_type": "code",
   "execution_count": 100,
   "metadata": {},
   "outputs": [
    {
     "name": "stdout",
     "output_type": "stream",
     "text": [
      "result\n",
      "Negative    91.062682\n",
      "Neutral     98.446941\n",
      "Positive    98.475524\n",
      "Name: character_cnt, dtype: float64\n",
      "                                                text  sentiment    result  \\\n",
      "0  Wow. Yall needa step it up @Apple RT @heynyla:...         -1  Negative   \n",
      "1  What Happened To Apple Inc?   http://t.co/FJEX...          0   Neutral   \n",
      "2  Thank u @apple I can now compile all of the pi...          1  Positive   \n",
      "3  The oddly uplifting story of the Apple co-foun...          0   Neutral   \n",
      "4  @apple can i exchange my iphone for a differen...          0   Neutral   \n",
      "\n",
      "   character_cnt  \n",
      "0            105  \n",
      "1            101  \n",
      "2            108  \n",
      "3            115  \n",
      "4             77  \n"
     ]
    }
   ],
   "source": [
    "df['character_cnt'] = df['text'].str.len()\n",
    "print(df.groupby('result')['character_cnt'].mean())\n",
    "print(df.head())"
   ]
  },
  {
   "cell_type": "code",
   "execution_count": 101,
   "metadata": {},
   "outputs": [
    {
     "name": "stdout",
     "output_type": "stream",
     "text": [
      "result\n",
      "Negative    15.787172\n",
      "Neutral     13.377029\n",
      "Positive    14.846154\n",
      "Name: word_counts, dtype: float64\n",
      "                                                text  sentiment    result  \\\n",
      "0  Wow. Yall needa step it up @Apple RT @heynyla:...         -1  Negative   \n",
      "1  What Happened To Apple Inc?   http://t.co/FJEX...          0   Neutral   \n",
      "2  Thank u @apple I can now compile all of the pi...          1  Positive   \n",
      "3  The oddly uplifting story of the Apple co-foun...          0   Neutral   \n",
      "4  @apple can i exchange my iphone for a differen...          0   Neutral   \n",
      "\n",
      "   character_cnt  word_counts  \n",
      "0            105           20  \n",
      "1            101           10  \n",
      "2            108           19  \n",
      "3            115           17  \n",
      "4             77           15  \n"
     ]
    }
   ],
   "source": [
    "df['word_counts'] = df['text'].str.split().str.len()\n",
    "print(df.groupby('result')['word_counts'].mean())\n",
    "print(df.head())"
   ]
  },
  {
   "cell_type": "code",
   "execution_count": 102,
   "metadata": {},
   "outputs": [
    {
     "name": "stdout",
     "output_type": "stream",
     "text": [
      "result\n",
      "Negative    5.884512\n",
      "Neutral     7.544972\n",
      "Positive    6.865807\n",
      "Name: characters_per_word, dtype: float64\n",
      "                                                text  sentiment    result  \\\n",
      "0  Wow. Yall needa step it up @Apple RT @heynyla:...         -1  Negative   \n",
      "1  What Happened To Apple Inc?   http://t.co/FJEX...          0   Neutral   \n",
      "2  Thank u @apple I can now compile all of the pi...          1  Positive   \n",
      "3  The oddly uplifting story of the Apple co-foun...          0   Neutral   \n",
      "4  @apple can i exchange my iphone for a differen...          0   Neutral   \n",
      "\n",
      "   character_cnt  word_counts  characters_per_word  \n",
      "0            105           20             5.250000  \n",
      "1            101           10            10.100000  \n",
      "2            108           19             5.684211  \n",
      "3            115           17             6.764706  \n",
      "4             77           15             5.133333  \n"
     ]
    }
   ],
   "source": [
    "df['characters_per_word'] = df['character_cnt']/df['word_counts']\n",
    "print(df.groupby('result')['characters_per_word'].mean())\n",
    "print(df.head())\n"
   ]
  },
  {
   "cell_type": "code",
   "execution_count": 103,
   "metadata": {},
   "outputs": [
    {
     "data": {
      "text/html": [
       "<div>\n",
       "<style scoped>\n",
       "    .dataframe tbody tr th:only-of-type {\n",
       "        vertical-align: middle;\n",
       "    }\n",
       "\n",
       "    .dataframe tbody tr th {\n",
       "        vertical-align: top;\n",
       "    }\n",
       "\n",
       "    .dataframe thead th {\n",
       "        text-align: right;\n",
       "    }\n",
       "</style>\n",
       "<table border=\"1\" class=\"dataframe\">\n",
       "  <thead>\n",
       "    <tr style=\"text-align: right;\">\n",
       "      <th></th>\n",
       "      <th>text</th>\n",
       "      <th>special_characters</th>\n",
       "    </tr>\n",
       "  </thead>\n",
       "  <tbody>\n",
       "    <tr>\n",
       "      <th>0</th>\n",
       "      <td>Wow. Yall needa step it up @Apple RT @heynyla:...</td>\n",
       "      <td>2</td>\n",
       "    </tr>\n",
       "    <tr>\n",
       "      <th>1</th>\n",
       "      <td>What Happened To Apple Inc?   http://t.co/FJEX...</td>\n",
       "      <td>1</td>\n",
       "    </tr>\n",
       "    <tr>\n",
       "      <th>2</th>\n",
       "      <td>Thank u @apple I can now compile all of the pi...</td>\n",
       "      <td>1</td>\n",
       "    </tr>\n",
       "    <tr>\n",
       "      <th>3</th>\n",
       "      <td>The oddly uplifting story of the Apple co-foun...</td>\n",
       "      <td>0</td>\n",
       "    </tr>\n",
       "    <tr>\n",
       "      <th>4</th>\n",
       "      <td>@apple can i exchange my iphone for a differen...</td>\n",
       "      <td>1</td>\n",
       "    </tr>\n",
       "  </tbody>\n",
       "</table>\n",
       "</div>"
      ],
      "text/plain": [
       "                                                text  special_characters\n",
       "0  Wow. Yall needa step it up @Apple RT @heynyla:...                   2\n",
       "1  What Happened To Apple Inc?   http://t.co/FJEX...                   1\n",
       "2  Thank u @apple I can now compile all of the pi...                   1\n",
       "3  The oddly uplifting story of the Apple co-foun...                   0\n",
       "4  @apple can i exchange my iphone for a differen...                   1"
      ]
     },
     "execution_count": 103,
     "metadata": {},
     "output_type": "execute_result"
    }
   ],
   "source": [
    "df['special_characters'] = df['text'].apply(lambda x: len([x for x in x.split() if x.startswith('@')]))\n",
    "# print(df.head())\n",
    "df[['text','special_characters']].head()"
   ]
  },
  {
   "cell_type": "code",
   "execution_count": 104,
   "metadata": {},
   "outputs": [
    {
     "name": "stdout",
     "output_type": "stream",
     "text": [
      "result\n",
      "Negative    0.153061\n",
      "Neutral     0.205993\n",
      "Positive    0.181818\n",
      "Name: num, dtype: float64\n",
      "                                                text  sentiment    result  \\\n",
      "0  Wow. Yall needa step it up @Apple RT @heynyla:...         -1  Negative   \n",
      "1  What Happened To Apple Inc?   http://t.co/FJEX...          0   Neutral   \n",
      "2  Thank u @apple I can now compile all of the pi...          1  Positive   \n",
      "3  The oddly uplifting story of the Apple co-foun...          0   Neutral   \n",
      "4  @apple can i exchange my iphone for a differen...          0   Neutral   \n",
      "\n",
      "   character_cnt  word_counts  characters_per_word  special_characters  num  \n",
      "0            105           20             5.250000                   2    0  \n",
      "1            101           10            10.100000                   1    0  \n",
      "2            108           19             5.684211                   1    0  \n",
      "3            115           17             6.764706                   0    0  \n",
      "4             77           15             5.133333                   1    0  \n"
     ]
    }
   ],
   "source": [
    "df['num'] = df['text'].apply(lambda x: len([x for x in x.split() if x.isdigit()]))\n",
    "print(df.groupby('result')['num'].mean())\n",
    "print(df.head())"
   ]
  },
  {
   "cell_type": "code",
   "execution_count": 106,
   "metadata": {},
   "outputs": [],
   "source": [
    "df['processedtext'] = df['text'].str.replace('[^\\w\\s]','',regex=True) \n",
    "df['processedtext'] = df['processedtext'].apply(lambda x: \" \".join(x for x in x.split() if x not in stop))\n",
    "df['processedtext'] = df['processedtext'].apply(lambda x: \" \".join(x.lower() for x in x.split()))\n",
    "\n",
    "#Lines 4 to 6\n",
    "from nltk.stem import PorterStemmer\n",
    "stemmer = PorterStemmer()\n",
    "df['processedtext'] = df['processedtext'].apply(lambda x: \" \".join([stemmer.stem(word) for word in x.split()]))\n",
    "\n",
    "df[['character_cnt','word_counts','characters_per_word', 'special_characters', 'num', 'processedtext']].head()\n",
    "df = df[['text', 'sentiment','character_cnt','word_counts','characters_per_word','special_characters','num','result']]\n",
    "df.to_csv('processed.csv', index=False)"
   ]
  },
  {
   "cell_type": "markdown",
   "metadata": {},
   "source": [
    "#### Question 3 (10 points): Use any of the feature selection methods mentioned in this paper \"Deng, X., Li, Y., Weng, J., & Zhang, J. (2019). Feature selection for text classification: A review. Multimedia Tools & Applications, 78(3).\" Select the most important features you extracted above, rank the features based on their importance in the descending order. "
   ]
  },
  {
   "cell_type": "raw",
   "metadata": {},
   "source": [
    "Answer: Chi-square test is used as a feature selection method. In feature selection, we aim to select the features which are highly dependent on the response. When two features are independent, the observed count is close to the expected count, thus we will have smaller Chi-Square value. So high Chi-Square value indicates that the hypothesis of independence is incorrect."
   ]
  },
  {
   "cell_type": "code",
   "execution_count": 107,
   "metadata": {},
   "outputs": [
    {
     "name": "stderr",
     "output_type": "stream",
     "text": [
      "<ipython-input-107-090687eaea6d>:8: SettingWithCopyWarning: \n",
      "A value is trying to be set on a copy of a slice from a DataFrame.\n",
      "Try using .loc[row_indexer,col_indexer] = value instead\n",
      "\n",
      "See the caveats in the documentation: https://pandas.pydata.org/pandas-docs/stable/user_guide/indexing.html#returning-a-view-versus-a-copy\n",
      "  df['text'] = label_encoder.fit_transform(df['text'])\n",
      "<ipython-input-107-090687eaea6d>:9: SettingWithCopyWarning: \n",
      "A value is trying to be set on a copy of a slice from a DataFrame.\n",
      "Try using .loc[row_indexer,col_indexer] = value instead\n",
      "\n",
      "See the caveats in the documentation: https://pandas.pydata.org/pandas-docs/stable/user_guide/indexing.html#returning-a-view-versus-a-copy\n",
      "  df['result'] = label_encoder.fit_transform(df['result'])\n",
      "<ipython-input-107-090687eaea6d>:10: SettingWithCopyWarning: \n",
      "A value is trying to be set on a copy of a slice from a DataFrame.\n",
      "Try using .loc[row_indexer,col_indexer] = value instead\n",
      "\n",
      "See the caveats in the documentation: https://pandas.pydata.org/pandas-docs/stable/user_guide/indexing.html#returning-a-view-versus-a-copy\n",
      "  df['sentiment'] = label_encoder.fit_transform(df['sentiment'])\n"
     ]
    }
   ],
   "source": [
    "import numpy as numpy\n",
    "import pandas as pd\n",
    "import seaborn as sns\n",
    "from sklearn.preprocessing import LabelEncoder\n",
    "\n",
    "\n",
    "label_encoder = LabelEncoder()\n",
    "df['text'] = label_encoder.fit_transform(df['text'])\n",
    "df['result'] = label_encoder.fit_transform(df['result'])\n",
    "df['sentiment'] = label_encoder.fit_transform(df['sentiment'])"
   ]
  },
  {
   "cell_type": "code",
   "execution_count": 108,
   "metadata": {},
   "outputs": [
    {
     "data": {
      "text/html": [
       "<div>\n",
       "<style scoped>\n",
       "    .dataframe tbody tr th:only-of-type {\n",
       "        vertical-align: middle;\n",
       "    }\n",
       "\n",
       "    .dataframe tbody tr th {\n",
       "        vertical-align: top;\n",
       "    }\n",
       "\n",
       "    .dataframe thead th {\n",
       "        text-align: right;\n",
       "    }\n",
       "</style>\n",
       "<table border=\"1\" class=\"dataframe\">\n",
       "  <thead>\n",
       "    <tr style=\"text-align: right;\">\n",
       "      <th></th>\n",
       "      <th>text</th>\n",
       "      <th>sentiment</th>\n",
       "      <th>character_cnt</th>\n",
       "      <th>word_counts</th>\n",
       "      <th>characters_per_word</th>\n",
       "      <th>special_characters</th>\n",
       "      <th>num</th>\n",
       "      <th>result</th>\n",
       "    </tr>\n",
       "  </thead>\n",
       "  <tbody>\n",
       "    <tr>\n",
       "      <th>0</th>\n",
       "      <td>1483</td>\n",
       "      <td>0</td>\n",
       "      <td>105</td>\n",
       "      <td>20</td>\n",
       "      <td>5.250000</td>\n",
       "      <td>2</td>\n",
       "      <td>0</td>\n",
       "      <td>0</td>\n",
       "    </tr>\n",
       "    <tr>\n",
       "      <th>1</th>\n",
       "      <td>1442</td>\n",
       "      <td>1</td>\n",
       "      <td>101</td>\n",
       "      <td>10</td>\n",
       "      <td>10.100000</td>\n",
       "      <td>1</td>\n",
       "      <td>0</td>\n",
       "      <td>1</td>\n",
       "    </tr>\n",
       "    <tr>\n",
       "      <th>2</th>\n",
       "      <td>1347</td>\n",
       "      <td>2</td>\n",
       "      <td>108</td>\n",
       "      <td>19</td>\n",
       "      <td>5.684211</td>\n",
       "      <td>1</td>\n",
       "      <td>0</td>\n",
       "      <td>2</td>\n",
       "    </tr>\n",
       "    <tr>\n",
       "      <th>3</th>\n",
       "      <td>1377</td>\n",
       "      <td>1</td>\n",
       "      <td>115</td>\n",
       "      <td>17</td>\n",
       "      <td>6.764706</td>\n",
       "      <td>0</td>\n",
       "      <td>0</td>\n",
       "      <td>1</td>\n",
       "    </tr>\n",
       "    <tr>\n",
       "      <th>4</th>\n",
       "      <td>422</td>\n",
       "      <td>1</td>\n",
       "      <td>77</td>\n",
       "      <td>15</td>\n",
       "      <td>5.133333</td>\n",
       "      <td>1</td>\n",
       "      <td>0</td>\n",
       "      <td>1</td>\n",
       "    </tr>\n",
       "  </tbody>\n",
       "</table>\n",
       "</div>"
      ],
      "text/plain": [
       "   text  sentiment  character_cnt  word_counts  characters_per_word  \\\n",
       "0  1483          0            105           20             5.250000   \n",
       "1  1442          1            101           10            10.100000   \n",
       "2  1347          2            108           19             5.684211   \n",
       "3  1377          1            115           17             6.764706   \n",
       "4   422          1             77           15             5.133333   \n",
       "\n",
       "   special_characters  num  result  \n",
       "0                   2    0       0  \n",
       "1                   1    0       1  \n",
       "2                   1    0       2  \n",
       "3                   0    0       1  \n",
       "4                   1    0       1  "
      ]
     },
     "execution_count": 108,
     "metadata": {},
     "output_type": "execute_result"
    }
   ],
   "source": [
    "df.head()"
   ]
  },
  {
   "cell_type": "code",
   "execution_count": 109,
   "metadata": {},
   "outputs": [],
   "source": [
    "from sklearn.feature_selection import chi2\n",
    "\n",
    "\n",
    "X = df.drop('result',axis=1)\n",
    "y = df['result']\n",
    "\n",
    "chi_scores = chi2(X,y)"
   ]
  },
  {
   "cell_type": "code",
   "execution_count": 110,
   "metadata": {},
   "outputs": [
    {
     "data": {
      "text/plain": [
       "(array([1.22639963e+04, 9.71868445e+02, 2.27483831e+02, 1.48974898e+02,\n",
       "        1.50269797e+02, 2.15228496e+01, 5.70124497e+00]),\n",
       " array([0.00000000e+000, 9.15057834e-212, 4.00418205e-050, 4.47210466e-033,\n",
       "        2.34060536e-033, 2.12017930e-005, 5.78083250e-002]))"
      ]
     },
     "execution_count": 110,
     "metadata": {},
     "output_type": "execute_result"
    }
   ],
   "source": [
    "chi_scores"
   ]
  },
  {
   "cell_type": "code",
   "execution_count": 111,
   "metadata": {},
   "outputs": [],
   "source": [
    "p_values = pd.Series(chi_scores[1],index = X.columns)\n",
    "p_values.sort_values(ascending = False , inplace = True)"
   ]
  },
  {
   "cell_type": "code",
   "execution_count": 112,
   "metadata": {},
   "outputs": [
    {
     "data": {
      "text/plain": [
       "<AxesSubplot:>"
      ]
     },
     "execution_count": 112,
     "metadata": {},
     "output_type": "execute_result"
    },
    {
     "data": {
      "image/png": "[encoded data removed]",
      "text/plain": [
       "<Figure size 432x288 with 1 Axes>"
      ]
     },
     "metadata": {
      "needs_background": "light"
     },
     "output_type": "display_data"
    }
   ],
   "source": [
    "p_values.plot.bar()"
   ]
  },
  {
   "cell_type": "raw",
   "metadata": {},
   "source": [
    "feature num is the most important feature among all other features.\n",
    "\n",
    "Rank:\n",
    "1. num\n",
    "2. special_characters\n",
    "3. word_counts\n",
    "4. average per word\n",
    "5. character count"
   ]
  }
 ],
 "metadata": {
  "kernelspec": {
   "display_name": "Python 3",
   "language": "python",
   "name": "python3"
  },
  "language_info": {
   "codemirror_mode": {
    "name": "ipython",
    "version": 3
   },
   "file_extension": ".py",
   "mimetype": "text/x-python",
   "name": "python",
   "nbconvert_exporter": "python",
   "pygments_lexer": "ipython3",
   "version": "3.8.8"
  }
 },
 "nbformat": 4,
 "nbformat_minor": 2
}
