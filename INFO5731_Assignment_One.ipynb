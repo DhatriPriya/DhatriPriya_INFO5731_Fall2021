{
  "nbformat": 4,
  "nbformat_minor": 0,
  "metadata": {
    "colab": {
      "name": "INFO5731_Assignment_One.ipynb",
      "provenance": [],
      "collapsed_sections": [],
      "include_colab_link": true
    },
    "kernelspec": {
      "display_name": "Python 3",
      "language": "python",
      "name": "python3"
    },
    "language_info": {
      "codemirror_mode": {
        "name": "ipython",
        "version": 3
      },
      "file_extension": ".py",
      "mimetype": "text/x-python",
      "name": "python",
      "nbconvert_exporter": "python",
      "pygments_lexer": "ipython3",
      "version": "3.8.8"
    }
  },
  "cells": [
    {
      "cell_type": "markdown",
      "metadata": {
        "id": "view-in-github",
        "colab_type": "text"
      },
      "source": [
        "<a href=\"https://colab.research.google.com/github/DhatriPriya/DhatriPriya_INFO5731_Fall2021/blob/main/INFO5731_Assignment_One.ipynb\" target=\"_parent\"><img src=\"https://colab.research.google.com/assets/colab-badge.svg\" alt=\"Open In Colab\"/></a>"
      ]
    },
    {
      "cell_type": "markdown",
      "metadata": {
        "id": "Ryk8D1Q4Wsrp"
      },
      "source": [
        "# **INFO5731 Assignment One**"
      ]
    },
    {
      "cell_type": "markdown",
      "metadata": {
        "id": "90_NR8c5XGWc"
      },
      "source": [
        "# Question 1\n",
        "\n",
        "(20 points). Write a Python program to generate 12 random numbers between 1 and 100. Sort the list of numbers in ascending order and print it out. Sort the list of numbers in descending order and print it out. Calculate the average for the group and print it out."
      ]
    },
    {
      "cell_type": "code",
      "metadata": {
        "colab": {
          "base_uri": "https://localhost:8080/"
        },
        "id": "5QX6bJjGWXY9",
        "outputId": "b575aa12-ce2d-4854-b0f1-1da16415c89c"
      },
      "source": [
        "# Your code here\n",
        "import random as rn\n",
        "\n",
        "myList = []\n",
        "\n",
        "for i in range(0,12):\n",
        "    x = rn.randint(1,100)\n",
        "    myList.append(x)\n",
        "    \n",
        "print('List of 12 random integers between 1 and 100\\n')\n",
        "print(myList)\n",
        "\n",
        "print('\\nSorted list in ascending order\\n')\n",
        "asc_sort = sorted(myList)\n",
        "print(asc_sort)\n",
        "\n",
        "print('\\nSorted list in descending order\\n')\n",
        "desc_sort = sorted(myList,reverse=True)\n",
        "print(desc_sort)\n",
        "\n",
        "print('\\nAverage of List\\n')\n",
        "avg_grp = sum(myList)/len(myList)\n",
        "print(avg_grp)"
      ],
      "execution_count": 1,
      "outputs": [
        {
          "output_type": "stream",
          "name": "stdout",
          "text": [
            "List of 12 random integers between 1 and 100\n",
            "\n",
            "[22, 48, 78, 98, 73, 77, 33, 80, 15, 71, 35, 97]\n",
            "\n",
            "Sorted list in ascending order\n",
            "\n",
            "[15, 22, 33, 35, 48, 71, 73, 77, 78, 80, 97, 98]\n",
            "\n",
            "Sorted list in descending order\n",
            "\n",
            "[98, 97, 80, 78, 77, 73, 71, 48, 35, 33, 22, 15]\n",
            "\n",
            "Average of List\n",
            "\n",
            "60.583333333333336\n"
          ]
        }
      ]
    },
    {
      "cell_type": "markdown",
      "metadata": {
        "id": "1F_PZdH9Sh49"
      },
      "source": [
        "# Question 2\n",
        "(25 points). Write a program that will do the following string formatting tasks:\n",
        "\n",
        "(1) Ask the user to enter two sentences.\n",
        "\n",
        "(2) Make each sentence into a list. Each element in the list should correspond to a word in the sentence. For example, if the sentence is \"Alas! Am I alive? This is my first python program\", the program should print out ['Alas, '!', 'Am', 'I', 'alive, '?', 'This', 'is', 'my', 'first', 'python', 'program'].\n",
        "\n",
        "(3) Compare the two sentences. Print out a list of words that occur in both sentences.\n",
        "\n",
        "(4) Remove any punctuation from the sentence and print it back out. It should remove at least the following characters, but it can remove more: period(“.”), comma (“,”), semicolon (“;”), and colon (“:”)\n",
        "\n",
        "(5) Count the number of vowels in the sentences. Print out each vowel and the number of times it appears in the sentences, such as: a:2, e:1, i:0, etc"
      ]
    },
    {
      "cell_type": "code",
      "metadata": {
        "colab": {
          "base_uri": "https://localhost:8080/"
        },
        "id": "Y0oOSlsOS0cq",
        "outputId": "b7a21ef0-9aef-40cf-b592-4b516efbed74"
      },
      "source": [
        "# Your code here\n",
        "import re \n",
        "import string\n",
        "\n",
        "#getting two sentences from user\n",
        "sent1 = input('Enter sentence 1: ')\n",
        "sent2 = input('Enter sentence 2: ')\n",
        "\n",
        "#Making list of words from sentences\n",
        "sentList1 = re.findall(r\"[\\w']+|[.,!?;:]\", sent1)\n",
        "sentList2 = re.findall(r\"[\\w']+|[.,!?;:]\", sent2)\n",
        "\n",
        "#printing lists\n",
        "print('Elements in the list containing words in the sentence\\n')\n",
        "print(sentList1)\n",
        "print(sentList2)\n",
        "\n",
        "\n",
        "#finding common words\n",
        "common_words = []\n",
        "for word1 in sentList1:\n",
        "    for word2 in sentList2:\n",
        "        if word1.lower() == word2.lower():\n",
        "            common_words.append(word1)\n",
        "            \n",
        "print('\\nCommon Words List\\n')\n",
        "print(common_words)\n",
        "\n",
        "remove_punc_words = []\n",
        "\n",
        "for word1 in sentList1:\n",
        "    for word2 in sentList2:\n",
        "        if word1.lower()==word2.lower() and word1 not in string.punctuation:\n",
        "            remove_punc_words.append(word1)\n",
        "print('\\nRemoved Puncatuation from List\\n')\n",
        "print(remove_punc_words)\n",
        "\n",
        "vowels = {'a':0, 'e':0, 'i':0, 'o':0, 'u':0}\n",
        "for letter in sent1:\n",
        "    if letter.lower() in vowels:\n",
        "        vowels[letter.lower()] += 1\n",
        "\n",
        "print(\"\\nFrequency in senetence 1\",vowels)\n",
        "\n",
        "vowels = {'a':0, 'e':0, 'i':0, 'o':0, 'u':0}\n",
        "for letter in sent2:\n",
        "    if letter.lower() in vowels:\n",
        "        vowels[letter.lower()] += 1\n",
        "\n",
        "print(\"\\nFrequency in senetence 2\",vowels)"
      ],
      "execution_count": 2,
      "outputs": [
        {
          "output_type": "stream",
          "name": "stdout",
          "text": [
            "Enter sentence 1: Alas! Am I alive? This is my first program.\n",
            "Enter sentence 2: This is my second program?\n",
            "Elements in the list containing words in the sentence\n",
            "\n",
            "['Alas', '!', 'Am', 'I', 'alive', '?', 'This', 'is', 'my', 'first', 'program', '.']\n",
            "['This', 'is', 'my', 'second', 'program', '?']\n",
            "\n",
            "Common Words List\n",
            "\n",
            "['?', 'This', 'is', 'my', 'program']\n",
            "\n",
            "Removed Puncatuation from List\n",
            "\n",
            "['This', 'is', 'my', 'program']\n",
            "\n",
            "Frequency in senetence 1 {'a': 5, 'e': 1, 'i': 5, 'o': 1, 'u': 0}\n",
            "\n",
            "Frequency in senetence 2 {'a': 1, 'e': 1, 'i': 2, 'o': 2, 'u': 0}\n"
          ]
        }
      ]
    },
    {
      "cell_type": "markdown",
      "metadata": {
        "id": "CmFoI4jDS9nx"
      },
      "source": [
        "# Question 3 \n",
        "\n",
        "(15 points). The formula that describes the volume V of a sphere with radius r is the following:\n",
        "\n",
        "$ V=\\frac{4}{3}\\ast\\ \\pi\\ast\\ r^3 $\n",
        "\n",
        "Write a program to calculate the value of V when r is in the range of 1–10. Output the result in the following format:\n",
        "\n",
        "\tr\tV\n",
        "\t1\t…\n",
        "\t2\t…\n",
        "\t3\t…\n"
      ]
    },
    {
      "cell_type": "code",
      "metadata": {
        "colab": {
          "base_uri": "https://localhost:8080/"
        },
        "id": "pEyqeioAT95b",
        "outputId": "cd4e1e6c-a83a-4e16-ebca-5a4195586f39"
      },
      "source": [
        "# Your code here\n",
        "print('r\\tV')\n",
        "for r in range(1,11):\n",
        "    V = 0\n",
        "    V = (4/3)*(3.14)*(r*r*r)\n",
        "    \n",
        "    print(r,'\\t',V)"
      ],
      "execution_count": 3,
      "outputs": [
        {
          "output_type": "stream",
          "name": "stdout",
          "text": [
            "r\tV\n",
            "1 \t 4.1866666666666665\n",
            "2 \t 33.49333333333333\n",
            "3 \t 113.03999999999999\n",
            "4 \t 267.94666666666666\n",
            "5 \t 523.3333333333334\n",
            "6 \t 904.3199999999999\n",
            "7 \t 1436.0266666666666\n",
            "8 \t 2143.5733333333333\n",
            "9 \t 3052.08\n",
            "10 \t 4186.666666666667\n"
          ]
        }
      ]
    },
    {
      "cell_type": "code",
      "metadata": {
        "id": "pMCr3l8tnu0j"
      },
      "source": [
        ""
      ],
      "execution_count": null,
      "outputs": []
    },
    {
      "cell_type": "markdown",
      "metadata": {
        "id": "z3tBE7E-Xn5X"
      },
      "source": [
        "# Question 4\n",
        "\n",
        "(40 points). In the field of Data Science, data is often formatted as a comma-delimited (CSV) file, where each line in a file corresponds to a field's value. Refer to Chapter 9 (p. 106) for more information on comma-delimited files. To answer this question, you will need to download the file [Assignment1_denton_housing.csv](https://github.com/unt-iialab/info5731-fall2021/blob/main/assignments/Assignment1_denton_housing.csv) included with this assignment. The file [Assignment1_denton_housing.csv](https://github.com/unt-iialab/info5731-fall2021/blob/main/assignments/Assignment1_denton_housing.csv) contains statistics about housing in the city of Denton from 2008 to 2014. Write a program to implement the following questions.\n",
        "\n",
        "(1) (10 pts) Calculate the difference in the number of Occupied Housing Units from year to year and print it. The difference must be calculated for the consecutive years such as 2008-2009, 2009-2010 etc. Finally, print the values in the ascending order.\n",
        "\n",
        "(2) (10 pts) For all the years, calculate the percentage of housing units which are vacant an occupied. Print the results in the following format:\n",
        "\n",
        "Year Vacant Housing Units Occupied Housing Units\n",
        "\n",
        "    2008  30%   70%                          \n",
        "\t2009 ----- -----\n",
        "\t2010 ----- -----\n",
        "    2011 ----- -----\n",
        "\t2012 ----- -----\n",
        "    2013 ----- -----\n",
        "\t2014 ----- -----\n",
        "  \n",
        "  \n",
        "\n",
        "(3) (10 pts) Calculate and print the valued and years in which the highest number of housing units were vacant and occupied. Print the results in the following format:  \n",
        "\n",
        "                              Year\tValue\n",
        "\tVacant Housing Units\t  -----   -----\n",
        "\tOccupied Housing Units\t-----   -----\n",
        "\n",
        "\n",
        "(4) (10 pts) Calculate the harmonic mean of the total housing units and print it out. You can find the information about harmonic mean here: https://ncalculators.com/statistics/harmonic-mean-calculator.htm\n"
      ]
    },
    {
      "cell_type": "code",
      "metadata": {
        "colab": {
          "base_uri": "https://localhost:8080/"
        },
        "id": "8pXWp6kNkqa4",
        "outputId": "987a284d-bff0-499e-f39a-31b15a210f13"
      },
      "source": [
        "# Your code here\n",
        "\n",
        "\n",
        "# Load the Pandas libraries with alias 'pd' \n",
        "import pandas as pd \n",
        "import statistics\n",
        "\n",
        "house_dataset = pd.read_csv(\"Assignment1_denton_housing.csv\") \n",
        "\n",
        "occupied_houses = house_dataset[house_dataset['title_field']=='Occupied Housing Units'].sort_values(by=['year'])\n",
        "\n",
        "cons_houses_diff = [list(occupied_houses['value'].values)[loop1] - list(occupied_houses['value'].values)[loop1+1]\\\n",
        "              for loop1 in range(len(occupied_houses)-1)]\n",
        "\n",
        "cons_houses_diff = sorted(cons_houses_diff)\n",
        "print('\\n\\n-------------Question#1----------------------\\n\\n')\n",
        "print(cons_houses_diff)\n",
        "\n",
        "unique_years = sorted(list(house_dataset['year'].unique()))\n",
        "\n",
        "occupied_houses = house_dataset[house_dataset['title_field'] == 'Occupied Housing Units'].sort_values(by=['year'])\n",
        "vacant_houses = house_dataset[house_dataset['title_field'] == 'Vacant Housing Units'].sort_values(by=['year'])\n",
        "\n",
        "new_house_df = pd.DataFrame()\n",
        "new_house_df['year'] = unique_years\n",
        "\n",
        "new_house_df['Vacant house_dataset'] = vacant_houses['value'].values\n",
        "new_house_df['Occupied house_dataset'] = occupied_houses['value'].values\n",
        "new_house_df['Percent of Vacant house_dataset'] = [(new_house_df['Vacant house_dataset'][loop1] * 100) /\\\n",
        "                                           (new_house_df['Vacant house_dataset'][loop1] + new_house_df['Occupied house_dataset'][loop1])\\\n",
        "                                           for loop1 in range(len(new_house_df))]\n",
        "\n",
        "new_house_df['Percent of Occupied house_dataset'] = [(new_house_df['Occupied house_dataset'][loop1] * 100) /\\\n",
        "                                             (new_house_df['Vacant house_dataset'][loop1] + new_house_df['Occupied house_dataset'][loop1])\\\n",
        "                                             for loop1 in range(len(new_house_df))]\n",
        "print('\\n\\n-------------Question#2----------------------\\n\\n')\n",
        "print(new_house_df)\n",
        "\n",
        "max_vacant_houses = max(house_dataset[house_dataset['title_field'] == 'Vacant Housing Units'].value)\n",
        "vacant_houses = vacant_houses[vacant_houses['value'] == max_vacant_houses]\n",
        "print('\\n\\n-------------Question#3----------------------\\n\\n')\n",
        "\n",
        "max_occuped_houses = max(house_dataset[house_dataset['title_field'] == 'Occupied Housing Units'].value)\n",
        "occupied_houses = occupied_houses[occupied_houses['value'] == max_occuped_houses]\n",
        "print('Vacant Houses: \\n',vacant_houses)\n",
        "print('Occupied Houses: \\n',occupied_houses)\n",
        "\n",
        "print('\\n\\n-------------Question#4----------------------\\n\\n')\n",
        "\n",
        "print('Harmonic Mean: ',statistics.harmonic_mean(list(house_dataset[house_dataset['title_field'] == 'Total Housing Units'].value)))"
      ],
      "execution_count": 5,
      "outputs": [
        {
          "output_type": "stream",
          "name": "stdout",
          "text": [
            "\n",
            "\n",
            "-------------Question#1----------------------\n",
            "\n",
            "\n",
            "[-5091, -2622, -1565, -1404, 303, 795]\n",
            "\n",
            "\n",
            "-------------Question#2----------------------\n",
            "\n",
            "\n",
            "   year  ...  Percent of Occupied house_dataset\n",
            "0  2008  ...                          89.117347\n",
            "1  2009  ...                          90.928884\n",
            "2  2010  ...                          91.857444\n",
            "3  2011  ...                          90.620478\n",
            "4  2012  ...                          93.322400\n",
            "5  2013  ...                          91.198212\n",
            "6  2014  ...                          94.269889\n",
            "\n",
            "[7 rows x 5 columns]\n",
            "\n",
            "\n",
            "-------------Question#3----------------------\n",
            "\n",
            "\n",
            "Vacant Houses: \n",
            "     year           title_field  value\n",
            "19  2008  Vacant Housing Units   4483\n",
            "Occupied Houses: \n",
            "    year             title_field  value\n",
            "2  2014  Occupied Housing Units  46295\n",
            "\n",
            "\n",
            "-------------Question#4----------------------\n",
            "\n",
            "\n",
            "Harmonic Mean:  44398.28543969185\n"
          ]
        }
      ]
    }
  ]
}