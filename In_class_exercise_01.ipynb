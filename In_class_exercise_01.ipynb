{
  "nbformat": 4,
  "nbformat_minor": 0,
  "metadata": {
    "colab": {
      "name": "In_class_exercise_01.ipynb",
      "provenance": [],
      "collapsed_sections": [],
      "include_colab_link": true
    },
    "kernelspec": {
      "display_name": "Python 3",
      "language": "python",
      "name": "python3"
    },
    "language_info": {
      "codemirror_mode": {
        "name": "ipython",
        "version": 3
      },
      "file_extension": ".py",
      "mimetype": "text/x-python",
      "name": "python",
      "nbconvert_exporter": "python",
      "pygments_lexer": "ipython3",
      "version": "3.8.5"
    }
  },
  "cells": [
    {
      "cell_type": "markdown",
      "metadata": {
        "id": "view-in-github",
        "colab_type": "text"
      },
      "source": [
        "<a href=\"https://colab.research.google.com/github/DhatriPriya/DhatriPriya_INFO5731_Fall2021/blob/main/In_class_exercise_01.ipynb\" target=\"_parent\"><img src=\"https://colab.research.google.com/assets/colab-badge.svg\" alt=\"Open In Colab\"/></a>"
      ]
    },
    {
      "cell_type": "markdown",
      "metadata": {
        "id": "DymRJbxDBCnf"
      },
      "source": [
        "# **The first In-class-exercise (09/01/2021, 40 points in total)**"
      ]
    },
    {
      "cell_type": "markdown",
      "metadata": {
        "id": "03jb4GZsBkBS"
      },
      "source": [
        "(1) Write a Python program to calculate the length of a string. (4 points)"
      ]
    },
    {
      "cell_type": "code",
      "metadata": {
        "colab": {
          "base_uri": "https://localhost:8080/"
        },
        "id": "YaGLbSHHB8Ej",
        "outputId": "3119ffc7-924c-4b57-a7ef-8f816924f848"
      },
      "source": [
        "# write your answer here\n",
        "string = 'INFO5731FALL2021'\n",
        "print(len(string))\n"
      ],
      "execution_count": null,
      "outputs": [
        {
          "output_type": "stream",
          "name": "stdout",
          "text": [
            "16\n"
          ]
        }
      ]
    },
    {
      "cell_type": "markdown",
      "metadata": {
        "id": "jJDe71iLB616"
      },
      "source": [
        "(2) Write a Python program to count the number of characters in a string. (4 points)\n",
        "\n",
        "Sample String : 'google.com‘, \n",
        "\n",
        "Expected Result : {'o': 3, 'g': 2, '.': 1, 'e': 1, 'l': 1, 'm': 1, 'c': 1}"
      ]
    },
    {
      "cell_type": "code",
      "metadata": {
        "colab": {
          "base_uri": "https://localhost:8080/"
        },
        "id": "MtKskTzbCLaU",
        "outputId": "7ba3b013-e96d-43e4-ff28-ea15634bb554"
      },
      "source": [
        "# write your answer here\n",
        "\n",
        "string = 'google.com'\n",
        "count = {}  \n",
        "for n in string: \n",
        "   if n in count: \n",
        "      count[n] = count[n] + 1\n",
        "   else: \n",
        "      count[n] = 1\n",
        "print (count)"
      ],
      "execution_count": null,
      "outputs": [
        {
          "output_type": "stream",
          "name": "stdout",
          "text": [
            "{'g': 2, 'o': 3, 'l': 1, 'e': 1, '.': 1, 'c': 1, 'm': 1}\n"
          ]
        }
      ]
    },
    {
      "cell_type": "markdown",
      "metadata": {
        "id": "55W9AMdXCSpV"
      },
      "source": [
        "(3) Write a Python program to sum all the items in a list. (4 points)"
      ]
    },
    {
      "cell_type": "code",
      "metadata": {
        "colab": {
          "base_uri": "https://localhost:8080/"
        },
        "id": "I57NXsauCec2",
        "outputId": "dcbedd30-c471-40e8-bbce-2c4f88a0939d"
      },
      "source": [
        "# write your answer here\n",
        "list = [-10, 2, 6, 9, -2]\n",
        "sum = 0\n",
        "i = len(list)\n",
        "for n in range(i):\n",
        "  sum = sum + list[n]\n",
        "print (sum)"
      ],
      "execution_count": null,
      "outputs": [
        {
          "output_type": "stream",
          "name": "stdout",
          "text": [
            "5\n"
          ]
        }
      ]
    },
    {
      "cell_type": "markdown",
      "metadata": {
        "id": "4ulBZ6yhCi9F"
      },
      "source": [
        "(4) Write a Python program to get a string from a given string where all occurrences of its first char have been changed to '\\$', except the first char itself. (4 points)\n",
        "\n",
        "Sample String : 'restart‘, \n",
        "\n",
        "Expected Result : 'resta\\$t'"
      ]
    },
    {
      "cell_type": "code",
      "metadata": {
        "colab": {
          "base_uri": "https://localhost:8080/"
        },
        "id": "Fj0XhwbBCw2o",
        "outputId": "8559846f-f07c-4290-813b-938beb99e092"
      },
      "source": [
        "# write your answer here\n",
        "string = 'restart'\n",
        "i = len(string)\n",
        "c = string[0]\n",
        "string = string.replace(char, '$')\n",
        "rep = string[1:i]\n",
        "string = char + rep\n",
        "print(string)\n",
        "\n"
      ],
      "execution_count": null,
      "outputs": [
        {
          "output_type": "stream",
          "name": "stdout",
          "text": [
            "resta$t\n"
          ]
        }
      ]
    },
    {
      "cell_type": "markdown",
      "metadata": {
        "id": "_bIP7s1MCzue"
      },
      "source": [
        "(5) Write a program with python which could accept two parameter a and b to calculate and output the result of S, where \n",
        "\n",
        "$\\ S=3.14*(1+a/b)^3$ (4 points)\n",
        "\n"
      ]
    },
    {
      "cell_type": "code",
      "metadata": {
        "colab": {
          "base_uri": "https://localhost:8080/"
        },
        "id": "w79QilHXD3Mg",
        "outputId": "78cc50e9-cbb5-4432-8eb8-0e9052cb7033"
      },
      "source": [
        "# write your answer here\n",
        "S = 0\n",
        "a = float(input(\"a\"))\n",
        "b = float(input(\"b\"))\n",
        "S = S + (3.14 * (1 + a/b)**3)\n",
        "print(S)"
      ],
      "execution_count": null,
      "outputs": [
        {
          "output_type": "stream",
          "name": "stdout",
          "text": [
            "a1\n",
            "b1\n",
            "25.12\n"
          ]
        }
      ]
    },
    {
      "cell_type": "markdown",
      "metadata": {
        "id": "xCa2bK9aD4Q3"
      },
      "source": [
        "(6) Write a Python program to concatenate following dictionaries to create a new one. (4 points)\n",
        "\n",
        "Sample Dictionary : dic1={1:10, 2:20}, dic2={3:30, 4:40}, dic3={5:50,6:60}, \n",
        "\n",
        "Expected Result : {1: 10, 2: 20, 3: 30, 4: 40, 5: 50, 6: 60}\n"
      ]
    },
    {
      "cell_type": "code",
      "metadata": {
        "id": "_z4aLqAbEET1",
        "colab": {
          "base_uri": "https://localhost:8080/"
        },
        "outputId": "3065c64d-3aaf-49cc-b739-d9011a02451b"
      },
      "source": [
        "# write your answer here\n",
        "dic1 = {1:10, 2:20}\n",
        "dic2 = {3:30, 4:40}\n",
        "dic3 = {5:50, 6:60}\n",
        "newdic = {**dic1, **dic2, **dic3}\n",
        "print(newdic)"
      ],
      "execution_count": null,
      "outputs": [
        {
          "output_type": "stream",
          "name": "stdout",
          "text": [
            "{1: 10, 2: 20, 3: 30, 4: 40, 5: 50, 6: 60}\n"
          ]
        }
      ]
    },
    {
      "cell_type": "markdown",
      "metadata": {
        "id": "0v48Vqa7FrQh"
      },
      "source": [
        "(7) Write a Python program to check whether an element exists within a tuple. (4 points)"
      ]
    },
    {
      "cell_type": "code",
      "metadata": {
        "id": "7WEmgq-DF2P1",
        "colab": {
          "base_uri": "https://localhost:8080/"
        },
        "outputId": "f27dca71-03dd-4fda-ac49-cb7c311fdcab"
      },
      "source": [
        "# write your answer here\n",
        "Tuple = (\"I\", \"N\", \"F\", \"O\", 5, 7, 3, 1)\n",
        "if \"N\" in Tuple:\n",
        " print(\"The element N is in Tuple\")\n",
        "else:\n",
        " print(\"The element N is not in the Tuple\")\n"
      ],
      "execution_count": null,
      "outputs": [
        {
          "output_type": "stream",
          "name": "stdout",
          "text": [
            "The element N is in Tuple\n"
          ]
        }
      ]
    },
    {
      "cell_type": "markdown",
      "metadata": {
        "id": "vD5PYLMuGga_"
      },
      "source": [
        "(8) Write a Python program to find maximum and the minimum value in a set. (4 points)"
      ]
    },
    {
      "cell_type": "code",
      "metadata": {
        "id": "t0D5kdJUGjjw",
        "colab": {
          "base_uri": "https://localhost:8080/"
        },
        "outputId": "312c2870-6c89-4e03-9157-793b92616648"
      },
      "source": [
        "# write your answer here\n",
        "set = {1, 4, -1, 10, 35}\n",
        "a = min(set)\n",
        "b = max(set)\n",
        "print(\"Maximum value of the set is : \", b)\n",
        "print(\"Minimum value of the set is : \", a)\n"
      ],
      "execution_count": null,
      "outputs": [
        {
          "output_type": "stream",
          "name": "stdout",
          "text": [
            "Maximum value of the set is :  35\n",
            "Minimum value of the set is :  -1\n"
          ]
        }
      ]
    },
    {
      "cell_type": "markdown",
      "metadata": {
        "id": "uHkd-y5VhVWC"
      },
      "source": [
        "(9) Write a Python program to randomly divide the students in this class into six groups for term projects, each group should have at least 4 students but no more than 6 students (including 6). Here is the students list: (4 points)\n",
        "\n",
        "studnet_list = ['vmb0067','pc0353','snd0097','yye0005','sg0940','bk0301','rak0120','rrk0058','spk0057','vl0135','nm0547','pn0159',\n",
        "           'msp0174','dd0420','ds0761','rs0850','ss1995','at0739','at0768','mv0299','tv0119','dy0091','py0080','ttp0037','hc0439','ri0094','pk0339', 'hn0145','mn0426']"
      ]
    },
    {
      "cell_type": "code",
      "metadata": {
        "id": "3iGbmcOBhTwy"
      },
      "source": [
        "# write your answer here\n"
      ],
      "execution_count": null,
      "outputs": []
    },
    {
      "cell_type": "markdown",
      "metadata": {
        "id": "kCKrV3GPvsYo"
      },
      "source": [
        "(10) Write a Python program to find the duplicate elements in a given array of integers. Return -1 If there are no such elements. (4 points)"
      ]
    },
    {
      "cell_type": "code",
      "metadata": {
        "id": "gY2cRyu0vsYo",
        "colab": {
          "base_uri": "https://localhost:8080/"
        },
        "outputId": "2a0ce6ec-e10e-4f4f-de66-12591d02b993"
      },
      "source": [
        "from array import *\n",
        "arr = [1,2,3,2,5,6,5]\n",
        "n = len(arr)\n",
        "for i in range(0, n):\n",
        "   for j in range(i+1, n):\n",
        "       if(arr[i] == arr[j]):\n",
        "           print(arr[j])\n",
        "       else:\n",
        "           print(-1)"
      ],
      "execution_count": null,
      "outputs": [
        {
          "output_type": "stream",
          "name": "stdout",
          "text": [
            "-1\n",
            "-1\n",
            "-1\n",
            "-1\n",
            "-1\n",
            "-1\n",
            "-1\n",
            "2\n",
            "-1\n",
            "-1\n",
            "-1\n",
            "-1\n",
            "-1\n",
            "-1\n",
            "-1\n",
            "-1\n",
            "-1\n",
            "-1\n",
            "-1\n",
            "5\n",
            "-1\n"
          ]
        }
      ]
    },
    {
      "cell_type": "markdown",
      "metadata": {
        "id": "iPN-r34pvsYp"
      },
      "source": [
        "(11) Write a Python program to select all the Sundays of a specified year. (4 extra points)"
      ]
    },
    {
      "cell_type": "code",
      "metadata": {
        "id": "nMwPa1XevsYq",
        "colab": {
          "base_uri": "https://localhost:8080/"
        },
        "outputId": "0fb4483c-93f6-4290-91a3-13efbfefe436"
      },
      "source": [
        "# write your answer here\n",
        "from datetime import date, timedelta \n",
        "year = 1998\n",
        "stamp = date(year, 1, 1)\n",
        "stamp = stamp + timedelta(days= 7 - stamp.isoweekday()) \n",
        "while stamp.year == year:\n",
        "    print(stamp)\n",
        "    stamp = stamp + timedelta(days=7)"
      ],
      "execution_count": null,
      "outputs": [
        {
          "output_type": "stream",
          "name": "stdout",
          "text": [
            "1998-01-04\n",
            "1998-01-11\n",
            "1998-01-18\n",
            "1998-01-25\n",
            "1998-02-01\n",
            "1998-02-08\n",
            "1998-02-15\n",
            "1998-02-22\n",
            "1998-03-01\n",
            "1998-03-08\n",
            "1998-03-15\n",
            "1998-03-22\n",
            "1998-03-29\n",
            "1998-04-05\n",
            "1998-04-12\n",
            "1998-04-19\n",
            "1998-04-26\n",
            "1998-05-03\n",
            "1998-05-10\n",
            "1998-05-17\n",
            "1998-05-24\n",
            "1998-05-31\n",
            "1998-06-07\n",
            "1998-06-14\n",
            "1998-06-21\n",
            "1998-06-28\n",
            "1998-07-05\n",
            "1998-07-12\n",
            "1998-07-19\n",
            "1998-07-26\n",
            "1998-08-02\n",
            "1998-08-09\n",
            "1998-08-16\n",
            "1998-08-23\n",
            "1998-08-30\n",
            "1998-09-06\n",
            "1998-09-13\n",
            "1998-09-20\n",
            "1998-09-27\n",
            "1998-10-04\n",
            "1998-10-11\n",
            "1998-10-18\n",
            "1998-10-25\n",
            "1998-11-01\n",
            "1998-11-08\n",
            "1998-11-15\n",
            "1998-11-22\n",
            "1998-11-29\n",
            "1998-12-06\n",
            "1998-12-13\n",
            "1998-12-20\n",
            "1998-12-27\n"
          ]
        }
      ]
    }
  ]
}